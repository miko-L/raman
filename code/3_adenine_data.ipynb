{
 "cells": [
  {
   "cell_type": "code",
   "execution_count": 7,
   "metadata": {},
   "outputs": [],
   "source": [
    "import pandas as pd\n",
    "import ramanspy as rp\n",
    "import numpy as np\n",
    "import matplotlib.pyplot as plt"
   ]
  },
  {
   "cell_type": "code",
   "execution_count": 60,
   "metadata": {},
   "outputs": [],
   "source": [
    "import numpy as np\n",
    "import glob\n",
    "\n",
    "# Path to dataset folder\n",
    "folder_path = \"../data/dataset/*.txt\"\n",
    "\n",
    "# Read all text files\n",
    "spectra_data = []\n",
    "for file in sorted(glob.glob(folder_path)):\n",
    "    # print(file)\n",
    "    data = np.loadtxt(file)  # Load text file as a NumPy array\n",
    "    spectra_data.append(data[:, 1])  # Store only the y-values (intensity)\n",
    "\n",
    "# spectra_data\n",
    "# spectra_array = np.array(spectra_data)  # Convert list to 2D NumPy array\n",
    "\n",
    "# print(f\"Loaded {len(spectra_array)} spectra, each with {spectra_array.shape[1]} data points.\")\n"
   ]
  },
  {
   "cell_type": "code",
   "execution_count": 22,
   "metadata": {},
   "outputs": [
    {
     "data": {
      "text/plain": [
       "3516"
      ]
     },
     "execution_count": 22,
     "metadata": {},
     "output_type": "execute_result"
    }
   ],
   "source": [
    "len(sorted(glob.glob(folder_path)))"
   ]
  },
  {
   "cell_type": "code",
   "execution_count": 61,
   "metadata": {},
   "outputs": [
    {
     "name": "stdout",
     "output_type": "stream",
     "text": [
      "Warning: Spectra lengths vary! Min: 568, Max: 15686\n",
      "Loaded 3516 spectra, each with 568 data points.\n"
     ]
    }
   ],
   "source": [
    "import numpy as np\n",
    "import glob\n",
    "\n",
    "# Path to dataset folder\n",
    "folder_path = \"../data/dataset/*.txt\"\n",
    "\n",
    "spectra_data = []\n",
    "lengths = []\n",
    "\n",
    "for file in glob.glob(folder_path):\n",
    "    data = np.loadtxt(file)  # Load text file as a NumPy array\n",
    "    y_values = data[:, 1]  # Extract y-values (intensity)\n",
    "    spectra_data.append(y_values)\n",
    "    lengths.append(len(y_values))\n",
    "\n",
    "# Check if all spectra have the same length\n",
    "min_length = min(lengths)\n",
    "max_length = max(lengths)\n",
    "\n",
    "if min_length != max_length:\n",
    "    print(f\"Warning: Spectra lengths vary! Min: {min_length}, Max: {max_length}\")\n",
    "\n",
    "    # Option 1: Trim all spectra to the shortest length\n",
    "    spectra_data = [s[:min_length] for s in spectra_data]\n",
    "\n",
    "    # Option 2: Pad shorter spectra (uncomment if preferred)\n",
    "    # spectra_data = [np.pad(s, (0, max_length - len(s)), mode='constant') for s in spectra_data]\n",
    "\n",
    "spectra_array = np.array(spectra_data)  # Convert to 2D NumPy array\n",
    "\n",
    "print(f\"Loaded {len(spectra_array)} spectra, each with {spectra_array.shape[1]} data points.\")\n"
   ]
  },
  {
   "cell_type": "code",
   "execution_count": 69,
   "metadata": {},
   "outputs": [
    {
     "data": {
      "text/plain": [
       "(568,)"
      ]
     },
     "execution_count": 69,
     "metadata": {},
     "output_type": "execute_result"
    }
   ],
   "source": [
    "spectra_array[1].shape"
   ]
  },
  {
   "cell_type": "markdown",
   "metadata": {},
   "source": [
    "again but with csv"
   ]
  },
  {
   "cell_type": "code",
   "execution_count": 70,
   "metadata": {},
   "outputs": [
    {
     "name": "stdout",
     "output_type": "stream",
     "text": [
      "Loaded 3516 spectra, each with 534 data points.\n"
     ]
    }
   ],
   "source": [
    "import pandas as pd\n",
    "import numpy as np\n",
    "\n",
    "# Load the CSV file\n",
    "file_path = \"../data/dataset/ILSdata.csv\"\n",
    "data = pd.read_csv(file_path)\n",
    "\n",
    "# Separate metadata and spectra\n",
    "metadata_columns = ['labcode', 'substrate', 'laser', 'method', 'sample', 'type', 'conc', 'batch', 'replica']\n",
    "spectra_data = data.drop(columns=metadata_columns)  # Remove metadata columns to get spectra\n",
    "spectra_data = spectra_data.apply(pd.to_numeric, errors='coerce')  # Convert to numeric, with NAs where necessary\n",
    "\n",
    "# Convert spectra to a NumPy array\n",
    "spectra_array = spectra_data.to_numpy()\n",
    "\n",
    "print(f\"Loaded {spectra_array.shape[0]} spectra, each with {spectra_array.shape[1]} data points.\")\n"
   ]
  },
  {
   "cell_type": "code",
   "execution_count": 71,
   "metadata": {},
   "outputs": [
    {
     "name": "stdout",
     "output_type": "stream",
     "text": [
      "First few column names: Index(['labcode', 'substrate', 'laser', 'method', 'sample', 'type', 'conc',\n",
      "       'batch', 'replica', '400'],\n",
      "      dtype='object')\n",
      "Wavenumber range: 400 to 1999\n"
     ]
    }
   ],
   "source": [
    "import pandas as pd\n",
    "\n",
    "# Load the CSV file\n",
    "file_path = \"../data/dataset/ILSdata.csv\"\n",
    "data = pd.read_csv(file_path)\n",
    "\n",
    "# Print the first few column names\n",
    "print(\"First few column names:\", data.columns[:10])\n",
    "\n",
    "# Extract all spectral column names (wavenumbers)\n",
    "wavenumbers = data.columns[len(['labcode', 'substrate', 'laser', 'method', 'sample', 'type', 'conc', 'batch', 'replica']):]\n",
    "print(\"Wavenumber range:\", wavenumbers[0], \"to\", wavenumbers[-1])\n"
   ]
  },
  {
   "cell_type": "code",
   "execution_count": 72,
   "metadata": {},
   "outputs": [
    {
     "data": {
      "text/html": [
       "<div>\n",
       "<style scoped>\n",
       "    .dataframe tbody tr th:only-of-type {\n",
       "        vertical-align: middle;\n",
       "    }\n",
       "\n",
       "    .dataframe tbody tr th {\n",
       "        vertical-align: top;\n",
       "    }\n",
       "\n",
       "    .dataframe thead th {\n",
       "        text-align: right;\n",
       "    }\n",
       "</style>\n",
       "<table border=\"1\" class=\"dataframe\">\n",
       "  <thead>\n",
       "    <tr style=\"text-align: right;\">\n",
       "      <th></th>\n",
       "      <th>labcode</th>\n",
       "      <th>substrate</th>\n",
       "      <th>laser</th>\n",
       "      <th>method</th>\n",
       "      <th>sample</th>\n",
       "      <th>type</th>\n",
       "      <th>conc</th>\n",
       "      <th>batch</th>\n",
       "      <th>replica</th>\n",
       "      <th>400</th>\n",
       "      <th>...</th>\n",
       "      <th>1972</th>\n",
       "      <th>1975</th>\n",
       "      <th>1978</th>\n",
       "      <th>1981</th>\n",
       "      <th>1984</th>\n",
       "      <th>1987</th>\n",
       "      <th>1990</th>\n",
       "      <th>1993</th>\n",
       "      <th>1996</th>\n",
       "      <th>1999</th>\n",
       "    </tr>\n",
       "  </thead>\n",
       "  <tbody>\n",
       "    <tr>\n",
       "      <th>0</th>\n",
       "      <td>P01</td>\n",
       "      <td>cAg</td>\n",
       "      <td>785</td>\n",
       "      <td>cAg@785</td>\n",
       "      <td>C0</td>\n",
       "      <td>blank</td>\n",
       "      <td>0.0</td>\n",
       "      <td>1</td>\n",
       "      <td>NaN</td>\n",
       "      <td>66533.0</td>\n",
       "      <td>...</td>\n",
       "      <td>31105.0</td>\n",
       "      <td>31086.0</td>\n",
       "      <td>30976.0</td>\n",
       "      <td>30832.0</td>\n",
       "      <td>30520.0</td>\n",
       "      <td>30384.0</td>\n",
       "      <td>30304.0</td>\n",
       "      <td>30478.0</td>\n",
       "      <td>30686.0</td>\n",
       "      <td>30488.0</td>\n",
       "    </tr>\n",
       "    <tr>\n",
       "      <th>1</th>\n",
       "      <td>P01</td>\n",
       "      <td>cAg</td>\n",
       "      <td>785</td>\n",
       "      <td>cAg@785</td>\n",
       "      <td>C0</td>\n",
       "      <td>blank</td>\n",
       "      <td>0.0</td>\n",
       "      <td>2</td>\n",
       "      <td>NaN</td>\n",
       "      <td>95228.0</td>\n",
       "      <td>...</td>\n",
       "      <td>56002.0</td>\n",
       "      <td>56033.0</td>\n",
       "      <td>55679.0</td>\n",
       "      <td>55323.0</td>\n",
       "      <td>55309.0</td>\n",
       "      <td>55120.0</td>\n",
       "      <td>54958.0</td>\n",
       "      <td>55368.0</td>\n",
       "      <td>55632.0</td>\n",
       "      <td>55181.0</td>\n",
       "    </tr>\n",
       "    <tr>\n",
       "      <th>2</th>\n",
       "      <td>P01</td>\n",
       "      <td>cAg</td>\n",
       "      <td>785</td>\n",
       "      <td>cAg@785</td>\n",
       "      <td>C0</td>\n",
       "      <td>blank</td>\n",
       "      <td>0.0</td>\n",
       "      <td>3</td>\n",
       "      <td>NaN</td>\n",
       "      <td>80044.0</td>\n",
       "      <td>...</td>\n",
       "      <td>38771.0</td>\n",
       "      <td>38749.0</td>\n",
       "      <td>38403.0</td>\n",
       "      <td>38072.0</td>\n",
       "      <td>38065.0</td>\n",
       "      <td>37916.0</td>\n",
       "      <td>37802.0</td>\n",
       "      <td>38220.0</td>\n",
       "      <td>38274.0</td>\n",
       "      <td>38075.0</td>\n",
       "    </tr>\n",
       "    <tr>\n",
       "      <th>3</th>\n",
       "      <td>P01</td>\n",
       "      <td>cAg</td>\n",
       "      <td>785</td>\n",
       "      <td>cAg@785</td>\n",
       "      <td>C1</td>\n",
       "      <td>train</td>\n",
       "      <td>0.2</td>\n",
       "      <td>1</td>\n",
       "      <td>NaN</td>\n",
       "      <td>77645.0</td>\n",
       "      <td>...</td>\n",
       "      <td>37098.0</td>\n",
       "      <td>37074.0</td>\n",
       "      <td>36959.0</td>\n",
       "      <td>36881.0</td>\n",
       "      <td>36877.0</td>\n",
       "      <td>36573.0</td>\n",
       "      <td>36300.0</td>\n",
       "      <td>36542.0</td>\n",
       "      <td>36620.0</td>\n",
       "      <td>36446.0</td>\n",
       "    </tr>\n",
       "    <tr>\n",
       "      <th>4</th>\n",
       "      <td>P01</td>\n",
       "      <td>cAg</td>\n",
       "      <td>785</td>\n",
       "      <td>cAg@785</td>\n",
       "      <td>C1</td>\n",
       "      <td>train</td>\n",
       "      <td>0.2</td>\n",
       "      <td>2</td>\n",
       "      <td>NaN</td>\n",
       "      <td>85099.0</td>\n",
       "      <td>...</td>\n",
       "      <td>61930.0</td>\n",
       "      <td>59627.0</td>\n",
       "      <td>59665.0</td>\n",
       "      <td>59420.0</td>\n",
       "      <td>59375.0</td>\n",
       "      <td>59198.0</td>\n",
       "      <td>58705.0</td>\n",
       "      <td>59363.0</td>\n",
       "      <td>59735.0</td>\n",
       "      <td>59254.0</td>\n",
       "    </tr>\n",
       "  </tbody>\n",
       "</table>\n",
       "<p>5 rows × 543 columns</p>\n",
       "</div>"
      ],
      "text/plain": [
       "  labcode substrate  laser   method sample   type  conc  batch replica  \\\n",
       "0     P01       cAg    785  cAg@785     C0  blank   0.0      1     NaN   \n",
       "1     P01       cAg    785  cAg@785     C0  blank   0.0      2     NaN   \n",
       "2     P01       cAg    785  cAg@785     C0  blank   0.0      3     NaN   \n",
       "3     P01       cAg    785  cAg@785     C1  train   0.2      1     NaN   \n",
       "4     P01       cAg    785  cAg@785     C1  train   0.2      2     NaN   \n",
       "\n",
       "       400  ...     1972     1975     1978     1981     1984     1987  \\\n",
       "0  66533.0  ...  31105.0  31086.0  30976.0  30832.0  30520.0  30384.0   \n",
       "1  95228.0  ...  56002.0  56033.0  55679.0  55323.0  55309.0  55120.0   \n",
       "2  80044.0  ...  38771.0  38749.0  38403.0  38072.0  38065.0  37916.0   \n",
       "3  77645.0  ...  37098.0  37074.0  36959.0  36881.0  36877.0  36573.0   \n",
       "4  85099.0  ...  61930.0  59627.0  59665.0  59420.0  59375.0  59198.0   \n",
       "\n",
       "      1990     1993     1996     1999  \n",
       "0  30304.0  30478.0  30686.0  30488.0  \n",
       "1  54958.0  55368.0  55632.0  55181.0  \n",
       "2  37802.0  38220.0  38274.0  38075.0  \n",
       "3  36300.0  36542.0  36620.0  36446.0  \n",
       "4  58705.0  59363.0  59735.0  59254.0  \n",
       "\n",
       "[5 rows x 543 columns]"
      ]
     },
     "execution_count": 72,
     "metadata": {},
     "output_type": "execute_result"
    }
   ],
   "source": [
    "data.head()"
   ]
  },
  {
   "cell_type": "code",
   "execution_count": 73,
   "metadata": {},
   "outputs": [
    {
     "data": {
      "text/plain": [
       "array([3336, 3381, 3516])"
      ]
     },
     "execution_count": 73,
     "metadata": {},
     "output_type": "execute_result"
    }
   ],
   "source": [
    "np.unique(spectra_data.count().values)"
   ]
  },
  {
   "cell_type": "code",
   "execution_count": 76,
   "metadata": {},
   "outputs": [
    {
     "name": "stderr",
     "output_type": "stream",
     "text": [
      "/Users/mitsuko/miniconda3/lib/python3.12/site-packages/keras/src/layers/core/dense.py:87: UserWarning: Do not pass an `input_shape`/`input_dim` argument to a layer. When using Sequential models, prefer using an `Input(shape)` object as the first layer in the model instead.\n",
      "  super().__init__(activity_regularizer=activity_regularizer, **kwargs)\n"
     ]
    },
    {
     "data": {
      "text/html": [
       "<pre style=\"white-space:pre;overflow-x:auto;line-height:normal;font-family:Menlo,'DejaVu Sans Mono',consolas,'Courier New',monospace\"><span style=\"font-weight: bold\">Model: \"sequential_4\"</span>\n",
       "</pre>\n"
      ],
      "text/plain": [
       "\u001b[1mModel: \"sequential_4\"\u001b[0m\n"
      ]
     },
     "metadata": {},
     "output_type": "display_data"
    },
    {
     "data": {
      "text/html": [
       "<pre style=\"white-space:pre;overflow-x:auto;line-height:normal;font-family:Menlo,'DejaVu Sans Mono',consolas,'Courier New',monospace\">┏━━━━━━━━━━━━━━━━━━━━━━━━━━━━━━━━━┳━━━━━━━━━━━━━━━━━━━━━━━━┳━━━━━━━━━━━━━━━┓\n",
       "┃<span style=\"font-weight: bold\"> Layer (type)                    </span>┃<span style=\"font-weight: bold\"> Output Shape           </span>┃<span style=\"font-weight: bold\">       Param # </span>┃\n",
       "┡━━━━━━━━━━━━━━━━━━━━━━━━━━━━━━━━━╇━━━━━━━━━━━━━━━━━━━━━━━━╇━━━━━━━━━━━━━━━┩\n",
       "│ dense_16 (<span style=\"color: #0087ff; text-decoration-color: #0087ff\">Dense</span>)                │ (<span style=\"color: #00d7ff; text-decoration-color: #00d7ff\">None</span>, <span style=\"color: #00af00; text-decoration-color: #00af00\">128</span>)            │        <span style=\"color: #00af00; text-decoration-color: #00af00\">68,480</span> │\n",
       "├─────────────────────────────────┼────────────────────────┼───────────────┤\n",
       "│ dense_17 (<span style=\"color: #0087ff; text-decoration-color: #0087ff\">Dense</span>)                │ (<span style=\"color: #00d7ff; text-decoration-color: #00d7ff\">None</span>, <span style=\"color: #00af00; text-decoration-color: #00af00\">64</span>)             │         <span style=\"color: #00af00; text-decoration-color: #00af00\">8,256</span> │\n",
       "├─────────────────────────────────┼────────────────────────┼───────────────┤\n",
       "│ dropout_4 (<span style=\"color: #0087ff; text-decoration-color: #0087ff\">Dropout</span>)             │ (<span style=\"color: #00d7ff; text-decoration-color: #00d7ff\">None</span>, <span style=\"color: #00af00; text-decoration-color: #00af00\">64</span>)             │             <span style=\"color: #00af00; text-decoration-color: #00af00\">0</span> │\n",
       "├─────────────────────────────────┼────────────────────────┼───────────────┤\n",
       "│ dense_18 (<span style=\"color: #0087ff; text-decoration-color: #0087ff\">Dense</span>)                │ (<span style=\"color: #00d7ff; text-decoration-color: #00d7ff\">None</span>, <span style=\"color: #00af00; text-decoration-color: #00af00\">32</span>)             │         <span style=\"color: #00af00; text-decoration-color: #00af00\">2,080</span> │\n",
       "├─────────────────────────────────┼────────────────────────┼───────────────┤\n",
       "│ dense_19 (<span style=\"color: #0087ff; text-decoration-color: #0087ff\">Dense</span>)                │ (<span style=\"color: #00d7ff; text-decoration-color: #00d7ff\">None</span>, <span style=\"color: #00af00; text-decoration-color: #00af00\">4</span>)              │           <span style=\"color: #00af00; text-decoration-color: #00af00\">132</span> │\n",
       "└─────────────────────────────────┴────────────────────────┴───────────────┘\n",
       "</pre>\n"
      ],
      "text/plain": [
       "┏━━━━━━━━━━━━━━━━━━━━━━━━━━━━━━━━━┳━━━━━━━━━━━━━━━━━━━━━━━━┳━━━━━━━━━━━━━━━┓\n",
       "┃\u001b[1m \u001b[0m\u001b[1mLayer (type)                   \u001b[0m\u001b[1m \u001b[0m┃\u001b[1m \u001b[0m\u001b[1mOutput Shape          \u001b[0m\u001b[1m \u001b[0m┃\u001b[1m \u001b[0m\u001b[1m      Param #\u001b[0m\u001b[1m \u001b[0m┃\n",
       "┡━━━━━━━━━━━━━━━━━━━━━━━━━━━━━━━━━╇━━━━━━━━━━━━━━━━━━━━━━━━╇━━━━━━━━━━━━━━━┩\n",
       "│ dense_16 (\u001b[38;5;33mDense\u001b[0m)                │ (\u001b[38;5;45mNone\u001b[0m, \u001b[38;5;34m128\u001b[0m)            │        \u001b[38;5;34m68,480\u001b[0m │\n",
       "├─────────────────────────────────┼────────────────────────┼───────────────┤\n",
       "│ dense_17 (\u001b[38;5;33mDense\u001b[0m)                │ (\u001b[38;5;45mNone\u001b[0m, \u001b[38;5;34m64\u001b[0m)             │         \u001b[38;5;34m8,256\u001b[0m │\n",
       "├─────────────────────────────────┼────────────────────────┼───────────────┤\n",
       "│ dropout_4 (\u001b[38;5;33mDropout\u001b[0m)             │ (\u001b[38;5;45mNone\u001b[0m, \u001b[38;5;34m64\u001b[0m)             │             \u001b[38;5;34m0\u001b[0m │\n",
       "├─────────────────────────────────┼────────────────────────┼───────────────┤\n",
       "│ dense_18 (\u001b[38;5;33mDense\u001b[0m)                │ (\u001b[38;5;45mNone\u001b[0m, \u001b[38;5;34m32\u001b[0m)             │         \u001b[38;5;34m2,080\u001b[0m │\n",
       "├─────────────────────────────────┼────────────────────────┼───────────────┤\n",
       "│ dense_19 (\u001b[38;5;33mDense\u001b[0m)                │ (\u001b[38;5;45mNone\u001b[0m, \u001b[38;5;34m4\u001b[0m)              │           \u001b[38;5;34m132\u001b[0m │\n",
       "└─────────────────────────────────┴────────────────────────┴───────────────┘\n"
      ]
     },
     "metadata": {},
     "output_type": "display_data"
    },
    {
     "data": {
      "text/html": [
       "<pre style=\"white-space:pre;overflow-x:auto;line-height:normal;font-family:Menlo,'DejaVu Sans Mono',consolas,'Courier New',monospace\"><span style=\"font-weight: bold\"> Total params: </span><span style=\"color: #00af00; text-decoration-color: #00af00\">78,948</span> (308.39 KB)\n",
       "</pre>\n"
      ],
      "text/plain": [
       "\u001b[1m Total params: \u001b[0m\u001b[38;5;34m78,948\u001b[0m (308.39 KB)\n"
      ]
     },
     "metadata": {},
     "output_type": "display_data"
    },
    {
     "data": {
      "text/html": [
       "<pre style=\"white-space:pre;overflow-x:auto;line-height:normal;font-family:Menlo,'DejaVu Sans Mono',consolas,'Courier New',monospace\"><span style=\"font-weight: bold\"> Trainable params: </span><span style=\"color: #00af00; text-decoration-color: #00af00\">78,948</span> (308.39 KB)\n",
       "</pre>\n"
      ],
      "text/plain": [
       "\u001b[1m Trainable params: \u001b[0m\u001b[38;5;34m78,948\u001b[0m (308.39 KB)\n"
      ]
     },
     "metadata": {},
     "output_type": "display_data"
    },
    {
     "data": {
      "text/html": [
       "<pre style=\"white-space:pre;overflow-x:auto;line-height:normal;font-family:Menlo,'DejaVu Sans Mono',consolas,'Courier New',monospace\"><span style=\"font-weight: bold\"> Non-trainable params: </span><span style=\"color: #00af00; text-decoration-color: #00af00\">0</span> (0.00 B)\n",
       "</pre>\n"
      ],
      "text/plain": [
       "\u001b[1m Non-trainable params: \u001b[0m\u001b[38;5;34m0\u001b[0m (0.00 B)\n"
      ]
     },
     "metadata": {},
     "output_type": "display_data"
    },
    {
     "name": "stdout",
     "output_type": "stream",
     "text": [
      "Epoch 1/50\n",
      "\u001b[1m88/88\u001b[0m \u001b[32m━━━━━━━━━━━━━━━━━━━━\u001b[0m\u001b[37m\u001b[0m \u001b[1m1s\u001b[0m 2ms/step - accuracy: 0.5305 - loss: 1.1926 - val_accuracy: 0.6420 - val_loss: 0.9066\n",
      "Epoch 2/50\n",
      "\u001b[1m88/88\u001b[0m \u001b[32m━━━━━━━━━━━━━━━━━━━━\u001b[0m\u001b[37m\u001b[0m \u001b[1m0s\u001b[0m 1ms/step - accuracy: 0.6529 - loss: 0.9008 - val_accuracy: 0.6676 - val_loss: 0.8261\n",
      "Epoch 3/50\n",
      "\u001b[1m88/88\u001b[0m \u001b[32m━━━━━━━━━━━━━━━━━━━━\u001b[0m\u001b[37m\u001b[0m \u001b[1m0s\u001b[0m 1ms/step - accuracy: 0.6763 - loss: 0.8432 - val_accuracy: 0.7131 - val_loss: 0.8043\n",
      "Epoch 4/50\n",
      "\u001b[1m88/88\u001b[0m \u001b[32m━━━━━━━━━━━━━━━━━━━━\u001b[0m\u001b[37m\u001b[0m \u001b[1m0s\u001b[0m 2ms/step - accuracy: 0.7233 - loss: 0.7641 - val_accuracy: 0.7216 - val_loss: 0.7422\n",
      "Epoch 5/50\n",
      "\u001b[1m88/88\u001b[0m \u001b[32m━━━━━━━━━━━━━━━━━━━━\u001b[0m\u001b[37m\u001b[0m \u001b[1m0s\u001b[0m 2ms/step - accuracy: 0.7285 - loss: 0.7115 - val_accuracy: 0.7898 - val_loss: 0.6155\n",
      "Epoch 6/50\n",
      "\u001b[1m88/88\u001b[0m \u001b[32m━━━━━━━━━━━━━━━━━━━━\u001b[0m\u001b[37m\u001b[0m \u001b[1m0s\u001b[0m 2ms/step - accuracy: 0.7685 - loss: 0.6000 - val_accuracy: 0.7869 - val_loss: 0.5660\n",
      "Epoch 7/50\n",
      "\u001b[1m88/88\u001b[0m \u001b[32m━━━━━━━━━━━━━━━━━━━━\u001b[0m\u001b[37m\u001b[0m \u001b[1m0s\u001b[0m 2ms/step - accuracy: 0.7897 - loss: 0.5580 - val_accuracy: 0.8182 - val_loss: 0.5169\n",
      "Epoch 8/50\n",
      "\u001b[1m88/88\u001b[0m \u001b[32m━━━━━━━━━━━━━━━━━━━━\u001b[0m\u001b[37m\u001b[0m \u001b[1m0s\u001b[0m 2ms/step - accuracy: 0.7970 - loss: 0.5175 - val_accuracy: 0.7415 - val_loss: 0.5845\n",
      "Epoch 9/50\n",
      "\u001b[1m88/88\u001b[0m \u001b[32m━━━━━━━━━━━━━━━━━━━━\u001b[0m\u001b[37m\u001b[0m \u001b[1m0s\u001b[0m 1ms/step - accuracy: 0.7937 - loss: 0.5449 - val_accuracy: 0.8324 - val_loss: 0.4460\n",
      "Epoch 10/50\n",
      "\u001b[1m88/88\u001b[0m \u001b[32m━━━━━━━━━━━━━━━━━━━━\u001b[0m\u001b[37m\u001b[0m \u001b[1m0s\u001b[0m 1ms/step - accuracy: 0.8336 - loss: 0.4268 - val_accuracy: 0.7670 - val_loss: 0.5410\n",
      "Epoch 11/50\n",
      "\u001b[1m88/88\u001b[0m \u001b[32m━━━━━━━━━━━━━━━━━━━━\u001b[0m\u001b[37m\u001b[0m \u001b[1m0s\u001b[0m 1ms/step - accuracy: 0.8036 - loss: 0.5029 - val_accuracy: 0.8381 - val_loss: 0.4239\n",
      "Epoch 12/50\n",
      "\u001b[1m88/88\u001b[0m \u001b[32m━━━━━━━━━━━━━━━━━━━━\u001b[0m\u001b[37m\u001b[0m \u001b[1m0s\u001b[0m 1ms/step - accuracy: 0.8416 - loss: 0.4114 - val_accuracy: 0.8494 - val_loss: 0.3631\n",
      "Epoch 13/50\n",
      "\u001b[1m88/88\u001b[0m \u001b[32m━━━━━━━━━━━━━━━━━━━━\u001b[0m\u001b[37m\u001b[0m \u001b[1m0s\u001b[0m 1ms/step - accuracy: 0.8462 - loss: 0.3869 - val_accuracy: 0.8409 - val_loss: 0.3759\n",
      "Epoch 14/50\n",
      "\u001b[1m88/88\u001b[0m \u001b[32m━━━━━━━━━━━━━━━━━━━━\u001b[0m\u001b[37m\u001b[0m \u001b[1m0s\u001b[0m 2ms/step - accuracy: 0.8603 - loss: 0.3494 - val_accuracy: 0.8722 - val_loss: 0.3410\n",
      "Epoch 15/50\n",
      "\u001b[1m88/88\u001b[0m \u001b[32m━━━━━━━━━━━━━━━━━━━━\u001b[0m\u001b[37m\u001b[0m \u001b[1m0s\u001b[0m 1ms/step - accuracy: 0.8718 - loss: 0.3374 - val_accuracy: 0.8665 - val_loss: 0.2935\n",
      "Epoch 16/50\n",
      "\u001b[1m88/88\u001b[0m \u001b[32m━━━━━━━━━━━━━━━━━━━━\u001b[0m\u001b[37m\u001b[0m \u001b[1m0s\u001b[0m 1ms/step - accuracy: 0.8739 - loss: 0.3124 - val_accuracy: 0.9034 - val_loss: 0.2899\n",
      "Epoch 17/50\n",
      "\u001b[1m88/88\u001b[0m \u001b[32m━━━━━━━━━━━━━━━━━━━━\u001b[0m\u001b[37m\u001b[0m \u001b[1m0s\u001b[0m 1ms/step - accuracy: 0.8869 - loss: 0.2990 - val_accuracy: 0.9318 - val_loss: 0.2529\n",
      "Epoch 18/50\n",
      "\u001b[1m88/88\u001b[0m \u001b[32m━━━━━━━━━━━━━━━━━━━━\u001b[0m\u001b[37m\u001b[0m \u001b[1m0s\u001b[0m 2ms/step - accuracy: 0.8983 - loss: 0.2751 - val_accuracy: 0.9403 - val_loss: 0.2149\n",
      "Epoch 19/50\n",
      "\u001b[1m88/88\u001b[0m \u001b[32m━━━━━━━━━━━━━━━━━━━━\u001b[0m\u001b[37m\u001b[0m \u001b[1m0s\u001b[0m 1ms/step - accuracy: 0.9110 - loss: 0.2412 - val_accuracy: 0.9318 - val_loss: 0.2156\n",
      "Epoch 20/50\n",
      "\u001b[1m88/88\u001b[0m \u001b[32m━━━━━━━━━━━━━━━━━━━━\u001b[0m\u001b[37m\u001b[0m \u001b[1m0s\u001b[0m 1ms/step - accuracy: 0.9043 - loss: 0.2579 - val_accuracy: 0.9205 - val_loss: 0.2591\n",
      "Epoch 21/50\n",
      "\u001b[1m88/88\u001b[0m \u001b[32m━━━━━━━━━━━━━━━━━━━━\u001b[0m\u001b[37m\u001b[0m \u001b[1m0s\u001b[0m 2ms/step - accuracy: 0.9165 - loss: 0.2398 - val_accuracy: 0.9347 - val_loss: 0.2220\n",
      "Epoch 22/50\n",
      "\u001b[1m88/88\u001b[0m \u001b[32m━━━━━━━━━━━━━━━━━━━━\u001b[0m\u001b[37m\u001b[0m \u001b[1m0s\u001b[0m 2ms/step - accuracy: 0.9179 - loss: 0.2317 - val_accuracy: 0.9290 - val_loss: 0.2120\n",
      "Epoch 23/50\n",
      "\u001b[1m88/88\u001b[0m \u001b[32m━━━━━━━━━━━━━━━━━━━━\u001b[0m\u001b[37m\u001b[0m \u001b[1m0s\u001b[0m 2ms/step - accuracy: 0.9178 - loss: 0.2278 - val_accuracy: 0.9489 - val_loss: 0.1649\n",
      "Epoch 24/50\n",
      "\u001b[1m88/88\u001b[0m \u001b[32m━━━━━━━━━━━━━━━━━━━━\u001b[0m\u001b[37m\u001b[0m \u001b[1m0s\u001b[0m 2ms/step - accuracy: 0.9322 - loss: 0.1997 - val_accuracy: 0.9574 - val_loss: 0.1724\n",
      "Epoch 25/50\n",
      "\u001b[1m88/88\u001b[0m \u001b[32m━━━━━━━━━━━━━━━━━━━━\u001b[0m\u001b[37m\u001b[0m \u001b[1m0s\u001b[0m 2ms/step - accuracy: 0.9249 - loss: 0.1963 - val_accuracy: 0.9602 - val_loss: 0.1485\n",
      "Epoch 26/50\n",
      "\u001b[1m88/88\u001b[0m \u001b[32m━━━━━━━━━━━━━━━━━━━━\u001b[0m\u001b[37m\u001b[0m \u001b[1m0s\u001b[0m 2ms/step - accuracy: 0.9226 - loss: 0.2118 - val_accuracy: 0.9432 - val_loss: 0.1642\n",
      "Epoch 27/50\n",
      "\u001b[1m88/88\u001b[0m \u001b[32m━━━━━━━━━━━━━━━━━━━━\u001b[0m\u001b[37m\u001b[0m \u001b[1m0s\u001b[0m 2ms/step - accuracy: 0.9240 - loss: 0.1998 - val_accuracy: 0.9574 - val_loss: 0.1466\n",
      "Epoch 28/50\n",
      "\u001b[1m88/88\u001b[0m \u001b[32m━━━━━━━━━━━━━━━━━━━━\u001b[0m\u001b[37m\u001b[0m \u001b[1m0s\u001b[0m 2ms/step - accuracy: 0.9371 - loss: 0.1769 - val_accuracy: 0.9261 - val_loss: 0.1820\n",
      "Epoch 29/50\n",
      "\u001b[1m88/88\u001b[0m \u001b[32m━━━━━━━━━━━━━━━━━━━━\u001b[0m\u001b[37m\u001b[0m \u001b[1m0s\u001b[0m 2ms/step - accuracy: 0.9320 - loss: 0.1852 - val_accuracy: 0.9375 - val_loss: 0.1887\n",
      "Epoch 30/50\n",
      "\u001b[1m88/88\u001b[0m \u001b[32m━━━━━━━━━━━━━━━━━━━━\u001b[0m\u001b[37m\u001b[0m \u001b[1m0s\u001b[0m 2ms/step - accuracy: 0.9295 - loss: 0.1804 - val_accuracy: 0.9574 - val_loss: 0.1229\n",
      "Epoch 31/50\n",
      "\u001b[1m88/88\u001b[0m \u001b[32m━━━━━━━━━━━━━━━━━━━━\u001b[0m\u001b[37m\u001b[0m \u001b[1m0s\u001b[0m 2ms/step - accuracy: 0.9414 - loss: 0.1584 - val_accuracy: 0.9631 - val_loss: 0.1196\n",
      "Epoch 32/50\n",
      "\u001b[1m88/88\u001b[0m \u001b[32m━━━━━━━━━━━━━━━━━━━━\u001b[0m\u001b[37m\u001b[0m \u001b[1m0s\u001b[0m 2ms/step - accuracy: 0.9508 - loss: 0.1538 - val_accuracy: 0.9574 - val_loss: 0.1132\n",
      "Epoch 33/50\n",
      "\u001b[1m88/88\u001b[0m \u001b[32m━━━━━━━━━━━━━━━━━━━━\u001b[0m\u001b[37m\u001b[0m \u001b[1m0s\u001b[0m 2ms/step - accuracy: 0.9430 - loss: 0.1589 - val_accuracy: 0.9659 - val_loss: 0.1101\n",
      "Epoch 34/50\n",
      "\u001b[1m88/88\u001b[0m \u001b[32m━━━━━━━━━━━━━━━━━━━━\u001b[0m\u001b[37m\u001b[0m \u001b[1m0s\u001b[0m 2ms/step - accuracy: 0.9470 - loss: 0.1460 - val_accuracy: 0.9432 - val_loss: 0.1733\n",
      "Epoch 35/50\n",
      "\u001b[1m88/88\u001b[0m \u001b[32m━━━━━━━━━━━━━━━━━━━━\u001b[0m\u001b[37m\u001b[0m \u001b[1m0s\u001b[0m 2ms/step - accuracy: 0.9459 - loss: 0.1458 - val_accuracy: 0.9034 - val_loss: 0.2297\n",
      "Epoch 36/50\n",
      "\u001b[1m88/88\u001b[0m \u001b[32m━━━━━━━━━━━━━━━━━━━━\u001b[0m\u001b[37m\u001b[0m \u001b[1m0s\u001b[0m 2ms/step - accuracy: 0.9197 - loss: 0.2008 - val_accuracy: 0.9659 - val_loss: 0.1139\n",
      "Epoch 37/50\n",
      "\u001b[1m88/88\u001b[0m \u001b[32m━━━━━━━━━━━━━━━━━━━━\u001b[0m\u001b[37m\u001b[0m \u001b[1m0s\u001b[0m 2ms/step - accuracy: 0.9462 - loss: 0.1476 - val_accuracy: 0.9688 - val_loss: 0.1021\n",
      "Epoch 38/50\n",
      "\u001b[1m88/88\u001b[0m \u001b[32m━━━━━━━━━━━━━━━━━━━━\u001b[0m\u001b[37m\u001b[0m \u001b[1m0s\u001b[0m 2ms/step - accuracy: 0.9567 - loss: 0.1369 - val_accuracy: 0.9631 - val_loss: 0.0930\n",
      "Epoch 39/50\n",
      "\u001b[1m88/88\u001b[0m \u001b[32m━━━━━━━━━━━━━━━━━━━━\u001b[0m\u001b[37m\u001b[0m \u001b[1m0s\u001b[0m 2ms/step - accuracy: 0.9544 - loss: 0.1380 - val_accuracy: 0.9688 - val_loss: 0.0979\n",
      "Epoch 40/50\n",
      "\u001b[1m88/88\u001b[0m \u001b[32m━━━━━━━━━━━━━━━━━━━━\u001b[0m\u001b[37m\u001b[0m \u001b[1m0s\u001b[0m 2ms/step - accuracy: 0.9572 - loss: 0.1230 - val_accuracy: 0.9659 - val_loss: 0.0883\n",
      "Epoch 41/50\n",
      "\u001b[1m88/88\u001b[0m \u001b[32m━━━━━━━━━━━━━━━━━━━━\u001b[0m\u001b[37m\u001b[0m \u001b[1m0s\u001b[0m 2ms/step - accuracy: 0.9543 - loss: 0.1181 - val_accuracy: 0.9574 - val_loss: 0.1098\n",
      "Epoch 42/50\n",
      "\u001b[1m88/88\u001b[0m \u001b[32m━━━━━━━━━━━━━━━━━━━━\u001b[0m\u001b[37m\u001b[0m \u001b[1m0s\u001b[0m 2ms/step - accuracy: 0.9562 - loss: 0.1244 - val_accuracy: 0.9688 - val_loss: 0.0924\n",
      "Epoch 43/50\n",
      "\u001b[1m88/88\u001b[0m \u001b[32m━━━━━━━━━━━━━━━━━━━━\u001b[0m\u001b[37m\u001b[0m \u001b[1m0s\u001b[0m 4ms/step - accuracy: 0.9733 - loss: 0.0992 - val_accuracy: 0.9744 - val_loss: 0.0951\n",
      "Epoch 44/50\n",
      "\u001b[1m88/88\u001b[0m \u001b[32m━━━━━━━━━━━━━━━━━━━━\u001b[0m\u001b[37m\u001b[0m \u001b[1m0s\u001b[0m 2ms/step - accuracy: 0.9614 - loss: 0.1112 - val_accuracy: 0.9574 - val_loss: 0.0958\n",
      "Epoch 45/50\n",
      "\u001b[1m88/88\u001b[0m \u001b[32m━━━━━━━━━━━━━━━━━━━━\u001b[0m\u001b[37m\u001b[0m \u001b[1m0s\u001b[0m 2ms/step - accuracy: 0.9598 - loss: 0.1180 - val_accuracy: 0.9744 - val_loss: 0.0724\n",
      "Epoch 46/50\n",
      "\u001b[1m88/88\u001b[0m \u001b[32m━━━━━━━━━━━━━━━━━━━━\u001b[0m\u001b[37m\u001b[0m \u001b[1m0s\u001b[0m 2ms/step - accuracy: 0.9692 - loss: 0.0933 - val_accuracy: 0.9744 - val_loss: 0.0937\n",
      "Epoch 47/50\n",
      "\u001b[1m88/88\u001b[0m \u001b[32m━━━━━━━━━━━━━━━━━━━━\u001b[0m\u001b[37m\u001b[0m \u001b[1m0s\u001b[0m 2ms/step - accuracy: 0.9601 - loss: 0.1045 - val_accuracy: 0.9830 - val_loss: 0.0771\n",
      "Epoch 48/50\n",
      "\u001b[1m88/88\u001b[0m \u001b[32m━━━━━━━━━━━━━━━━━━━━\u001b[0m\u001b[37m\u001b[0m \u001b[1m0s\u001b[0m 2ms/step - accuracy: 0.9729 - loss: 0.1061 - val_accuracy: 0.9688 - val_loss: 0.0829\n",
      "Epoch 49/50\n",
      "\u001b[1m88/88\u001b[0m \u001b[32m━━━━━━━━━━━━━━━━━━━━\u001b[0m\u001b[37m\u001b[0m \u001b[1m0s\u001b[0m 2ms/step - accuracy: 0.9661 - loss: 0.0969 - val_accuracy: 0.9517 - val_loss: 0.1185\n",
      "Epoch 50/50\n",
      "\u001b[1m88/88\u001b[0m \u001b[32m━━━━━━━━━━━━━━━━━━━━\u001b[0m\u001b[37m\u001b[0m \u001b[1m0s\u001b[0m 2ms/step - accuracy: 0.9587 - loss: 0.1310 - val_accuracy: 0.9830 - val_loss: 0.0727\n",
      "\u001b[1m11/11\u001b[0m \u001b[32m━━━━━━━━━━━━━━━━━━━━\u001b[0m\u001b[37m\u001b[0m \u001b[1m0s\u001b[0m 2ms/step - accuracy: 0.9680 - loss: 0.1029 \n",
      "Test Loss: 0.10015392303466797\n",
      "Test Accuracy: 0.9630681872367859\n",
      "\u001b[1m11/11\u001b[0m \u001b[32m━━━━━━━━━━━━━━━━━━━━\u001b[0m\u001b[37m\u001b[0m \u001b[1m0s\u001b[0m 1ms/step \n",
      "Predicted: sAg, Actual: sAg\n",
      "Predicted: cAg, Actual: cAg\n",
      "Predicted: sAu, Actual: sAu\n",
      "Predicted: sAu, Actual: sAu\n",
      "Predicted: sAg, Actual: sAg\n"
     ]
    }
   ],
   "source": [
    "import pandas as pd\n",
    "import numpy as np\n",
    "from sklearn.model_selection import train_test_split\n",
    "from sklearn.preprocessing import StandardScaler, LabelEncoder, MinMaxScaler\n",
    "from tensorflow.keras.models import Sequential\n",
    "from tensorflow.keras.layers import Dense, Dropout\n",
    "from tensorflow.keras.utils import to_categorical\n",
    "from tensorflow.keras.optimizers import Adam\n",
    "\n",
    "# Load the CSV file\n",
    "file_path = \"../data/dataset/ILSdata.csv\"\n",
    "data = pd.read_csv(file_path)\n",
    "\n",
    "# Separate metadata and spectra\n",
    "metadata_columns = ['labcode', 'substrate', 'laser', 'method', 'sample', 'type', 'conc', 'batch', 'replica']\n",
    "spectra_data = data.drop(columns=metadata_columns)  # Remove metadata columns to get spectra\n",
    "spectra_data = spectra_data.apply(pd.to_numeric, errors='coerce')  # Convert to numeric, with NAs where necessary\n",
    "\n",
    "# Convert spectra to a NumPy array\n",
    "spectra_array = spectra_data.to_numpy()\n",
    "\n",
    "# Replace NaN values with 0\n",
    "spectra_array = np.nan_to_num(spectra_array, nan=0.0)\n",
    "\n",
    "# Extract the target variable (substrate)\n",
    "target = data['substrate'].values\n",
    "\n",
    "# Encode the substrate labels into integers\n",
    "label_encoder = LabelEncoder()\n",
    "target_encoded = label_encoder.fit_transform(target)\n",
    "\n",
    "# Convert the encoded labels to one-hot encoding\n",
    "num_classes = len(label_encoder.classes_)\n",
    "target_one_hot = to_categorical(target_encoded, num_classes=num_classes)\n",
    "\n",
    "# Split the data into training (80%), validation (10%), and test (10%) sets\n",
    "X_train, X_temp, y_train, y_temp = train_test_split(spectra_array, target_one_hot, test_size=0.2, random_state=42)\n",
    "X_val, X_test, y_val, y_test = train_test_split(X_temp, y_temp, test_size=0.5, random_state=42)\n",
    "\n",
    "# Standardize the data\n",
    "# scaler = StandardScaler()\n",
    "scaler = MinMaxScaler()\n",
    "X_train = scaler.fit_transform(X_train)\n",
    "X_val = scaler.transform(X_val)\n",
    "X_test = scaler.transform(X_test)\n",
    "\n",
    "# Build the neural network model\n",
    "model = Sequential()\n",
    "\n",
    "# Input layer\n",
    "model.add(Dense(128, input_dim=X_train.shape[1], activation='relu'))\n",
    "\n",
    "# Hidden layers\n",
    "model.add(Dense(64, activation='relu'))\n",
    "model.add(Dropout(0.2))  # Dropout for regularization\n",
    "model.add(Dense(32, activation='relu'))\n",
    "\n",
    "# Output layer (for multi-class classification)\n",
    "model.add(Dense(num_classes, activation='softmax'))\n",
    "\n",
    "# Compile the model with a lower learning rate and gradient clipping\n",
    "model.compile(optimizer=Adam(learning_rate=0.001, clipvalue=1.0), loss='categorical_crossentropy', metrics=['accuracy'])\n",
    "\n",
    "# Print the model summary\n",
    "model.summary()\n",
    "\n",
    "# Train the model\n",
    "history = model.fit(\n",
    "    X_train, y_train,\n",
    "    validation_data=(X_val, y_val),\n",
    "    epochs=50,\n",
    "    batch_size=32,\n",
    "    verbose=1\n",
    ")\n",
    "\n",
    "# Evaluate the model on the test set\n",
    "test_loss, test_accuracy = model.evaluate(X_test, y_test, verbose=1)\n",
    "print(f\"Test Loss: {test_loss}\")\n",
    "print(f\"Test Accuracy: {test_accuracy}\")\n",
    "\n",
    "# Make predictions on the test set\n",
    "predictions = model.predict(X_test)\n",
    "predicted_labels = np.argmax(predictions, axis=1)  # Convert probabilities to class labels\n",
    "\n",
    "# Decode the predicted labels back to substrate names\n",
    "predicted_substrates = label_encoder.inverse_transform(predicted_labels)\n",
    "\n",
    "# Compare predictions with actual values\n",
    "for i in range(5):\n",
    "    print(f\"Predicted: {predicted_substrates[i]}, Actual: {label_encoder.inverse_transform([np.argmax(y_test[i])])[0]}\")"
   ]
  },
  {
   "cell_type": "code",
   "execution_count": 41,
   "metadata": {},
   "outputs": [],
   "source": [
    "# Load the CSV file\n",
    "file_path = \"../data/dataset/ILSdata.csv\"\n",
    "data = pd.read_csv(file_path)\n",
    "\n",
    "# Separate metadata and spectra\n",
    "metadata_columns = ['labcode', 'substrate', 'laser', 'method', 'sample', 'type', 'conc', 'batch', 'replica']\n",
    "spectra_data = data.drop(columns=metadata_columns)  # Remove metadata columns to get spectra\n",
    "spectra_data = spectra_data.apply(pd.to_numeric, errors='coerce')  # Convert to numeric, with NAs where necessary\n",
    "\n",
    "# Convert spectra to a NumPy array\n",
    "spectra_array = spectra_data.to_numpy()\n",
    "\n",
    "# Replace NaN values with 0\n",
    "spectra_array = np.nan_to_num(spectra_array, nan=0.0)\n",
    "\n",
    "# Extract the target variable (substrate)\n",
    "target = data['substrate'].values\n",
    "\n",
    "# Encode the substrate labels into integers\n",
    "label_encoder = LabelEncoder()\n",
    "target_encoded = label_encoder.fit_transform(target)\n",
    "\n",
    "# Convert the encoded labels to one-hot encoding\n",
    "num_classes = len(label_encoder.classes_)\n",
    "target_one_hot = to_categorical(target_encoded, num_classes=num_classes)\n",
    "\n",
    "# Split the data into training (80%), validation (10%), and test (10%) sets\n",
    "X_train, X_temp, y_train, y_temp = train_test_split(spectra_array, target_one_hot, test_size=0.2, random_state=42)\n",
    "X_val, X_test, y_val, y_test = train_test_split(X_temp, y_temp, test_size=0.5, random_state=42)"
   ]
  },
  {
   "cell_type": "code",
   "execution_count": 84,
   "metadata": {},
   "outputs": [
    {
     "name": "stdout",
     "output_type": "stream",
     "text": [
      "Number of nans (27180,) of total 1877544\n"
     ]
    }
   ],
   "source": [
    "spectra_array = spectra_data.to_numpy()\n",
    "print(f\"Number of nans {np.where(np.isnan(spectra_array) == True)[1].shape} of total {spectra_array.shape[0] * spectra_array.shape[1]}\")"
   ]
  },
  {
   "cell_type": "code",
   "execution_count": 77,
   "metadata": {},
   "outputs": [
    {
     "data": {
      "text/plain": [
       "[<matplotlib.lines.Line2D at 0x14e8a0aa0>]"
      ]
     },
     "execution_count": 77,
     "metadata": {},
     "output_type": "execute_result"
    },
    {
     "data": {
      "image/png": "[encoded data removed]",
      "text/plain": [
       "<Figure size 640x480 with 1 Axes>"
      ]
     },
     "metadata": {},
     "output_type": "display_data"
    }
   ],
   "source": [
    "plt.plot(X_test[0])\n",
    "plt.plot(X_test[1])\n",
    "plt.plot(X_test[2])\n",
    "plt.plot(X_test[3])\n",
    "plt.plot(X_test[4])"
   ]
  },
  {
   "cell_type": "code",
   "execution_count": null,
   "metadata": {},
   "outputs": [],
   "source": []
  }
 ],
 "metadata": {
  "kernelspec": {
   "display_name": "base",
   "language": "python",
   "name": "python3"
  },
  "language_info": {
   "codemirror_mode": {
    "name": "ipython",
    "version": 3
   },
   "file_extension": ".py",
   "mimetype": "text/x-python",
   "name": "python",
   "nbconvert_exporter": "python",
   "pygments_lexer": "ipython3",
   "version": "3.12.8"
  }
 },
 "nbformat": 4,
 "nbformat_minor": 2
}
