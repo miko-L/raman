{
 "cells": [
  {
   "cell_type": "markdown",
   "metadata": {},
   "source": [
    "# Title  \n",
    "Hi"
   ]
  },
  {
   "cell_type": "code",
   "execution_count": 15,
   "metadata": {},
   "outputs": [],
   "source": [
    "import pandas as pd\n",
    "import ramanspy as rp\n",
    "import numpy as np\n",
    "import matplotlib.pyplot as plt"
   ]
  },
  {
   "cell_type": "code",
   "execution_count": 16,
   "metadata": {},
   "outputs": [],
   "source": [
    "# downloaded from the Internet\n",
    "df_ruff = rp.datasets.rruff('fair_oriented')"
   ]
  },
  {
   "cell_type": "code",
   "execution_count": null,
   "metadata": {},
   "outputs": [],
   "source": [
    "df_ruff[0][0].plot()\n",
    "df_ruff[1][0]"
   ]
  },
  {
   "cell_type": "code",
   "execution_count": 18,
   "metadata": {},
   "outputs": [
    {
     "data": {
      "text/plain": [
       "array([   2,    6,    8,   10,   13,   16,   19,   23,   28,   30,   32,\n",
       "         35,   38,   42,   44,   46,   57,   61,   63,   65,   68,   71,\n",
       "         73,   76,   79,   81,   85,   90,   92,   94,   99,  104,  106,\n",
       "        109,  111,  114,  116,  118,  120,  125,  127,  130,  134,  136,\n",
       "        139,  141,  143,  147,  150,  157,  161,  163,  166,  168,  171,\n",
       "        175,  177,  179,  181,  183,  185,  187,  190,  195,  200,  206,\n",
       "        208,  210,  216,  224,  229,  234,  236,  241,  244,  248,  250,\n",
       "        252,  256,  259,  261,  268,  271,  276,  280,  283,  285,  289,\n",
       "        291,  293,  295,  298,  304,  307,  312,  316,  318,  321,  324,\n",
       "        327,  330,  335,  342,  344,  368,  379,  382,  384,  389,  392,\n",
       "        405,  407,  409,  413,  425,  428,  437,  439,  441,  446,  449,\n",
       "        454,  456,  463,  466,  472,  479,  486,  490,  493,  497,  500,\n",
       "        503,  505,  509,  511,  514,  517,  519,  522,  525,  527,  529,\n",
       "        531,  533,  536,  539,  542,  546,  549,  551,  553,  555,  557,\n",
       "        559,  565,  567,  569,  576,  579,  582,  585,  588,  590,  594,\n",
       "        596,  602,  605,  607,  609,  613,  616,  618,  622,  624,  631,\n",
       "        633,  636,  642,  648,  651,  654,  657,  663,  666,  671,  673,\n",
       "        677,  679,  683,  688,  690,  694,  696,  703,  706,  709,  714,\n",
       "        716,  718,  721,  724,  727,  731,  734,  738,  740,  743,  746,\n",
       "        749,  753,  757,  759,  763,  765,  769,  772,  775,  777,  780,\n",
       "        783,  785,  787,  789,  794,  797,  802,  805,  808,  811,  813,\n",
       "        815,  817,  819,  821,  823,  825,  828,  830,  832,  834,  839,\n",
       "        841,  844,  847,  849,  852,  856,  859,  861,  865,  871,  874,\n",
       "        877,  879,  882,  884,  886,  888,  891,  893,  896,  899,  902,\n",
       "        905,  908,  912,  914,  916,  918,  922,  925,  927,  930,  932,\n",
       "        935,  937,  939,  943,  946,  949,  951,  955,  959,  961,  965,\n",
       "        968,  971,  974,  976,  979,  981,  985,  989,  992,  994,  996,\n",
       "        998, 1009, 1011, 1013, 1016, 1018, 1024, 1026, 1029, 1031, 1033,\n",
       "       1037, 1040, 1042, 1048, 1050, 1055, 1059, 1062, 1064, 1068, 1070,\n",
       "       1074, 1077, 1082, 1084, 1086, 1092, 1094, 1096, 1101, 1103, 1106,\n",
       "       1108, 1110, 1117, 1119, 1122, 1127, 1129, 1132, 1136, 1140, 1142,\n",
       "       1145, 1148, 1151, 1153, 1156, 1158, 1161, 1163, 1166, 1168, 1172,\n",
       "       1175, 1177, 1179, 1182, 1185, 1189])"
      ]
     },
     "execution_count": 18,
     "metadata": {},
     "output_type": "execute_result"
    }
   ],
   "source": [
    "df_ruff[0][0].peaks()[0]"
   ]
  },
  {
   "cell_type": "code",
   "execution_count": 19,
   "metadata": {},
   "outputs": [],
   "source": [
    "# df = pd.read_csv(\"../data/raman1.csv\", skiprows=1)\n",
    "# df.head()"
   ]
  },
  {
   "cell_type": "markdown",
   "metadata": {},
   "source": [
    "## Bacteria"
   ]
  },
  {
   "cell_type": "markdown",
   "metadata": {},
   "source": [
    "[link to source](https://ramanspy.readthedocs.io/en/latest/datasets.html#bacteria-data)"
   ]
  },
  {
   "cell_type": "code",
   "execution_count": 20,
   "metadata": {},
   "outputs": [],
   "source": [
    "import ramanspy as rp\n",
    "\n",
    "# Load training and testing datasets\n",
    "X_train, y_train = rp.datasets.bacteria(\"train\", folder=\"../data/bacteria/\")\n",
    "X_test, y_test = rp.datasets.bacteria(\"test\", folder=\"../data/bacteria/\")\n",
    "\n",
    "# Load the names of the species and antibiotics corresponding to the 30 classes\n",
    "y_labels, antibiotics_labels = rp.datasets.bacteria(\"labels\")"
   ]
  },
  {
   "cell_type": "code",
   "execution_count": 21,
   "metadata": {},
   "outputs": [
    {
     "data": {
      "text/plain": [
       "60000"
      ]
     },
     "execution_count": 21,
     "metadata": {},
     "output_type": "execute_result"
    }
   ],
   "source": [
    "len(X_train.tolist())"
   ]
  },
  {
   "cell_type": "code",
   "execution_count": null,
   "metadata": {},
   "outputs": [],
   "source": [
    "X_train[0].plot()"
   ]
  },
  {
   "cell_type": "code",
   "execution_count": 23,
   "metadata": {},
   "outputs": [],
   "source": [
    "# X_train.tolist()[0].peaks()"
   ]
  },
  {
   "cell_type": "code",
   "execution_count": 24,
   "metadata": {},
   "outputs": [
    {
     "data": {
      "text/plain": [
       "(array([[0.24007765, 0.14707421, 0.25676307, ..., 0.34318911, 0.30701063,\n",
       "         0.35522984],\n",
       "        [0.23601629, 0.19269395, 0.14759503, ..., 0.24379364, 0.32298293,\n",
       "         0.23345617],\n",
       "        [0.19614416, 0.15016   , 0.0975013 , ..., 0.30361074, 0.28382089,\n",
       "         0.20275288],\n",
       "        ...,\n",
       "        [0.35193382, 0.29672716, 0.40751397, ..., 0.4541858 , 0.30664527,\n",
       "         0.38041554],\n",
       "        [0.46098642, 0.39891844, 0.43850126, ..., 0.20992925, 0.25524518,\n",
       "         0.38186143],\n",
       "        [0.38085587, 0.39855016, 0.68908333, ..., 0.32681815, 0.29174137,\n",
       "         0.37358719]], shape=(60000, 1000)),\n",
       " array([ 0,  0,  0, ..., 29, 29, 29], shape=(60000,)))"
      ]
     },
     "execution_count": 24,
     "metadata": {},
     "output_type": "execute_result"
    }
   ],
   "source": [
    "X_train.spectral_data, y_train"
   ]
  },
  {
   "cell_type": "code",
   "execution_count": 25,
   "metadata": {},
   "outputs": [
    {
     "data": {
      "text/plain": [
       "((60000, 1000), (60000,))"
      ]
     },
     "execution_count": 25,
     "metadata": {},
     "output_type": "execute_result"
    }
   ],
   "source": [
    "X_train.spectral_data.shape, y_train.shape"
   ]
  },
  {
   "cell_type": "code",
   "execution_count": 26,
   "metadata": {},
   "outputs": [
    {
     "data": {
      "text/plain": [
       "[<matplotlib.lines.Line2D at 0x14118a960>]"
      ]
     },
     "execution_count": 26,
     "metadata": {},
     "output_type": "execute_result"
    },
    {
     "data": {
      "image/png": "[encoded data removed]",
      "text/plain": [
       "<Figure size 640x480 with 1 Axes>"
      ]
     },
     "metadata": {},
     "output_type": "display_data"
    }
   ],
   "source": [
    "# X_train[1].spectral_axis\n",
    "# access to the length of the spectral axis\n",
    "# X_train[1].spectral_length\n",
    "plt.plot(X_train[0].spectral_axis, X_train[0].spectral_data)"
   ]
  },
  {
   "cell_type": "code",
   "execution_count": 27,
   "metadata": {},
   "outputs": [
    {
     "data": {
      "text/plain": [
       "['C. albicans',\n",
       " 'C. glabrata',\n",
       " 'K. aerogenes',\n",
       " 'E. coli 1',\n",
       " 'E. coli 2',\n",
       " 'E. faecium',\n",
       " 'E. faecalis 1',\n",
       " 'E. faecalis 2',\n",
       " 'E. cloacae',\n",
       " 'K. pneumoniae 1',\n",
       " 'K. pneumoniae 2',\n",
       " 'P. mirabilis',\n",
       " 'P. aeruginosa 1',\n",
       " 'P. aeruginosa 2',\n",
       " 'MSSA 1',\n",
       " 'MSSA 3',\n",
       " 'MRSA 1 (isogenic)',\n",
       " 'MRSA 2',\n",
       " 'MSSA 2',\n",
       " 'S. enterica',\n",
       " 'S. epidermidis',\n",
       " 'S. lugdunensis',\n",
       " 'S. marcescens',\n",
       " 'S. pneumoniae 2',\n",
       " 'S. pneumoniae 1',\n",
       " 'S. sanguinis',\n",
       " 'Group A Strep.',\n",
       " 'Group B Strep.',\n",
       " 'Group C Strep.',\n",
       " 'Group G Strep.']"
      ]
     },
     "execution_count": 27,
     "metadata": {},
     "output_type": "execute_result"
    }
   ],
   "source": [
    "y_labels"
   ]
  },
  {
   "cell_type": "code",
   "execution_count": null,
   "metadata": {},
   "outputs": [],
   "source": []
  }
 ],
 "metadata": {
  "kernelspec": {
   "display_name": "base",
   "language": "python",
   "name": "python3"
  },
  "language_info": {
   "codemirror_mode": {
    "name": "ipython",
    "version": 3
   },
   "file_extension": ".py",
   "mimetype": "text/x-python",
   "name": "python",
   "nbconvert_exporter": "python",
   "pygments_lexer": "ipython3",
   "version": "3.12.8"
  }
 },
 "nbformat": 4,
 "nbformat_minor": 2
}
