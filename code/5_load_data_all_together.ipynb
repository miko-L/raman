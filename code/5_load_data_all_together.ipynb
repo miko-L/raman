{
 "cells": [
  {
   "cell_type": "code",
   "execution_count": 81,
   "metadata": {},
   "outputs": [
    {
     "name": "stdout",
     "output_type": "stream",
     "text": [
      "ILS Data Columns: Index(['labcode', 'substrate', 'laser', 'method', 'sample', 'type', 'conc',\n",
      "       'batch', 'replica', '400',\n",
      "       ...\n",
      "       '1972', '1975', '1978', '1981', '1984', '1987', '1990', '1993', '1996',\n",
      "       '1999'],\n",
      "      dtype='object', length=543)\n",
      "ILS Data Shape: (3516, 543)\n"
     ]
    }
   ],
   "source": [
    "import pandas as pd\n",
    "import ramanspy as rp\n",
    "import numpy as np\n",
    "import matplotlib.pyplot as plt\n",
    "\n",
    "# Load ILSdata.csv\n",
    "file_path = \"../data/dataset/ILSdata.csv\"\n",
    "ils_data = pd.read_csv(file_path)\n",
    "data = pd.read_csv(file_path)\n",
    "\n",
    "# Inspect the dataset\n",
    "print(\"ILS Data Columns:\", ils_data.columns)\n",
    "print(\"ILS Data Shape:\", ils_data.shape)\n",
    "\n",
    "ils_target = data['substrate'].values"
   ]
  },
  {
   "cell_type": "code",
   "execution_count": 72,
   "metadata": {},
   "outputs": [
    {
     "name": "stdout",
     "output_type": "stream",
     "text": [
      "Shape of spectra_data: (3516, 534)\n"
     ]
    }
   ],
   "source": [
    "import pandas as pd\n",
    "\n",
    "# Load the ILS dataset\n",
    "file_path = \"../data/dataset/ILSdata.csv\"\n",
    "data = pd.read_csv(file_path)\n",
    "\n",
    "# Separate metadata and spectra\n",
    "metadata_columns = ['labcode', 'substrate', 'laser', 'method', 'sample', 'type', 'conc', 'batch', 'replica']\n",
    "spectra_data = data.drop(columns=metadata_columns)\n",
    "\n",
    "# Print the shape of spectra_data\n",
    "print(\"Shape of spectra_data:\", spectra_data.shape)"
   ]
  },
  {
   "cell_type": "code",
   "execution_count": 73,
   "metadata": {},
   "outputs": [
    {
     "name": "stdout",
     "output_type": "stream",
     "text": [
      "First few rows and columns of spectra_data:\n",
      "       400      403      406      409      412      415      418      421  \\\n",
      "0  66533.0  66322.0  66170.0  66073.0  66129.0  66154.0  65938.0  65752.0   \n",
      "1  95228.0  95066.0  94977.0  94967.0  94976.0  94761.0  94734.0  94846.0   \n",
      "2  80044.0  80204.0  80182.0  79995.0  79751.0  79644.0  79693.0  79643.0   \n",
      "3  77645.0  77972.0  77634.0  76632.0  75875.0  75897.0  75800.0  75655.0   \n",
      "4  85099.0  84810.0  85071.0  86000.0  86656.0  85530.0  84496.0  84636.0   \n",
      "\n",
      "       424      427  \n",
      "0  65636.0  65475.0  \n",
      "1  94574.0  94260.0  \n",
      "2  79324.0  79090.0  \n",
      "3  75470.0  75443.0  \n",
      "4  84639.0  84617.0  \n",
      "Number of missing values in spectra_data: 27180\n",
      "Data types of spectra_data columns:\n",
      "400     float64\n",
      "403     float64\n",
      "406     float64\n",
      "409     float64\n",
      "412     float64\n",
      "         ...   \n",
      "1987    float64\n",
      "1990    float64\n",
      "1993    float64\n",
      "1996    float64\n",
      "1999    float64\n",
      "Length: 534, dtype: object\n"
     ]
    }
   ],
   "source": [
    "# Check the first few rows and columns\n",
    "print(\"First few rows and columns of spectra_data:\")\n",
    "print(spectra_data.iloc[:5, :10])  # First 5 rows and first 10 columns\n",
    "\n",
    "# Check for missing values\n",
    "print(\"Number of missing values in spectra_data:\", spectra_data.isna().sum().sum())\n",
    "\n",
    "# Check the data types\n",
    "print(\"Data types of spectra_data columns:\")\n",
    "print(spectra_data.dtypes)"
   ]
  },
  {
   "cell_type": "code",
   "execution_count": 74,
   "metadata": {},
   "outputs": [
    {
     "name": "stdout",
     "output_type": "stream",
     "text": [
      "Extracted wavelengths for ILS dataset: 400      400.0\n",
      "403      403.0\n",
      "406      406.0\n",
      "409      409.0\n",
      "412      412.0\n",
      "         ...  \n",
      "1987    1987.0\n",
      "1990    1990.0\n",
      "1993    1993.0\n",
      "1996    1996.0\n",
      "1999    1999.0\n",
      "Length: 534, dtype: float64\n",
      "Minimum wavelength: 400.0\n",
      "Maximum wavelength: 1999.0\n",
      "Shape of spectra_ils: (3516, 534)\n"
     ]
    }
   ],
   "source": [
    "import re\n",
    "\n",
    "# Extract numeric part from column names\n",
    "original_wavelengths_ils = spectra_data.columns.to_series().apply(lambda x: float(re.findall(r'\\d+', x)[0]))\n",
    "\n",
    "# Print the extracted wavelengths\n",
    "print(\"Extracted wavelengths for ILS dataset:\", original_wavelengths_ils)\n",
    "print(\"Minimum wavelength:\", original_wavelengths_ils.min())\n",
    "print(\"Maximum wavelength:\", original_wavelengths_ils.max())\n",
    "\n",
    "# Convert spectra to a NumPy array\n",
    "spectra_ils = spectra_data.to_numpy()\n",
    "\n",
    "# Print the shape of the NumPy array\n",
    "print(\"Shape of spectra_ils:\", spectra_ils.shape)"
   ]
  },
  {
   "cell_type": "code",
   "execution_count": 75,
   "metadata": {},
   "outputs": [
    {
     "name": "stdout",
     "output_type": "stream",
     "text": [
      "Bacteria Data Shape: (66000, 1000)\n"
     ]
    }
   ],
   "source": [
    "# Load training and testing datasets\n",
    "X_train, y_train = rp.datasets.bacteria(\"train\", folder=\"../data/bacteria/\")\n",
    "X_test, y_test = rp.datasets.bacteria(\"test\", folder=\"../data/bacteria/\")\n",
    "X_val, y_val = rp.datasets.bacteria(\"val\", folder=\"../data/bacteria/\")\n",
    "\n",
    "# Convert to numpy arrays for randomization and PyTorch compatibility\n",
    "X_train_bacteria = np.array(X_train.spectral_data)\n",
    "y_train_bacteria = np.array(y_train)\n",
    "X_test_bacteria = np.array(X_test.spectral_data)\n",
    "y_test_bacteria = np.array(y_test)\n",
    "X_val_bacteria = np.array(X_val.spectral_data)\n",
    "y_val_bacteria = np.array(y_val)\n",
    "\n",
    "# Combine bacteria datasets\n",
    "X_bacteria = np.vstack([X_train_bacteria, X_test_bacteria, X_val_bacteria])\n",
    "\n",
    "# Check the shape\n",
    "print(\"Bacteria Data Shape:\", X_bacteria.shape)"
   ]
  },
  {
   "cell_type": "code",
   "execution_count": 76,
   "metadata": {},
   "outputs": [
    {
     "name": "stdout",
     "output_type": "stream",
     "text": [
      "Type of spectra_wheat: <class 'ramanspy.core.SpectralContainer'>\n",
      "Available attributes and methods: ['__class__', '__delattr__', '__dict__', '__dir__', '__doc__', '__eq__', '__format__', '__ge__', '__getattribute__', '__getitem__', '__getstate__', '__gt__', '__hash__', '__init__', '__init_subclass__', '__le__', '__lt__', '__module__', '__ne__', '__new__', '__reduce__', '__reduce_ex__', '__repr__', '__setattr__', '__sizeof__', '__str__', '__subclasshook__', '__weakref__', 'band', 'flat', 'from_stack', 'load', 'mean', 'save', 'shape', 'spectral_axis', 'spectral_data', 'spectral_length', 'tolist']\n",
      "Shape of spectra_wheat_data: (53134, 1748)\n"
     ]
    }
   ],
   "source": [
    "print(\"Type of spectra_wheat:\", type(spectra_wheat))\n",
    "print(\"Available attributes and methods:\", dir(spectra_wheat))\n",
    "\n",
    "spectra_wheat_data = spectra_wheat.spectral_data\n",
    "\n",
    "print(\"Shape of spectra_wheat_data:\", spectra_wheat_data.shape)"
   ]
  },
  {
   "cell_type": "code",
   "execution_count": 85,
   "metadata": {},
   "outputs": [],
   "source": [
    "from sklearn.model_selection import train_test_split\n",
    "from sklearn.preprocessing import StandardScaler, LabelEncoder\n",
    "from tensorflow.keras.utils import to_categorical\n",
    "\n",
    "# Load the dataset\n",
    "df_wheats = rp.datasets.wheat_lines(file=\"../wheats/Data.mat\")\n",
    "spectra, labels, label_names = df_wheats\n",
    "\n",
    "\n",
    "# Encode the labels into integers\n",
    "label_encoder = LabelEncoder()\n",
    "labels_encoded = label_encoder.fit_transform(labels)\n",
    "\n",
    "# Convert the encoded labels to one-hot encoding\n",
    "num_classes = len(label_encoder.classes_)\n",
    "labels_one_hot = to_categorical(labels_encoded, num_classes=num_classes)"
   ]
  },
  {
   "cell_type": "code",
   "execution_count": 87,
   "metadata": {},
   "outputs": [
    {
     "data": {
      "text/plain": [
       "array([1., 0., 0., 0.])"
      ]
     },
     "execution_count": 87,
     "metadata": {},
     "output_type": "execute_result"
    }
   ],
   "source": [
    "labels_one_hot [0]\n"
   ]
  },
  {
   "cell_type": "code",
   "execution_count": 77,
   "metadata": {},
   "outputs": [
    {
     "name": "stdout",
     "output_type": "stream",
     "text": [
      "ILS Data Shape: (3516, 534)\n",
      "Bacteria Data Shape: (66000, 1000)\n",
      "Wheat Data Shape: (53134,)\n"
     ]
    }
   ],
   "source": [
    "print(\"ILS Data Shape:\", spectra_ils.shape)\n",
    "print(\"Bacteria Data Shape:\", X_bacteria.shape)\n",
    "print(\"Wheat Data Shape:\", spectra_wheat.shape)"
   ]
  },
  {
   "cell_type": "code",
   "execution_count": 78,
   "metadata": {},
   "outputs": [
    {
     "name": "stdout",
     "output_type": "stream",
     "text": [
      "Bacteria Data Shape: (66000, 1000)\n"
     ]
    }
   ],
   "source": [
    "print(\"Bacteria Data Shape:\", X_bacteria.shape)"
   ]
  },
  {
   "cell_type": "code",
   "execution_count": 79,
   "metadata": {},
   "outputs": [
    {
     "ename": "ValueError",
     "evalue": "all the input array dimensions except for the concatenation axis must match exactly, but along dimension 1, the array at index 0 has size 534 and the array at index 1 has size 1000",
     "output_type": "error",
     "traceback": [
      "\u001b[0;31m---------------------------------------------------------------------------\u001b[0m",
      "\u001b[0;31mValueError\u001b[0m                                Traceback (most recent call last)",
      "Cell \u001b[0;32mIn[79], line 13\u001b[0m\n\u001b[1;32m     10\u001b[0m spectra_wheat \u001b[38;5;241m=\u001b[39m spectra_wheat\u001b[38;5;241m.\u001b[39mspectral_data\n\u001b[1;32m     12\u001b[0m \u001b[38;5;66;03m# Combine all spectral data\u001b[39;00m\n\u001b[0;32m---> 13\u001b[0m X_combined \u001b[38;5;241m=\u001b[39m \u001b[43mnp\u001b[49m\u001b[38;5;241;43m.\u001b[39;49m\u001b[43mvstack\u001b[49m\u001b[43m(\u001b[49m\u001b[43m[\u001b[49m\u001b[43mspectra_ils\u001b[49m\u001b[43m,\u001b[49m\u001b[43m \u001b[49m\u001b[43mX_bacteria\u001b[49m\u001b[43m,\u001b[49m\u001b[43m \u001b[49m\u001b[43mspectra_wheat\u001b[49m\u001b[43m]\u001b[49m\u001b[43m)\u001b[49m\n\u001b[1;32m     15\u001b[0m \u001b[38;5;66;03m# Print the combined shape\u001b[39;00m\n\u001b[1;32m     16\u001b[0m \u001b[38;5;28mprint\u001b[39m(\u001b[38;5;124m\"\u001b[39m\u001b[38;5;124mCombined Spectral Data Shape:\u001b[39m\u001b[38;5;124m\"\u001b[39m, X_combined\u001b[38;5;241m.\u001b[39mshape)\n",
      "File \u001b[0;32m~/miniconda3/lib/python3.12/site-packages/numpy/_core/shape_base.py:287\u001b[0m, in \u001b[0;36mvstack\u001b[0;34m(tup, dtype, casting)\u001b[0m\n\u001b[1;32m    285\u001b[0m \u001b[38;5;28;01mif\u001b[39;00m \u001b[38;5;129;01mnot\u001b[39;00m \u001b[38;5;28misinstance\u001b[39m(arrs, \u001b[38;5;28mtuple\u001b[39m):\n\u001b[1;32m    286\u001b[0m     arrs \u001b[38;5;241m=\u001b[39m (arrs,)\n\u001b[0;32m--> 287\u001b[0m \u001b[38;5;28;01mreturn\u001b[39;00m \u001b[43m_nx\u001b[49m\u001b[38;5;241;43m.\u001b[39;49m\u001b[43mconcatenate\u001b[49m\u001b[43m(\u001b[49m\u001b[43marrs\u001b[49m\u001b[43m,\u001b[49m\u001b[43m \u001b[49m\u001b[38;5;241;43m0\u001b[39;49m\u001b[43m,\u001b[49m\u001b[43m \u001b[49m\u001b[43mdtype\u001b[49m\u001b[38;5;241;43m=\u001b[39;49m\u001b[43mdtype\u001b[49m\u001b[43m,\u001b[49m\u001b[43m \u001b[49m\u001b[43mcasting\u001b[49m\u001b[38;5;241;43m=\u001b[39;49m\u001b[43mcasting\u001b[49m\u001b[43m)\u001b[49m\n",
      "\u001b[0;31mValueError\u001b[0m: all the input array dimensions except for the concatenation axis must match exactly, but along dimension 1, the array at index 0 has size 534 and the array at index 1 has size 1000"
     ]
    }
   ],
   "source": [
    "import numpy as np\n",
    "\n",
    "# Define metadata_columns (as you provided)\n",
    "metadata_columns = ['labcode', 'substrate', 'laser', 'method', 'sample', 'type', 'conc', 'batch', 'replica']\n",
    "\n",
    "# Extract spectral data from ILS dataset\n",
    "spectra_ils = data.drop(columns=metadata_columns).to_numpy()\n",
    "\n",
    "# Extract spectral data from wheat dataset\n",
    "spectra_wheat = spectra_wheat.spectral_data\n",
    "\n",
    "# Combine all spectral data\n",
    "X_combined = np.vstack([spectra_ils, X_bacteria, spectra_wheat])\n",
    "\n",
    "# Print the combined shape\n",
    "print(\"Combined Spectral Data Shape:\", X_combined.shape)"
   ]
  },
  {
   "cell_type": "code",
   "execution_count": 35,
   "metadata": {},
   "outputs": [],
   "source": [
    "# Assuming the wavelength values are stored in a separate array or file\n",
    "original_wavelengths_bacteria = np.linspace(250, 2000, X_bacteria.shape[1])  # Example: 250 to 2000 cm⁻¹"
   ]
  },
  {
   "cell_type": "code",
   "execution_count": 40,
   "metadata": {},
   "outputs": [
    {
     "name": "stdout",
     "output_type": "stream",
     "text": [
      "Bacteria Wavenumbers Shape: (1000,)\n",
      "Bacteria Wavenumbers: [1792.4  1791.2  1789.9  1788.6  1787.3  1786.   1784.8  1783.5  1782.2\n",
      " 1780.9  1779.6  1778.3  1777.1  1775.8  1774.5  1773.2  1771.9  1770.6\n",
      " 1769.4  1768.1  1766.8  1765.5  1764.2  1762.9  1761.7  1760.4  1759.1\n",
      " 1757.8  1756.5  1755.2  1753.9  1752.6  1751.3  1750.1  1748.8  1747.5\n",
      " 1746.2  1744.9  1743.6  1742.3  1741.   1739.8  1738.5  1737.2  1735.9\n",
      " 1734.6  1733.3  1732.   1730.7  1729.4  1728.1  1726.8  1725.5  1724.3\n",
      " 1723.   1721.7  1720.4  1719.1  1717.8  1716.5  1715.2  1713.9  1712.6\n",
      " 1711.3  1710.   1708.7  1707.4  1706.1  1704.8  1703.5  1702.2  1701.\n",
      " 1699.7  1698.3  1697.   1695.8  1694.5  1693.2  1691.9  1690.6  1689.3\n",
      " 1688.   1686.7  1685.4  1684.1  1682.8  1681.5  1680.2  1678.9  1677.5\n",
      " 1676.2  1675.   1673.7  1672.3  1671.   1669.7  1668.4  1667.1  1665.8\n",
      " 1664.5  1663.2  1661.9  1660.6  1659.3  1658.   1656.7  1655.4  1654.1\n",
      " 1652.8  1651.5  1650.2  1648.9  1647.5  1646.2  1644.9  1643.6  1642.3\n",
      " 1641.   1639.7  1638.4  1637.1  1635.8  1634.5  1633.2  1631.8  1630.5\n",
      " 1629.2  1627.9  1626.6  1625.3  1624.   1622.7  1621.4  1620.   1618.7\n",
      " 1617.4  1616.1  1614.8  1613.5  1612.2  1610.8  1609.5  1608.2  1606.9\n",
      " 1605.6  1604.3  1603.   1601.6  1600.3  1599.   1597.7  1596.4  1595.1\n",
      " 1593.7  1592.4  1591.1  1589.8  1588.5  1587.2  1585.8  1584.5  1583.2\n",
      " 1581.9  1580.6  1579.2  1577.9  1576.6  1575.3  1574.   1572.6  1571.3\n",
      " 1570.   1568.7  1567.3  1566.   1564.7  1563.4  1562.   1560.7  1559.4\n",
      " 1558.1  1556.8  1555.4  1554.1  1552.8  1551.5  1550.1  1548.8  1547.5\n",
      " 1546.2  1544.8  1543.5  1542.2  1540.8  1539.5  1538.2  1536.9  1535.5\n",
      " 1534.2  1532.9  1531.5  1530.2  1528.9  1527.5  1526.2  1524.9  1523.6\n",
      " 1522.2  1520.9  1519.6  1518.2  1516.9  1515.6  1514.2  1512.9  1511.6\n",
      " 1510.2  1508.9  1507.6  1506.2  1504.9  1503.6  1502.2  1500.9  1499.6\n",
      " 1498.2  1496.9  1495.6  1494.2  1492.9  1491.5  1490.2  1488.9  1487.5\n",
      " 1486.2  1484.9  1483.5  1482.2  1480.8  1479.5  1478.2  1476.8  1475.5\n",
      " 1474.1  1472.8  1471.5  1470.1  1468.8  1467.4  1466.1  1464.8  1463.4\n",
      " 1462.1  1460.7  1459.4  1458.   1456.7  1455.3  1454.   1452.7  1451.3\n",
      " 1450.   1448.6  1447.3  1445.9  1444.6  1443.2  1441.9  1440.6  1439.2\n",
      " 1437.9  1436.5  1435.2  1433.8  1432.5  1431.1  1429.8  1428.4  1427.1\n",
      " 1425.7  1424.4  1423.   1421.7  1420.3  1419.   1417.6  1416.3  1414.9\n",
      " 1413.6  1412.2  1410.9  1409.5  1408.2  1406.8  1405.5  1404.1  1402.8\n",
      " 1401.4  1400.   1398.7  1397.3  1396.   1394.6  1393.3  1391.9  1390.5\n",
      " 1389.2  1387.8  1386.5  1385.1  1383.8  1382.4  1381.   1379.7  1378.3\n",
      " 1377.   1375.6  1374.2  1372.9  1371.5  1370.2  1368.8  1367.5  1366.1\n",
      " 1364.7  1363.4  1362.   1360.7  1359.3  1357.9  1356.6  1355.2  1353.8\n",
      " 1352.5  1351.1  1349.7  1348.4  1347.   1345.7  1344.3  1342.9  1341.5\n",
      " 1340.2  1338.8  1337.5  1336.1  1334.7  1333.3  1332.   1330.6  1329.2\n",
      " 1327.9  1326.5  1325.1  1323.8  1322.4  1321.   1319.7  1318.3  1316.9\n",
      " 1315.5  1314.2  1312.8  1311.4  1310.1  1308.7  1307.3  1306.   1304.6\n",
      " 1303.2  1301.8  1300.5  1299.1  1297.7  1296.3  1295.   1293.6  1292.2\n",
      " 1290.8  1289.5  1288.1  1286.7  1285.3  1284.   1282.6  1281.2  1279.8\n",
      " 1278.4  1277.1  1275.7  1274.3  1272.9  1271.5  1270.2  1268.8  1267.4\n",
      " 1266.   1264.7  1263.3  1261.9  1260.5  1259.1  1257.7  1256.4  1255.\n",
      " 1253.6  1252.2  1250.8  1249.5  1248.1  1246.7  1245.3  1243.9  1242.5\n",
      " 1241.1  1239.8  1238.4  1237.   1235.6  1234.2  1232.8  1231.4  1230.\n",
      " 1228.7  1227.3  1225.9  1224.5  1223.1  1221.7  1220.3  1218.9  1217.5\n",
      " 1216.2  1214.8  1213.4  1212.   1210.6  1209.2  1207.8  1206.4  1205.\n",
      " 1203.6  1202.2  1200.8  1199.5  1198.1  1196.7  1195.3  1193.9  1192.5\n",
      " 1191.1  1189.7  1188.3  1186.9  1185.5  1184.1  1182.7  1181.3  1179.9\n",
      " 1178.5  1177.1  1175.7  1174.3  1172.9  1171.5  1170.1  1168.7  1167.3\n",
      " 1165.9  1164.5  1163.1  1161.7  1160.3  1158.9  1157.5  1156.1  1154.7\n",
      " 1153.3  1151.9  1150.5  1149.1  1147.7  1146.3  1144.9  1143.5  1142.1\n",
      " 1140.7  1139.3  1137.9  1136.5  1135.1  1133.7  1132.3  1130.9  1129.5\n",
      " 1128.   1126.6  1125.2  1123.8  1122.4  1121.   1119.6  1118.2  1116.8\n",
      " 1115.4  1114.   1112.5  1111.1  1109.7  1108.3  1106.9  1105.5  1104.1\n",
      " 1102.7  1101.2  1099.8  1098.4  1097.   1095.6  1094.2  1092.8  1091.4\n",
      " 1089.9  1088.5  1087.1  1085.7  1084.3  1082.9  1081.5  1080.   1078.6\n",
      " 1077.2  1075.8  1074.4  1073.   1071.5  1070.1  1068.7  1067.3  1065.8\n",
      " 1064.4  1063.   1061.6  1060.2  1058.8  1057.3  1055.9  1054.5  1053.1\n",
      " 1051.6  1050.2  1048.8  1047.4  1046.   1044.5  1043.1  1041.7  1040.3\n",
      " 1038.8  1037.4  1036.   1034.6  1033.1  1031.7  1030.3  1028.8  1027.4\n",
      " 1026.   1024.6  1023.1  1021.7  1020.3  1018.9  1017.4  1016.   1014.6\n",
      " 1013.1  1011.7  1010.3  1008.9  1007.4  1006.   1004.6  1003.1  1001.7\n",
      " 1000.3   998.83  997.39  995.96  994.53  993.09  991.66  990.23  988.79\n",
      "  987.35  985.92  984.48  983.05  981.61  980.18  978.74  977.3   975.87\n",
      "  974.43  972.99  971.55  970.12  968.68  967.24  965.8   964.36  962.92\n",
      "  961.48  960.04  958.6   957.16  955.72  954.27  952.83  951.39  949.95\n",
      "  948.51  947.06  945.62  944.18  942.73  941.29  939.85  938.4   936.96\n",
      "  935.51  934.07  932.62  931.17  929.73  928.28  926.83  925.39  923.94\n",
      "  922.49  921.04  919.6   918.15  916.7   915.25  913.8   912.35  910.9\n",
      "  909.45  908.    906.55  905.1   903.65  902.2   900.74  899.29  897.84\n",
      "  896.38  894.93  893.48  892.02  890.57  889.12  887.66  886.21  884.75\n",
      "  883.29  881.84  880.38  878.93  877.47  876.01  874.56  873.1   871.64\n",
      "  870.18  868.72  867.27  865.81  864.35  862.89  861.43  859.97  858.51\n",
      "  857.05  855.59  854.12  852.66  851.2   849.74  848.28  846.82  845.35\n",
      "  843.89  842.42  840.96  839.5   838.03  836.57  835.1   833.64  832.17\n",
      "  830.71  829.24  827.77  826.3   824.84  823.37  821.9   820.43  818.97\n",
      "  817.5   816.03  814.56  813.09  811.62  810.15  808.68  807.21  805.74\n",
      "  804.27  802.8   801.32  799.85  798.38  796.91  795.43  793.96  792.49\n",
      "  791.01  789.54  788.07  786.59  785.11  783.64  782.16  780.69  779.21\n",
      "  777.73  776.26  774.78  773.3   771.83  770.35  768.87  767.39  765.91\n",
      "  764.43  762.95  761.47  759.99  758.51  757.03  755.55  754.07  752.59\n",
      "  751.11  749.62  748.14  746.66  745.18  743.69  742.21  740.72  739.24\n",
      "  737.76  736.27  734.79  733.3   731.82  730.33  728.84  727.36  725.87\n",
      "  724.38  722.89  721.41  719.92  718.43  716.94  715.45  713.96  712.47\n",
      "  710.98  709.49  708.    706.51  705.02  703.53  702.04  700.54  699.05\n",
      "  697.56  696.07  694.57  693.08  691.59  690.09  688.6   687.1   685.61\n",
      "  684.11  682.62  681.12  679.62  678.13  676.63  675.13  673.64  672.14\n",
      "  670.64  669.14  667.64  666.14  664.64  663.15  661.65  660.15  658.65\n",
      "  657.14  655.64  654.14  652.64  651.14  649.64  648.13  646.63  645.13\n",
      "  643.62  642.12  640.62  639.11  637.61  636.1   634.6   633.09  631.59\n",
      "  630.08  628.57  627.07  625.56  624.05  622.54  621.03  619.53  618.02\n",
      "  616.51  615.    613.49  611.98  610.47  608.96  607.45  605.94  604.43\n",
      "  602.91  601.4   599.89  598.38  596.86  595.35  593.84  592.32  590.81\n",
      "  589.29  587.78  586.26  584.75  583.23  581.72  580.2   578.68  577.17\n",
      "  575.65  574.13  572.62  571.1   569.58  568.06  566.54  565.02  563.5\n",
      "  561.98  560.46  558.94  557.42  555.9   554.38  552.85  551.33  549.81\n",
      "  548.29  546.76  545.24  543.72  542.19  540.67  539.14  537.62  536.09\n",
      "  534.57  533.04  531.52  529.99  528.46  526.93  525.41  523.88  522.35\n",
      "  520.82  519.29  517.77  516.24  514.71  513.18  511.65  510.12  508.58\n",
      "  507.05  505.52  503.99  502.46  500.93  499.39  497.86  496.33  494.79\n",
      "  493.26  491.72  490.19  488.65  487.12  485.58  484.05  482.51  480.98\n",
      "  479.44  477.9   476.36  474.83  473.29  471.75  470.21  468.67  467.13\n",
      "  465.59  464.05  462.51  460.97  459.43  457.89  456.35  454.81  453.26\n",
      "  451.72  450.18  448.64  447.09  445.55  444.    442.46  440.92  439.37\n",
      "  437.82  436.28  434.73  433.19  431.64  430.09  428.55  427.    425.45\n",
      "  423.9   422.35  420.81  419.25  417.71  416.16  414.61  413.06  411.51\n",
      "  409.95  408.4   406.85  405.3   403.75  402.19  400.64  399.09  397.53\n",
      "  395.98  394.43  392.87  391.32  389.76  388.21  386.65  385.09  383.54\n",
      "  381.98]\n"
     ]
    }
   ],
   "source": [
    "# Load wavenumbers for the bacteria dataset\n",
    "original_wavelengths_bacteria = np.load(\"../data/bacteria/wavenumbers.npy\")\n",
    "\n",
    "# Check the shape and values\n",
    "print(\"Bacteria Wavenumbers Shape:\", original_wavelengths_bacteria.shape)\n",
    "print(\"Bacteria Wavenumbers:\", original_wavelengths_bacteria)"
   ]
  },
  {
   "cell_type": "code",
   "execution_count": null,
   "metadata": {},
   "outputs": [],
   "source": [
    "import re\n",
    "\n",
    "# Extract numeric part from column names\n",
    "original_wavelengths_ils = spectra_data.columns.to_series().apply(lambda x: float(re.findall(r'\\d+', x)[0]))"
   ]
  },
  {
   "cell_type": "code",
   "execution_count": null,
   "metadata": {},
   "outputs": [],
   "source": [
    "original_wavelengths_ils = spectra_data.columns.astype(float)"
   ]
  },
  {
   "cell_type": "code",
   "execution_count": 54,
   "metadata": {},
   "outputs": [],
   "source": [
    "original_wavelengths_ils = spectra_data.columns.to_series().apply(lambda x: float(re.findall(r'\\d+', x)[0]))"
   ]
  },
  {
   "cell_type": "code",
   "execution_count": 65,
   "metadata": {},
   "outputs": [],
   "source": [
    "# Regenerate original_wavelengths_wheat based on the number of columns in spectra_wheat_data\n",
    "num_wavelengths = spectra_wheat_data.shape[1]\n",
    "original_wavelengths_wheat = np.linspace(250, 2000, num_wavelengths)  # Example range for Raman spectra"
   ]
  },
  {
   "cell_type": "code",
   "execution_count": 66,
   "metadata": {},
   "outputs": [
    {
     "name": "stdout",
     "output_type": "stream",
     "text": [
      "Shape of original_wavelengths_wheat: (1748,)\n",
      "Shape of spectra_wheat_data: (53134, 1748)\n"
     ]
    }
   ],
   "source": [
    "print(\"Shape of original_wavelengths_wheat:\", original_wavelengths_wheat.shape)\n",
    "print(\"Shape of spectra_wheat_data:\", spectra_wheat_data.shape)"
   ]
  },
  {
   "cell_type": "code",
   "execution_count": 67,
   "metadata": {},
   "outputs": [
    {
     "name": "stdout",
     "output_type": "stream",
     "text": [
      "Resized Wheat Data Shape: (53134, 1748)\n"
     ]
    }
   ],
   "source": [
    "# Resize the wheat dataset\n",
    "spectra_wheat_resized = resize_spectra(spectra_wheat_data, original_wavelengths_wheat, target_size)\n",
    "\n",
    "# Print the resized shape\n",
    "print(\"Resized Wheat Data Shape:\", spectra_wheat_resized.shape)"
   ]
  },
  {
   "cell_type": "code",
   "execution_count": 69,
   "metadata": {},
   "outputs": [
    {
     "name": "stdout",
     "output_type": "stream",
     "text": [
      "Resized ILS Data Shape: (3516, 1748)\n",
      "Resized Bacteria Data Shape: (66000, 1748)\n",
      "Resized Wheat Data Shape: (53134, 1748)\n",
      "Combined Resized Spectral Data Shape: (122650, 1748)\n"
     ]
    }
   ],
   "source": [
    "import numpy as np\n",
    "from scipy.interpolate import interp1d\n",
    "import re\n",
    "\n",
    "# Define target size (e.g., size of the largest dataset)\n",
    "target_size = 1748\n",
    "\n",
    "# Function to resize spectra\n",
    "def resize_spectra(spectra, original_wavelengths, target_size):\n",
    "    resized_spectra = []\n",
    "    for spectrum in spectra:\n",
    "        interp_func = interp1d(original_wavelengths, spectrum, kind='linear', fill_value=\"extrapolate\")\n",
    "        new_wavelengths = np.linspace(original_wavelengths.min(), original_wavelengths.max(), target_size)\n",
    "        resized_spectrum = interp_func(new_wavelengths)\n",
    "        resized_spectra.append(resized_spectrum)\n",
    "    return np.array(resized_spectra)\n",
    "\n",
    "# Resize the ILS dataset\n",
    "original_wavelengths_ils = spectra_data.columns.to_series().apply(lambda x: float(re.findall(r'\\d+', x)[0]))\n",
    "spectra_ils_resized = resize_spectra(spectra_ils, original_wavelengths_ils, target_size)\n",
    "print(\"Resized ILS Data Shape:\", spectra_ils_resized.shape)\n",
    "\n",
    "# Resize the bacteria dataset\n",
    "original_wavelengths_bacteria = np.load(\"../data/bacteria/wavenumbers.npy\")\n",
    "X_bacteria_resized = resize_spectra(X_bacteria, original_wavelengths_bacteria, target_size)\n",
    "print(\"Resized Bacteria Data Shape:\", X_bacteria_resized.shape)\n",
    "\n",
    "# Resize the wheat dataset (already done)\n",
    "print(\"Resized Wheat Data Shape:\", spectra_wheat_resized.shape)\n",
    "\n",
    "# Combine resized spectral data\n",
    "X_combined_resized = np.vstack([spectra_ils_resized, X_bacteria_resized, spectra_wheat_resized])\n",
    "\n",
    "# Print the combined resized shape\n",
    "print(\"Combined Resized Spectral Data Shape:\", X_combined_resized.shape)"
   ]
  },
  {
   "cell_type": "code",
   "execution_count": 88,
   "metadata": {},
   "outputs": [
    {
     "ename": "ValueError",
     "evalue": "all the input arrays must have same number of dimensions, but the array at index 0 has 1 dimension(s) and the array at index 2 has 2 dimension(s)",
     "output_type": "error",
     "traceback": [
      "\u001b[0;31m---------------------------------------------------------------------------\u001b[0m",
      "\u001b[0;31mValueError\u001b[0m                                Traceback (most recent call last)",
      "Cell \u001b[0;32mIn[88], line 2\u001b[0m\n\u001b[1;32m      1\u001b[0m \u001b[38;5;66;03m# Combine labels\u001b[39;00m\n\u001b[0;32m----> 2\u001b[0m y_combined \u001b[38;5;241m=\u001b[39m \u001b[43mnp\u001b[49m\u001b[38;5;241;43m.\u001b[39;49m\u001b[43mhstack\u001b[49m\u001b[43m(\u001b[49m\u001b[43m[\u001b[49m\u001b[43mils_target\u001b[49m\u001b[43m,\u001b[49m\u001b[43m \u001b[49m\u001b[43my_bacteria\u001b[49m\u001b[43m,\u001b[49m\u001b[43m \u001b[49m\u001b[43mlabels_one_hot\u001b[49m\u001b[43m]\u001b[49m\u001b[43m)\u001b[49m\n\u001b[1;32m      4\u001b[0m \u001b[38;5;66;03m# Print the combined labels shape\u001b[39;00m\n\u001b[1;32m      5\u001b[0m \u001b[38;5;28mprint\u001b[39m(\u001b[38;5;124m\"\u001b[39m\u001b[38;5;124mCombined Labels Shape:\u001b[39m\u001b[38;5;124m\"\u001b[39m, y_combined\u001b[38;5;241m.\u001b[39mshape)\n",
      "File \u001b[0;32m~/miniconda3/lib/python3.12/site-packages/numpy/_core/shape_base.py:356\u001b[0m, in \u001b[0;36mhstack\u001b[0;34m(tup, dtype, casting)\u001b[0m\n\u001b[1;32m    354\u001b[0m \u001b[38;5;66;03m# As a special case, dimension 0 of 1-dimensional arrays is \"horizontal\"\u001b[39;00m\n\u001b[1;32m    355\u001b[0m \u001b[38;5;28;01mif\u001b[39;00m arrs \u001b[38;5;129;01mand\u001b[39;00m arrs[\u001b[38;5;241m0\u001b[39m]\u001b[38;5;241m.\u001b[39mndim \u001b[38;5;241m==\u001b[39m \u001b[38;5;241m1\u001b[39m:\n\u001b[0;32m--> 356\u001b[0m     \u001b[38;5;28;01mreturn\u001b[39;00m \u001b[43m_nx\u001b[49m\u001b[38;5;241;43m.\u001b[39;49m\u001b[43mconcatenate\u001b[49m\u001b[43m(\u001b[49m\u001b[43marrs\u001b[49m\u001b[43m,\u001b[49m\u001b[43m \u001b[49m\u001b[38;5;241;43m0\u001b[39;49m\u001b[43m,\u001b[49m\u001b[43m \u001b[49m\u001b[43mdtype\u001b[49m\u001b[38;5;241;43m=\u001b[39;49m\u001b[43mdtype\u001b[49m\u001b[43m,\u001b[49m\u001b[43m \u001b[49m\u001b[43mcasting\u001b[49m\u001b[38;5;241;43m=\u001b[39;49m\u001b[43mcasting\u001b[49m\u001b[43m)\u001b[49m\n\u001b[1;32m    357\u001b[0m \u001b[38;5;28;01melse\u001b[39;00m:\n\u001b[1;32m    358\u001b[0m     \u001b[38;5;28;01mreturn\u001b[39;00m _nx\u001b[38;5;241m.\u001b[39mconcatenate(arrs, \u001b[38;5;241m1\u001b[39m, dtype\u001b[38;5;241m=\u001b[39mdtype, casting\u001b[38;5;241m=\u001b[39mcasting)\n",
      "\u001b[0;31mValueError\u001b[0m: all the input arrays must have same number of dimensions, but the array at index 0 has 1 dimension(s) and the array at index 2 has 2 dimension(s)"
     ]
    }
   ],
   "source": [
    "# Combine labels\n",
    "y_combined = np.hstack([ils_target, y_bacteria, labels_one_hot])\n",
    "\n",
    "# Print the combined labels shape\n",
    "print(\"Combined Labels Shape:\", y_combined.shape)"
   ]
  },
  {
   "cell_type": "code",
   "execution_count": null,
   "metadata": {},
   "outputs": [],
   "source": []
  }
 ],
 "metadata": {
  "kernelspec": {
   "display_name": "base",
   "language": "python",
   "name": "python3"
  },
  "language_info": {
   "codemirror_mode": {
    "name": "ipython",
    "version": 3
   },
   "file_extension": ".py",
   "mimetype": "text/x-python",
   "name": "python",
   "nbconvert_exporter": "python",
   "pygments_lexer": "ipython3",
   "version": "3.12.8"
  }
 },
 "nbformat": 4,
 "nbformat_minor": 2
}
