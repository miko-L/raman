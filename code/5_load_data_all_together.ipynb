{
 "cells": [
  {
   "cell_type": "code",
   "execution_count": 1,
   "metadata": {},
   "outputs": [],
   "source": [
    "import pandas as pd\n",
    "import ramanspy as rp\n",
    "import numpy as np\n",
    "import matplotlib.pyplot as plt\n",
    "import re\n",
    "\n",
    "from sklearn.preprocessing import LabelEncoder\n",
    "from tensorflow.keras.utils import to_categorical\n",
    "\n",
    "from scipy.interpolate import interp1d\n",
    "from sklearn.preprocessing import StandardScaler\n",
    "from tensorflow.keras.models import Sequential\n",
    "from tensorflow.keras.layers import Dense, Dropout, BatchNormalization, LeakyReLU\n",
    "from tensorflow.keras.optimizers import Adam\n",
    "from tensorflow.keras.callbacks import ReduceLROnPlateau, EarlyStopping\n",
    "\n",
    "import torch\n",
    "import torch.nn as nn\n",
    "import torch.optim as optim\n",
    "from torch.utils.data import DataLoader, TensorDataset\n",
    "from torch.optim.lr_scheduler import CosineAnnealingLR\n",
    "from sklearn.model_selection import train_test_split"
   ]
  },
  {
   "cell_type": "code",
   "execution_count": 2,
   "metadata": {},
   "outputs": [
    {
     "name": "stdout",
     "output_type": "stream",
     "text": [
      "ILS Data Columns: Index(['labcode', 'substrate', 'laser', 'method', 'sample', 'type', 'conc',\n",
      "       'batch', 'replica', '400',\n",
      "       ...\n",
      "       '1972', '1975', '1978', '1981', '1984', '1987', '1990', '1993', '1996',\n",
      "       '1999'],\n",
      "      dtype='object', length=543)\n",
      "ILS Data Shape: (3516, 543)\n"
     ]
    },
    {
     "data": {
      "text/plain": [
       "array([0.  , 0.  , 0.  , ..., 8.87, 8.87, 8.87])"
      ]
     },
     "execution_count": 2,
     "metadata": {},
     "output_type": "execute_result"
    }
   ],
   "source": [
    "# Load ILSdata.csv\n",
    "file_path = \"../data/dataset/ILSdata.csv\"\n",
    "ils_data = pd.read_csv(file_path)\n",
    "data = pd.read_csv(file_path)\n",
    "\n",
    "# Inspect the dataset\n",
    "print(\"ILS Data Columns:\", ils_data.columns)\n",
    "print(\"ILS Data Shape:\", ils_data.shape)\n",
    "\n",
    "ils_target = data['conc'].values\n",
    "ils_target"
   ]
  },
  {
   "cell_type": "code",
   "execution_count": 3,
   "metadata": {},
   "outputs": [
    {
     "name": "stdout",
     "output_type": "stream",
     "text": [
      "Shape of spectra_data: (3516, 534)\n"
     ]
    }
   ],
   "source": [
    "# Load the ILS dataset\n",
    "file_path = \"../data/dataset/ILSdata.csv\"\n",
    "data = pd.read_csv(file_path)\n",
    "\n",
    "# Separate metadata and spectra\n",
    "metadata_columns = ['labcode', 'substrate', 'laser', 'method', 'sample', 'type', 'conc', 'batch', 'replica']\n",
    "spectra_data = data.drop(columns=metadata_columns)\n",
    "\n",
    "# Separate metadata and spectra\n",
    "metadata_columns = ['labcode', 'substrate', 'laser', 'method', 'sample', 'type', 'conc', 'batch', 'replica']\n",
    "spectra_data = data.drop(columns=metadata_columns)  # Remove metadata columns to get spectra\n",
    "spectra_data = spectra_data.apply(pd.to_numeric, errors='coerce')  # Convert to numeric, with NAs where necessary\n",
    "\n",
    "# Print the shape of spectra_data\n",
    "print(\"Shape of spectra_data:\", spectra_data.shape)\n",
    "\n",
    "# Convert spectra to a NumPy array\n",
    "spectra_array = spectra_data.to_numpy()\n",
    "# Replace NaN values with 0\n",
    "spectra_array = np.nan_to_num(spectra_array, nan=0.0)\n",
    "\n",
    "# Extract the target variable (substrate)\n",
    "target = data['conc'].values\n",
    "# Encode the substrate labels into integers\n",
    "label_encoder = LabelEncoder()\n",
    "target_encoded = label_encoder.fit_transform(target)\n",
    "# Convert the encoded labels to one-hot encoding\n",
    "num_classes = len(label_encoder.classes_)\n",
    "target_one_hot = to_categorical(target_encoded, num_classes=num_classes)"
   ]
  },
  {
   "cell_type": "code",
   "execution_count": 4,
   "metadata": {},
   "outputs": [
    {
     "data": {
      "text/plain": [
       "43"
      ]
     },
     "execution_count": 4,
     "metadata": {},
     "output_type": "execute_result"
    }
   ],
   "source": [
    "num_classes"
   ]
  },
  {
   "cell_type": "code",
   "execution_count": 5,
   "metadata": {},
   "outputs": [
    {
     "name": "stdout",
     "output_type": "stream",
     "text": [
      "First few rows and columns of spectra_data:\n",
      "       400      403      406      409      412      415      418      421  \\\n",
      "0  66533.0  66322.0  66170.0  66073.0  66129.0  66154.0  65938.0  65752.0   \n",
      "1  95228.0  95066.0  94977.0  94967.0  94976.0  94761.0  94734.0  94846.0   \n",
      "2  80044.0  80204.0  80182.0  79995.0  79751.0  79644.0  79693.0  79643.0   \n",
      "3  77645.0  77972.0  77634.0  76632.0  75875.0  75897.0  75800.0  75655.0   \n",
      "4  85099.0  84810.0  85071.0  86000.0  86656.0  85530.0  84496.0  84636.0   \n",
      "\n",
      "       424      427  \n",
      "0  65636.0  65475.0  \n",
      "1  94574.0  94260.0  \n",
      "2  79324.0  79090.0  \n",
      "3  75470.0  75443.0  \n",
      "4  84639.0  84617.0  \n",
      "Number of missing values in spectra_data: 27180\n",
      "Data types of spectra_data columns:\n",
      "400     float64\n",
      "403     float64\n",
      "406     float64\n",
      "409     float64\n",
      "412     float64\n",
      "         ...   \n",
      "1987    float64\n",
      "1990    float64\n",
      "1993    float64\n",
      "1996    float64\n",
      "1999    float64\n",
      "Length: 534, dtype: object\n"
     ]
    }
   ],
   "source": [
    "# Check the first few rows and columns\n",
    "print(\"First few rows and columns of spectra_data:\")\n",
    "print(spectra_data.iloc[:5, :10])  # First 5 rows and first 10 columns\n",
    "\n",
    "# Check for missing values\n",
    "print(\"Number of missing values in spectra_data:\", spectra_data.isna().sum().sum())\n",
    "\n",
    "# Check the data types\n",
    "print(\"Data types of spectra_data columns:\")\n",
    "print(spectra_data.dtypes)"
   ]
  },
  {
   "cell_type": "code",
   "execution_count": 6,
   "metadata": {},
   "outputs": [
    {
     "name": "stdout",
     "output_type": "stream",
     "text": [
      "Extracted wavelengths for ILS dataset: 400      400.0\n",
      "403      403.0\n",
      "406      406.0\n",
      "409      409.0\n",
      "412      412.0\n",
      "         ...  \n",
      "1987    1987.0\n",
      "1990    1990.0\n",
      "1993    1993.0\n",
      "1996    1996.0\n",
      "1999    1999.0\n",
      "Length: 534, dtype: float64\n",
      "Minimum wavelength: 400.0\n",
      "Maximum wavelength: 1999.0\n",
      "Shape of spectra_ils: (3516, 534)\n"
     ]
    }
   ],
   "source": [
    "# Extract numeric part from column names\n",
    "original_wavelengths_ils = spectra_data.columns.to_series().apply(lambda x: float(re.findall(r'\\d+', x)[0]))\n",
    "\n",
    "# Print the extracted wavelengths\n",
    "print(\"Extracted wavelengths for ILS dataset:\", original_wavelengths_ils)\n",
    "print(\"Minimum wavelength:\", original_wavelengths_ils.min())\n",
    "print(\"Maximum wavelength:\", original_wavelengths_ils.max())\n",
    "\n",
    "# Convert spectra to a NumPy array\n",
    "spectra_ils = spectra_data.to_numpy()\n",
    "\n",
    "# Print the shape of the NumPy array\n",
    "print(\"Shape of spectra_ils:\", spectra_ils.shape)"
   ]
  },
  {
   "cell_type": "code",
   "execution_count": 7,
   "metadata": {},
   "outputs": [
    {
     "name": "stdout",
     "output_type": "stream",
     "text": [
      "Bacteria Data Shape: (66000, 1000)\n"
     ]
    }
   ],
   "source": [
    "# Load training and testing datasets\n",
    "X_train, y_train = rp.datasets.bacteria(\"train\", folder=\"../data/bacteria/\")\n",
    "X_test, y_test = rp.datasets.bacteria(\"test\", folder=\"../data/bacteria/\")\n",
    "X_val, y_val = rp.datasets.bacteria(\"val\", folder=\"../data/bacteria/\")\n",
    "\n",
    "# Convert to numpy arrays for randomization and PyTorch compatibility\n",
    "X_train_bacteria = np.array(X_train.spectral_data)\n",
    "y_train_bacteria = np.array(y_train)\n",
    "X_test_bacteria = np.array(X_test.spectral_data)\n",
    "y_test_bacteria = np.array(y_test)\n",
    "X_val_bacteria = np.array(X_val.spectral_data)\n",
    "y_val_bacteria = np.array(y_val)\n",
    "\n",
    "# Combine bacteria datasets\n",
    "X_bacteria = np.vstack([X_train_bacteria, X_test_bacteria, X_val_bacteria])\n",
    "y_bacteria = np.hstack([y_train_bacteria, y_test_bacteria, y_val_bacteria])\n",
    "# Check the shape\n",
    "print(\"Bacteria Data Shape:\", X_bacteria.shape)"
   ]
  },
  {
   "cell_type": "markdown",
   "metadata": {},
   "source": [
    "print(\"Type of spectra_wheat:\", type(spectra_wheat))\n",
    "print(\"Available attributes and methods:\", dir(spectra_wheat))\n",
    "\n",
    "spectra_wheat_data = spectra_wheat.spectral_data\n",
    "\n",
    "print(\"Shape of spectra_wheat_data:\", spectra_wheat_data.shape)"
   ]
  },
  {
   "cell_type": "code",
   "execution_count": 8,
   "metadata": {},
   "outputs": [],
   "source": [
    "# Load the dataset\n",
    "df_wheats = rp.datasets.wheat_lines(file=\"../data/wheats/Data.mat\", download=False)\n",
    "spectra_wheat, labels, label_names = df_wheats\n",
    "\n",
    "spectra_wheat_data = spectra_wheat.spectral_data\n",
    "\n",
    "\n",
    "# Encode the labels into integers\n",
    "label_encoder = LabelEncoder()\n",
    "labels_encoded = label_encoder.fit_transform(labels)\n",
    "\n",
    "# Convert the encoded labels to one-hot encoding\n",
    "num_classes = len(label_encoder.classes_)\n",
    "labels_one_hot = to_categorical(labels_encoded, num_classes=num_classes)"
   ]
  },
  {
   "cell_type": "code",
   "execution_count": 9,
   "metadata": {},
   "outputs": [
    {
     "name": "stdout",
     "output_type": "stream",
     "text": [
      "Type of spectra_wheat: <class 'ramanspy.core.SpectralContainer'>\n",
      "Available attributes and methods: ['__class__', '__delattr__', '__dict__', '__dir__', '__doc__', '__eq__', '__format__', '__ge__', '__getattribute__', '__getitem__', '__getstate__', '__gt__', '__hash__', '__init__', '__init_subclass__', '__le__', '__lt__', '__module__', '__ne__', '__new__', '__reduce__', '__reduce_ex__', '__repr__', '__setattr__', '__sizeof__', '__str__', '__subclasshook__', '__weakref__', 'band', 'flat', 'from_stack', 'load', 'mean', 'save', 'shape', 'spectral_axis', 'spectral_data', 'spectral_length', 'tolist']\n",
      "Shape of spectra_wheat_data: (53134, 1748)\n"
     ]
    }
   ],
   "source": [
    "print(\"Type of spectra_wheat:\", type(spectra_wheat))\n",
    "print(\"Available attributes and methods:\", dir(spectra_wheat))\n",
    "\n",
    "spectra_wheat_data = spectra_wheat.spectral_data\n",
    "\n",
    "print(\"Shape of spectra_wheat_data:\", spectra_wheat_data.shape)"
   ]
  },
  {
   "cell_type": "code",
   "execution_count": 10,
   "metadata": {},
   "outputs": [
    {
     "data": {
      "text/plain": [
       "4"
      ]
     },
     "execution_count": 10,
     "metadata": {},
     "output_type": "execute_result"
    }
   ],
   "source": [
    "num_classes"
   ]
  },
  {
   "cell_type": "code",
   "execution_count": 11,
   "metadata": {},
   "outputs": [
    {
     "data": {
      "text/plain": [
       "array([0, 0, 0, ..., 3, 3, 3])"
      ]
     },
     "execution_count": 11,
     "metadata": {},
     "output_type": "execute_result"
    }
   ],
   "source": [
    "labels_encoded"
   ]
  },
  {
   "cell_type": "code",
   "execution_count": 12,
   "metadata": {},
   "outputs": [
    {
     "data": {
      "text/plain": [
       "array([1., 0., 0., 0.])"
      ]
     },
     "execution_count": 12,
     "metadata": {},
     "output_type": "execute_result"
    }
   ],
   "source": [
    "labels_one_hot[0]\n"
   ]
  },
  {
   "cell_type": "code",
   "execution_count": 13,
   "metadata": {},
   "outputs": [
    {
     "name": "stdout",
     "output_type": "stream",
     "text": [
      "ILS Data Shape: (3516, 534)\n",
      "Bacteria Data Shape: (66000, 1000)\n",
      "Wheat Data Shape: (53134,)\n"
     ]
    }
   ],
   "source": [
    "print(\"ILS Data Shape:\", spectra_ils.shape)\n",
    "print(\"Bacteria Data Shape:\", X_bacteria.shape)\n",
    "print(\"Wheat Data Shape:\", spectra_wheat.shape)"
   ]
  },
  {
   "cell_type": "code",
   "execution_count": 14,
   "metadata": {},
   "outputs": [
    {
     "name": "stdout",
     "output_type": "stream",
     "text": [
      "Bacteria Data Shape: (66000, 1000)\n"
     ]
    }
   ],
   "source": [
    "print(\"Bacteria Data Shape:\", X_bacteria.shape)"
   ]
  },
  {
   "cell_type": "markdown",
   "metadata": {},
   "source": [
    "import numpy as np\n",
    "\n",
    "# Define metadata_columns (as you provided)\n",
    "metadata_columns = ['labcode', 'substrate', 'laser', 'method', 'sample', 'type', 'conc', 'batch', 'replica']\n",
    "\n",
    "# Extract spectral data from ILS dataset\n",
    "spectra_ils = data.drop(columns=metadata_columns).to_numpy()\n",
    "\n",
    "# Extract spectral data from wheat dataset\n",
    "spectra_wheat = spectra_wheat.spectral_data\n",
    "\n",
    "# Combine all spectral data\n",
    "X_combined = np.vstack([spectra_ils, X_bacteria, spectra_wheat])\n",
    "\n",
    "# Print the combined shape\n",
    "print(\"Combined Spectral Data Shape:\", X_combined.shape)"
   ]
  },
  {
   "cell_type": "code",
   "execution_count": 15,
   "metadata": {},
   "outputs": [],
   "source": [
    "# Assuming the wavelength values are stored in a separate array or file\n",
    "original_wavelengths_bacteria = np.linspace(250, 2000, X_bacteria.shape[1])  # Example: 250 to 2000 cm⁻¹"
   ]
  },
  {
   "cell_type": "code",
   "execution_count": 16,
   "metadata": {},
   "outputs": [
    {
     "name": "stdout",
     "output_type": "stream",
     "text": [
      "Bacteria Wavenumbers Shape: (1000,)\n",
      "Bacteria Wavenumbers: [1792.4  1791.2  1789.9  1788.6  1787.3  1786.   1784.8  1783.5  1782.2\n",
      " 1780.9  1779.6  1778.3  1777.1  1775.8  1774.5  1773.2  1771.9  1770.6\n",
      " 1769.4  1768.1  1766.8  1765.5  1764.2  1762.9  1761.7  1760.4  1759.1\n",
      " 1757.8  1756.5  1755.2  1753.9  1752.6  1751.3  1750.1  1748.8  1747.5\n",
      " 1746.2  1744.9  1743.6  1742.3  1741.   1739.8  1738.5  1737.2  1735.9\n",
      " 1734.6  1733.3  1732.   1730.7  1729.4  1728.1  1726.8  1725.5  1724.3\n",
      " 1723.   1721.7  1720.4  1719.1  1717.8  1716.5  1715.2  1713.9  1712.6\n",
      " 1711.3  1710.   1708.7  1707.4  1706.1  1704.8  1703.5  1702.2  1701.\n",
      " 1699.7  1698.3  1697.   1695.8  1694.5  1693.2  1691.9  1690.6  1689.3\n",
      " 1688.   1686.7  1685.4  1684.1  1682.8  1681.5  1680.2  1678.9  1677.5\n",
      " 1676.2  1675.   1673.7  1672.3  1671.   1669.7  1668.4  1667.1  1665.8\n",
      " 1664.5  1663.2  1661.9  1660.6  1659.3  1658.   1656.7  1655.4  1654.1\n",
      " 1652.8  1651.5  1650.2  1648.9  1647.5  1646.2  1644.9  1643.6  1642.3\n",
      " 1641.   1639.7  1638.4  1637.1  1635.8  1634.5  1633.2  1631.8  1630.5\n",
      " 1629.2  1627.9  1626.6  1625.3  1624.   1622.7  1621.4  1620.   1618.7\n",
      " 1617.4  1616.1  1614.8  1613.5  1612.2  1610.8  1609.5  1608.2  1606.9\n",
      " 1605.6  1604.3  1603.   1601.6  1600.3  1599.   1597.7  1596.4  1595.1\n",
      " 1593.7  1592.4  1591.1  1589.8  1588.5  1587.2  1585.8  1584.5  1583.2\n",
      " 1581.9  1580.6  1579.2  1577.9  1576.6  1575.3  1574.   1572.6  1571.3\n",
      " 1570.   1568.7  1567.3  1566.   1564.7  1563.4  1562.   1560.7  1559.4\n",
      " 1558.1  1556.8  1555.4  1554.1  1552.8  1551.5  1550.1  1548.8  1547.5\n",
      " 1546.2  1544.8  1543.5  1542.2  1540.8  1539.5  1538.2  1536.9  1535.5\n",
      " 1534.2  1532.9  1531.5  1530.2  1528.9  1527.5  1526.2  1524.9  1523.6\n",
      " 1522.2  1520.9  1519.6  1518.2  1516.9  1515.6  1514.2  1512.9  1511.6\n",
      " 1510.2  1508.9  1507.6  1506.2  1504.9  1503.6  1502.2  1500.9  1499.6\n",
      " 1498.2  1496.9  1495.6  1494.2  1492.9  1491.5  1490.2  1488.9  1487.5\n",
      " 1486.2  1484.9  1483.5  1482.2  1480.8  1479.5  1478.2  1476.8  1475.5\n",
      " 1474.1  1472.8  1471.5  1470.1  1468.8  1467.4  1466.1  1464.8  1463.4\n",
      " 1462.1  1460.7  1459.4  1458.   1456.7  1455.3  1454.   1452.7  1451.3\n",
      " 1450.   1448.6  1447.3  1445.9  1444.6  1443.2  1441.9  1440.6  1439.2\n",
      " 1437.9  1436.5  1435.2  1433.8  1432.5  1431.1  1429.8  1428.4  1427.1\n",
      " 1425.7  1424.4  1423.   1421.7  1420.3  1419.   1417.6  1416.3  1414.9\n",
      " 1413.6  1412.2  1410.9  1409.5  1408.2  1406.8  1405.5  1404.1  1402.8\n",
      " 1401.4  1400.   1398.7  1397.3  1396.   1394.6  1393.3  1391.9  1390.5\n",
      " 1389.2  1387.8  1386.5  1385.1  1383.8  1382.4  1381.   1379.7  1378.3\n",
      " 1377.   1375.6  1374.2  1372.9  1371.5  1370.2  1368.8  1367.5  1366.1\n",
      " 1364.7  1363.4  1362.   1360.7  1359.3  1357.9  1356.6  1355.2  1353.8\n",
      " 1352.5  1351.1  1349.7  1348.4  1347.   1345.7  1344.3  1342.9  1341.5\n",
      " 1340.2  1338.8  1337.5  1336.1  1334.7  1333.3  1332.   1330.6  1329.2\n",
      " 1327.9  1326.5  1325.1  1323.8  1322.4  1321.   1319.7  1318.3  1316.9\n",
      " 1315.5  1314.2  1312.8  1311.4  1310.1  1308.7  1307.3  1306.   1304.6\n",
      " 1303.2  1301.8  1300.5  1299.1  1297.7  1296.3  1295.   1293.6  1292.2\n",
      " 1290.8  1289.5  1288.1  1286.7  1285.3  1284.   1282.6  1281.2  1279.8\n",
      " 1278.4  1277.1  1275.7  1274.3  1272.9  1271.5  1270.2  1268.8  1267.4\n",
      " 1266.   1264.7  1263.3  1261.9  1260.5  1259.1  1257.7  1256.4  1255.\n",
      " 1253.6  1252.2  1250.8  1249.5  1248.1  1246.7  1245.3  1243.9  1242.5\n",
      " 1241.1  1239.8  1238.4  1237.   1235.6  1234.2  1232.8  1231.4  1230.\n",
      " 1228.7  1227.3  1225.9  1224.5  1223.1  1221.7  1220.3  1218.9  1217.5\n",
      " 1216.2  1214.8  1213.4  1212.   1210.6  1209.2  1207.8  1206.4  1205.\n",
      " 1203.6  1202.2  1200.8  1199.5  1198.1  1196.7  1195.3  1193.9  1192.5\n",
      " 1191.1  1189.7  1188.3  1186.9  1185.5  1184.1  1182.7  1181.3  1179.9\n",
      " 1178.5  1177.1  1175.7  1174.3  1172.9  1171.5  1170.1  1168.7  1167.3\n",
      " 1165.9  1164.5  1163.1  1161.7  1160.3  1158.9  1157.5  1156.1  1154.7\n",
      " 1153.3  1151.9  1150.5  1149.1  1147.7  1146.3  1144.9  1143.5  1142.1\n",
      " 1140.7  1139.3  1137.9  1136.5  1135.1  1133.7  1132.3  1130.9  1129.5\n",
      " 1128.   1126.6  1125.2  1123.8  1122.4  1121.   1119.6  1118.2  1116.8\n",
      " 1115.4  1114.   1112.5  1111.1  1109.7  1108.3  1106.9  1105.5  1104.1\n",
      " 1102.7  1101.2  1099.8  1098.4  1097.   1095.6  1094.2  1092.8  1091.4\n",
      " 1089.9  1088.5  1087.1  1085.7  1084.3  1082.9  1081.5  1080.   1078.6\n",
      " 1077.2  1075.8  1074.4  1073.   1071.5  1070.1  1068.7  1067.3  1065.8\n",
      " 1064.4  1063.   1061.6  1060.2  1058.8  1057.3  1055.9  1054.5  1053.1\n",
      " 1051.6  1050.2  1048.8  1047.4  1046.   1044.5  1043.1  1041.7  1040.3\n",
      " 1038.8  1037.4  1036.   1034.6  1033.1  1031.7  1030.3  1028.8  1027.4\n",
      " 1026.   1024.6  1023.1  1021.7  1020.3  1018.9  1017.4  1016.   1014.6\n",
      " 1013.1  1011.7  1010.3  1008.9  1007.4  1006.   1004.6  1003.1  1001.7\n",
      " 1000.3   998.83  997.39  995.96  994.53  993.09  991.66  990.23  988.79\n",
      "  987.35  985.92  984.48  983.05  981.61  980.18  978.74  977.3   975.87\n",
      "  974.43  972.99  971.55  970.12  968.68  967.24  965.8   964.36  962.92\n",
      "  961.48  960.04  958.6   957.16  955.72  954.27  952.83  951.39  949.95\n",
      "  948.51  947.06  945.62  944.18  942.73  941.29  939.85  938.4   936.96\n",
      "  935.51  934.07  932.62  931.17  929.73  928.28  926.83  925.39  923.94\n",
      "  922.49  921.04  919.6   918.15  916.7   915.25  913.8   912.35  910.9\n",
      "  909.45  908.    906.55  905.1   903.65  902.2   900.74  899.29  897.84\n",
      "  896.38  894.93  893.48  892.02  890.57  889.12  887.66  886.21  884.75\n",
      "  883.29  881.84  880.38  878.93  877.47  876.01  874.56  873.1   871.64\n",
      "  870.18  868.72  867.27  865.81  864.35  862.89  861.43  859.97  858.51\n",
      "  857.05  855.59  854.12  852.66  851.2   849.74  848.28  846.82  845.35\n",
      "  843.89  842.42  840.96  839.5   838.03  836.57  835.1   833.64  832.17\n",
      "  830.71  829.24  827.77  826.3   824.84  823.37  821.9   820.43  818.97\n",
      "  817.5   816.03  814.56  813.09  811.62  810.15  808.68  807.21  805.74\n",
      "  804.27  802.8   801.32  799.85  798.38  796.91  795.43  793.96  792.49\n",
      "  791.01  789.54  788.07  786.59  785.11  783.64  782.16  780.69  779.21\n",
      "  777.73  776.26  774.78  773.3   771.83  770.35  768.87  767.39  765.91\n",
      "  764.43  762.95  761.47  759.99  758.51  757.03  755.55  754.07  752.59\n",
      "  751.11  749.62  748.14  746.66  745.18  743.69  742.21  740.72  739.24\n",
      "  737.76  736.27  734.79  733.3   731.82  730.33  728.84  727.36  725.87\n",
      "  724.38  722.89  721.41  719.92  718.43  716.94  715.45  713.96  712.47\n",
      "  710.98  709.49  708.    706.51  705.02  703.53  702.04  700.54  699.05\n",
      "  697.56  696.07  694.57  693.08  691.59  690.09  688.6   687.1   685.61\n",
      "  684.11  682.62  681.12  679.62  678.13  676.63  675.13  673.64  672.14\n",
      "  670.64  669.14  667.64  666.14  664.64  663.15  661.65  660.15  658.65\n",
      "  657.14  655.64  654.14  652.64  651.14  649.64  648.13  646.63  645.13\n",
      "  643.62  642.12  640.62  639.11  637.61  636.1   634.6   633.09  631.59\n",
      "  630.08  628.57  627.07  625.56  624.05  622.54  621.03  619.53  618.02\n",
      "  616.51  615.    613.49  611.98  610.47  608.96  607.45  605.94  604.43\n",
      "  602.91  601.4   599.89  598.38  596.86  595.35  593.84  592.32  590.81\n",
      "  589.29  587.78  586.26  584.75  583.23  581.72  580.2   578.68  577.17\n",
      "  575.65  574.13  572.62  571.1   569.58  568.06  566.54  565.02  563.5\n",
      "  561.98  560.46  558.94  557.42  555.9   554.38  552.85  551.33  549.81\n",
      "  548.29  546.76  545.24  543.72  542.19  540.67  539.14  537.62  536.09\n",
      "  534.57  533.04  531.52  529.99  528.46  526.93  525.41  523.88  522.35\n",
      "  520.82  519.29  517.77  516.24  514.71  513.18  511.65  510.12  508.58\n",
      "  507.05  505.52  503.99  502.46  500.93  499.39  497.86  496.33  494.79\n",
      "  493.26  491.72  490.19  488.65  487.12  485.58  484.05  482.51  480.98\n",
      "  479.44  477.9   476.36  474.83  473.29  471.75  470.21  468.67  467.13\n",
      "  465.59  464.05  462.51  460.97  459.43  457.89  456.35  454.81  453.26\n",
      "  451.72  450.18  448.64  447.09  445.55  444.    442.46  440.92  439.37\n",
      "  437.82  436.28  434.73  433.19  431.64  430.09  428.55  427.    425.45\n",
      "  423.9   422.35  420.81  419.25  417.71  416.16  414.61  413.06  411.51\n",
      "  409.95  408.4   406.85  405.3   403.75  402.19  400.64  399.09  397.53\n",
      "  395.98  394.43  392.87  391.32  389.76  388.21  386.65  385.09  383.54\n",
      "  381.98]\n"
     ]
    }
   ],
   "source": [
    "# Load wavenumbers for the bacteria dataset\n",
    "original_wavelengths_bacteria = np.load(\"../data/bacteria/wavenumbers.npy\")\n",
    "\n",
    "# Check the shape and values\n",
    "print(\"Bacteria Wavenumbers Shape:\", original_wavelengths_bacteria.shape)\n",
    "print(\"Bacteria Wavenumbers:\", original_wavelengths_bacteria)"
   ]
  },
  {
   "cell_type": "code",
   "execution_count": 17,
   "metadata": {},
   "outputs": [],
   "source": [
    "# Extract numeric part from column names\n",
    "original_wavelengths_ils = spectra_data.columns.to_series().apply(lambda x: float(re.findall(r'\\d+', x)[0]))"
   ]
  },
  {
   "cell_type": "code",
   "execution_count": 18,
   "metadata": {},
   "outputs": [],
   "source": [
    "original_wavelengths_ils = spectra_data.columns.astype(float)"
   ]
  },
  {
   "cell_type": "code",
   "execution_count": 19,
   "metadata": {},
   "outputs": [],
   "source": [
    "original_wavelengths_ils = spectra_data.columns.to_series().apply(lambda x: float(re.findall(r'\\d+', x)[0]))"
   ]
  },
  {
   "cell_type": "code",
   "execution_count": 20,
   "metadata": {},
   "outputs": [],
   "source": [
    "# Regenerate original_wavelengths_wheat based on the number of columns in spectra_wheat_data\n",
    "num_wavelengths = spectra_wheat_data.shape[1]\n",
    "original_wavelengths_wheat = np.linspace(250, 2000, num_wavelengths)  # Example range for Raman spectra"
   ]
  },
  {
   "cell_type": "code",
   "execution_count": 21,
   "metadata": {},
   "outputs": [
    {
     "name": "stdout",
     "output_type": "stream",
     "text": [
      "Shape of original_wavelengths_wheat: (1748,)\n",
      "Shape of spectra_wheat_data: (53134, 1748)\n"
     ]
    }
   ],
   "source": [
    "print(\"Shape of original_wavelengths_wheat:\", original_wavelengths_wheat.shape)\n",
    "print(\"Shape of spectra_wheat_data:\", spectra_wheat_data.shape)"
   ]
  },
  {
   "cell_type": "code",
   "execution_count": 23,
   "metadata": {},
   "outputs": [
    {
     "name": "stdout",
     "output_type": "stream",
     "text": [
      "Resized ILS Data Shape: (3516, 1748)\n",
      "Resized Bacteria Data Shape: (66000, 1748)\n",
      "Resized Wheat Data Shape: (53134, 1748)\n",
      "Combined Resized Spectral Data Shape: (122650, 1748)\n"
     ]
    }
   ],
   "source": [
    "# Define target size (e.g., size of the largest dataset)\n",
    "target_size = 1748\n",
    "\n",
    "# Function to resize spectra\n",
    "def resize_spectra(spectra, original_wavelengths, target_size):\n",
    "    resized_spectra = []\n",
    "    for spectrum in spectra:\n",
    "        interp_func = interp1d(original_wavelengths, spectrum, kind='linear', fill_value=\"extrapolate\")\n",
    "        new_wavelengths = np.linspace(original_wavelengths.min(), original_wavelengths.max(), target_size)\n",
    "        resized_spectrum = interp_func(new_wavelengths)\n",
    "        resized_spectra.append(resized_spectrum)\n",
    "    return np.array(resized_spectra)\n",
    "\n",
    "# Resize the ILS dataset\n",
    "original_wavelengths_ils = spectra_data.columns.to_series().apply(lambda x: float(re.findall(r'\\d+', x)[0]))\n",
    "spectra_ils_resized = resize_spectra(spectra_ils, original_wavelengths_ils, target_size)\n",
    "print(\"Resized ILS Data Shape:\", spectra_ils_resized.shape)\n",
    "\n",
    "# Resize the bacteria dataset\n",
    "original_wavelengths_bacteria = np.load(\"../data/bacteria/wavenumbers.npy\")\n",
    "X_bacteria_resized = resize_spectra(X_bacteria, original_wavelengths_bacteria, target_size)\n",
    "print(\"Resized Bacteria Data Shape:\", X_bacteria_resized.shape)\n",
    "\n",
    "# Resize the wheat dataset\n",
    "spectra_wheat_resized = resize_spectra(spectra_wheat_data, original_wavelengths_wheat, target_size)\n",
    "print(\"Resized Wheat Data Shape:\", spectra_wheat_resized.shape)\n",
    "\n",
    "# Combine resized spectral data\n",
    "X_combined_resized = np.vstack([spectra_ils_resized, X_bacteria_resized, spectra_wheat_resized])\n",
    "\n",
    "# Print the combined resized shape\n",
    "print(\"Combined Resized Spectral Data Shape:\", X_combined_resized.shape)"
   ]
  },
  {
   "cell_type": "code",
   "execution_count": 24,
   "metadata": {},
   "outputs": [
    {
     "name": "stdout",
     "output_type": "stream",
     "text": [
      "Combined Labels Shape: (122650,)\n"
     ]
    }
   ],
   "source": [
    "# Combine labels\n",
    "y_combined = np.hstack([ils_target, y_bacteria, labels_encoded])\n",
    "\n",
    "# Print the combined labels shape\n",
    "print(\"Combined Labels Shape:\", y_combined.shape)"
   ]
  },
  {
   "cell_type": "code",
   "execution_count": 25,
   "metadata": {},
   "outputs": [
    {
     "name": "stdout",
     "output_type": "stream",
     "text": [
      "Encoded ils_target: [ 0  0  0 ... 41 41 41]\n"
     ]
    }
   ],
   "source": [
    "from sklearn.preprocessing import LabelEncoder\n",
    "import numpy as np\n",
    "\n",
    "# Initialize LabelEncoder\n",
    "label_encoder = LabelEncoder()\n",
    "\n",
    "# Fit and transform ils_target to integers\n",
    "ils_target_encoded = label_encoder.fit_transform(ils_target)\n",
    "\n",
    "print(\"Encoded ils_target:\", ils_target_encoded)"
   ]
  },
  {
   "cell_type": "code",
   "execution_count": 26,
   "metadata": {},
   "outputs": [
    {
     "data": {
      "text/plain": [
       "(array([0.  , 0.  , 0.  , ..., 8.87, 8.87, 8.87]),\n",
       " array([ 0,  0,  0, ..., 29, 29, 29]),\n",
       " array([0, 0, 0, ..., 3, 3, 3]),\n",
       " array([ 0,  0,  0, ..., 41, 41, 41]))"
      ]
     },
     "execution_count": 26,
     "metadata": {},
     "output_type": "execute_result"
    }
   ],
   "source": [
    "ils_target, y_bacteria, labels_encoded, ils_target_encoded"
   ]
  },
  {
   "cell_type": "code",
   "execution_count": 34,
   "metadata": {},
   "outputs": [
    {
     "name": "stdout",
     "output_type": "stream",
     "text": [
      "Unique values in ils_target_encoded: [ 0  1  2  3  4  5  6  7  8  9 10 11 12 13 14 15 16 17 18 19 20 21 22 23\n",
      " 24 25 26 27 28 29 30 31 32 33 34 35 36 37 38 39 40 41 42]\n",
      "Unique values in y_bacteria_encoded: [43 44 45 46 47 48 49 50 51 52 53 54 55 56 57 58 59 60 61 62 63 64 65 66\n",
      " 67 68 69 70 71 72]\n",
      "Unique values in labels_encoded_encoded: [73 74 75 76]\n",
      "Unique values in combined array: [ 0  1  2  3  4  5  6  7  8  9 10 11 12 13 14 15 16 17 18 19 20 21 22 23\n",
      " 24 25 26 27 28 29 30 31 32 33 34 35 36 37 38 39 40 41 42 43 44 45 46 47\n",
      " 48 49 50 51 52 53 54 55 56 57 58 59 60 61 62 63 64 65 66 67 68 69 70 71\n",
      " 72 73 74 75 76]\n"
     ]
    },
    {
     "data": {
      "text/plain": [
       "(122650,)"
      ]
     },
     "execution_count": 34,
     "metadata": {},
     "output_type": "execute_result"
    }
   ],
   "source": [
    "import numpy as np\n",
    "\n",
    "\n",
    "# Find the maximum value in each array\n",
    "max_ils_target_encoded = np.max(ils_target_encoded)\n",
    "max_y_bacteria = np.max(y_bacteria)\n",
    "max_labels_encoded = np.max(labels_encoded)\n",
    "\n",
    "# Shift y_bacteria\n",
    "y_bacteria_shifted = y_bacteria + (max_ils_target_encoded + 1)\n",
    "\n",
    "# Shift labels_encoded\n",
    "labels_encoded_shifted = labels_encoded + (max_ils_target_encoded + 1) + (max_y_bacteria + 1)\n",
    "\n",
    "# Combine the shifted arrays\n",
    "combined = np.hstack([ils_target_encoded, y_bacteria_shifted, labels_encoded_shifted])\n",
    "\n",
    "# Verify uniqueness\n",
    "print(\"Unique values in ils_target_encoded:\", np.unique(ils_target_encoded))\n",
    "print(\"Unique values in y_bacteria_encoded:\", np.unique(y_bacteria_shifted))\n",
    "print(\"Unique values in labels_encoded_encoded:\", np.unique(labels_encoded_shifted))\n",
    "# Verify uniqueness\n",
    "print(\"Unique values in combined array:\", np.unique(combined))\n",
    "combined.shape"
   ]
  },
  {
   "cell_type": "markdown",
   "metadata": {},
   "source": [
    " ## try model from suggested deepseek "
   ]
  },
  {
   "cell_type": "code",
   "execution_count": 31,
   "metadata": {},
   "outputs": [
    {
     "data": {
      "text/plain": [
       "(122650, 77)"
      ]
     },
     "execution_count": 31,
     "metadata": {},
     "output_type": "execute_result"
    }
   ],
   "source": [
    "num_classes = int(np.max(combined)) + 1  # Determine the number of unique classes\n",
    "y_combined_one_hot = np.eye(num_classes)[combined]\n",
    "y_combined_one_hot.shape"
   ]
  },
  {
   "cell_type": "code",
   "execution_count": 40,
   "metadata": {},
   "outputs": [
    {
     "data": {
      "text/plain": [
       "(122650, 1748)"
      ]
     },
     "execution_count": 40,
     "metadata": {},
     "output_type": "execute_result"
    }
   ],
   "source": [
    "X_combined_resized.shape"
   ]
  },
  {
   "cell_type": "code",
   "execution_count": 41,
   "metadata": {},
   "outputs": [],
   "source": [
    "from sklearn.model_selection import train_test_split\n",
    "\n",
    "# Assuming X_combined_resized is your feature data and y_combined_one_hot is your label data\n",
    "# First, split the data into training+validation and test sets\n",
    "X_train_val, X_test, y_train_val, y_test = train_test_split(X_combined_resized, y_combined_one_hot, test_size=0.2, random_state=42)\n",
    "\n",
    "# Next, split the training+validation data into training and validation sets\n",
    "X_train, X_val, y_train, y_val = train_test_split(X_train_val, y_train_val, test_size=0.2, random_state=42)\n",
    "\n",
    "# Now you have:\n",
    "# X_train, y_train: Training data\n",
    "# X_val, y_val: Validation data\n",
    "# X_test, y_test: Test data\n",
    "\n",
    "# You can now use these datasets to train your neural network model"
   ]
  },
  {
   "cell_type": "code",
   "execution_count": 42,
   "metadata": {},
   "outputs": [
    {
     "name": "stdout",
     "output_type": "stream",
     "text": [
      "NaN values in X_train: 53341\n",
      "Infinite values in X_train: 0\n"
     ]
    },
    {
     "name": "stderr",
     "output_type": "stream",
     "text": [
      "/Users/mitsuko/miniconda3/lib/python3.12/site-packages/keras/src/layers/core/dense.py:87: UserWarning: Do not pass an `input_shape`/`input_dim` argument to a layer. When using Sequential models, prefer using an `Input(shape)` object as the first layer in the model instead.\n",
      "  super().__init__(activity_regularizer=activity_regularizer, **kwargs)\n"
     ]
    },
    {
     "name": "stdout",
     "output_type": "stream",
     "text": [
      "Epoch 1/100\n",
      "\u001b[1m1227/1227\u001b[0m \u001b[32m━━━━━━━━━━━━━━━━━━━━\u001b[0m\u001b[37m\u001b[0m \u001b[1m4s\u001b[0m 2ms/step - accuracy: 0.0730 - loss: 4.0445 - val_accuracy: 0.1023 - val_loss: 3.5134 - learning_rate: 1.0000e-04\n",
      "Epoch 2/100\n",
      "\u001b[1m1227/1227\u001b[0m \u001b[32m━━━━━━━━━━━━━━━━━━━━\u001b[0m\u001b[37m\u001b[0m \u001b[1m3s\u001b[0m 2ms/step - accuracy: 0.1222 - loss: 3.3071 - val_accuracy: 0.1028 - val_loss: 3.2442 - learning_rate: 1.0000e-04\n",
      "Epoch 3/100\n",
      "\u001b[1m1227/1227\u001b[0m \u001b[32m━━━━━━━━━━━━━━━━━━━━\u001b[0m\u001b[37m\u001b[0m \u001b[1m3s\u001b[0m 2ms/step - accuracy: 0.1219 - loss: 3.2318 - val_accuracy: 0.1275 - val_loss: 3.3087 - learning_rate: 1.0000e-04\n",
      "Epoch 4/100\n",
      "\u001b[1m1227/1227\u001b[0m \u001b[32m━━━━━━━━━━━━━━━━━━━━\u001b[0m\u001b[37m\u001b[0m \u001b[1m3s\u001b[0m 3ms/step - accuracy: 0.1183 - loss: 3.2122 - val_accuracy: 0.1101 - val_loss: 3.3642 - learning_rate: 1.0000e-04\n",
      "Epoch 5/100\n",
      "\u001b[1m1227/1227\u001b[0m \u001b[32m━━━━━━━━━━━━━━━━━━━━\u001b[0m\u001b[37m\u001b[0m \u001b[1m3s\u001b[0m 2ms/step - accuracy: 0.1190 - loss: 3.1816 - val_accuracy: 0.1103 - val_loss: 3.2503 - learning_rate: 1.0000e-04\n",
      "Epoch 6/100\n",
      "\u001b[1m1227/1227\u001b[0m \u001b[32m━━━━━━━━━━━━━━━━━━━━\u001b[0m\u001b[37m\u001b[0m \u001b[1m3s\u001b[0m 2ms/step - accuracy: 0.1215 - loss: 3.1545 - val_accuracy: 0.1033 - val_loss: 3.2128 - learning_rate: 1.0000e-04\n",
      "Epoch 7/100\n",
      "\u001b[1m1227/1227\u001b[0m \u001b[32m━━━━━━━━━━━━━━━━━━━━\u001b[0m\u001b[37m\u001b[0m \u001b[1m3s\u001b[0m 2ms/step - accuracy: 0.1220 - loss: 3.1395 - val_accuracy: 0.1095 - val_loss: 3.3059 - learning_rate: 1.0000e-04\n",
      "Epoch 8/100\n",
      "\u001b[1m1227/1227\u001b[0m \u001b[32m━━━━━━━━━━━━━━━━━━━━\u001b[0m\u001b[37m\u001b[0m \u001b[1m3s\u001b[0m 2ms/step - accuracy: 0.1257 - loss: 3.1403 - val_accuracy: 0.1285 - val_loss: 3.2535 - learning_rate: 1.0000e-04\n",
      "Epoch 9/100\n",
      "\u001b[1m1227/1227\u001b[0m \u001b[32m━━━━━━━━━━━━━━━━━━━━\u001b[0m\u001b[37m\u001b[0m \u001b[1m3s\u001b[0m 2ms/step - accuracy: 0.1249 - loss: 3.1178 - val_accuracy: 0.1042 - val_loss: 3.2274 - learning_rate: 1.0000e-04\n",
      "Epoch 10/100\n",
      "\u001b[1m1227/1227\u001b[0m \u001b[32m━━━━━━━━━━━━━━━━━━━━\u001b[0m\u001b[37m\u001b[0m \u001b[1m3s\u001b[0m 2ms/step - accuracy: 0.1272 - loss: 3.1038 - val_accuracy: 0.1043 - val_loss: 3.2557 - learning_rate: 1.0000e-04\n",
      "Epoch 11/100\n",
      "\u001b[1m1227/1227\u001b[0m \u001b[32m━━━━━━━━━━━━━━━━━━━━\u001b[0m\u001b[37m\u001b[0m \u001b[1m2s\u001b[0m 2ms/step - accuracy: 0.1284 - loss: 3.1187 - val_accuracy: 0.1044 - val_loss: 3.2860 - learning_rate: 1.0000e-04\n",
      "Epoch 12/100\n",
      "\u001b[1m1227/1227\u001b[0m \u001b[32m━━━━━━━━━━━━━━━━━━━━\u001b[0m\u001b[37m\u001b[0m \u001b[1m3s\u001b[0m 2ms/step - accuracy: 0.1293 - loss: 3.0995 - val_accuracy: 0.1290 - val_loss: 3.3822 - learning_rate: 1.0000e-04\n",
      "Epoch 13/100\n",
      "\u001b[1m1227/1227\u001b[0m \u001b[32m━━━━━━━━━━━━━━━━━━━━\u001b[0m\u001b[37m\u001b[0m \u001b[1m3s\u001b[0m 2ms/step - accuracy: 0.1270 - loss: 3.0931 - val_accuracy: 0.1103 - val_loss: 3.3310 - learning_rate: 1.0000e-04\n",
      "Epoch 14/100\n",
      "\u001b[1m1227/1227\u001b[0m \u001b[32m━━━━━━━━━━━━━━━━━━━━\u001b[0m\u001b[37m\u001b[0m \u001b[1m3s\u001b[0m 2ms/step - accuracy: 0.1276 - loss: 3.0949 - val_accuracy: 0.1104 - val_loss: 3.6580 - learning_rate: 1.0000e-04\n",
      "Epoch 15/100\n",
      "\u001b[1m1227/1227\u001b[0m \u001b[32m━━━━━━━━━━━━━━━━━━━━\u001b[0m\u001b[37m\u001b[0m \u001b[1m3s\u001b[0m 2ms/step - accuracy: 0.1279 - loss: 3.0791 - val_accuracy: 0.1105 - val_loss: 3.7097 - learning_rate: 1.0000e-04\n",
      "Epoch 16/100\n",
      "\u001b[1m1227/1227\u001b[0m \u001b[32m━━━━━━━━━━━━━━━━━━━━\u001b[0m\u001b[37m\u001b[0m \u001b[1m3s\u001b[0m 2ms/step - accuracy: 0.1296 - loss: 3.0680 - val_accuracy: 0.0200 - val_loss: 4.2616 - learning_rate: 1.0000e-04\n",
      "\u001b[1m767/767\u001b[0m \u001b[32m━━━━━━━━━━━━━━━━━━━━\u001b[0m\u001b[37m\u001b[0m \u001b[1m1s\u001b[0m 634us/step - accuracy: 0.1036 - loss: 3.2393\n",
      "Test Loss: 3.2354230880737305\n",
      "Test Accuracy: 0.10456583648920059\n"
     ]
    }
   ],
   "source": [
    "# Check for NaN or infinite values\n",
    "print(\"NaN values in X_train:\", np.isnan(X_train).sum())\n",
    "print(\"Infinite values in X_train:\", np.isinf(X_train).sum())\n",
    "\n",
    "# Replace NaN and infinite values\n",
    "X_train = np.nan_to_num(X_train, nan=0.0, posinf=1e10, neginf=-1e10)\n",
    "X_val = np.nan_to_num(X_val, nan=0.0, posinf=1e10, neginf=-1e10)\n",
    "X_test = np.nan_to_num(X_test, nan=0.0, posinf=1e10, neginf=-1e10)\n",
    "\n",
    "# Standardize the spectral data\n",
    "scaler = StandardScaler()\n",
    "X_train = scaler.fit_transform(X_train)\n",
    "X_val = scaler.transform(X_val)\n",
    "X_test = scaler.transform(X_test)\n",
    "\n",
    "# Build the neural network model\n",
    "model = Sequential()\n",
    "model.add(Dense(64, input_dim=X_train.shape[1], activation='relu'))\n",
    "model.add(BatchNormalization())\n",
    "model.add(Dropout(0.2))\n",
    "model.add(Dense(32, activation='relu'))\n",
    "model.add(Dense(num_classes, activation='softmax'))\n",
    "\n",
    "# Compile the model with a lower learning rate and gradient clipping\n",
    "model.compile(optimizer=Adam(learning_rate=0.0001, clipvalue=1.0), loss='categorical_crossentropy', metrics=['accuracy'])\n",
    "\n",
    "# Add callbacks\n",
    "reduce_lr = ReduceLROnPlateau(monitor='val_loss', factor=0.2, patience=5, min_lr=0.0001)\n",
    "early_stopping = EarlyStopping(monitor='val_loss', patience=10, restore_best_weights=True)\n",
    "\n",
    "# Train the model\n",
    "history = model.fit(\n",
    "    X_train, y_train,\n",
    "    validation_data=(X_val, y_val),\n",
    "    epochs=100,\n",
    "    batch_size=64,\n",
    "    callbacks=[reduce_lr, early_stopping],\n",
    "    verbose=1\n",
    ")\n",
    "\n",
    "# Evaluate the model on the test set\n",
    "test_loss, test_accuracy = model.evaluate(X_test, y_test, verbose=1)\n",
    "print(f\"Test Loss: {test_loss}\")\n",
    "print(f\"Test Accuracy: {test_accuracy}\")"
   ]
  },
  {
   "cell_type": "code",
   "execution_count": 43,
   "metadata": {},
   "outputs": [
    {
     "name": "stdout",
     "output_type": "stream",
     "text": [
      "Shape of y_train after fixing: (78496, 77)\n",
      "Shape of y_val after fixing: (19624, 77)\n",
      "Shape of y_test after fixing: (24530, 77)\n"
     ]
    },
    {
     "name": "stderr",
     "output_type": "stream",
     "text": [
      "/Users/mitsuko/miniconda3/lib/python3.12/site-packages/keras/src/layers/core/dense.py:87: UserWarning: Do not pass an `input_shape`/`input_dim` argument to a layer. When using Sequential models, prefer using an `Input(shape)` object as the first layer in the model instead.\n",
      "  super().__init__(activity_regularizer=activity_regularizer, **kwargs)\n",
      "/Users/mitsuko/miniconda3/lib/python3.12/site-packages/keras/src/layers/activations/leaky_relu.py:41: UserWarning: Argument `alpha` is deprecated. Use `negative_slope` instead.\n",
      "  warnings.warn(\n"
     ]
    },
    {
     "name": "stdout",
     "output_type": "stream",
     "text": [
      "Epoch 1/100\n",
      "\u001b[1m1227/1227\u001b[0m \u001b[32m━━━━━━━━━━━━━━━━━━━━\u001b[0m\u001b[37m\u001b[0m \u001b[1m6s\u001b[0m 4ms/step - accuracy: 0.0949 - loss: 3.8654 - val_accuracy: 0.1290 - val_loss: 3.2365 - learning_rate: 1.0000e-04\n",
      "Epoch 2/100\n",
      "\u001b[1m1227/1227\u001b[0m \u001b[32m━━━━━━━━━━━━━━━━━━━━\u001b[0m\u001b[37m\u001b[0m \u001b[1m5s\u001b[0m 4ms/step - accuracy: 0.1128 - loss: 3.2819 - val_accuracy: 0.1044 - val_loss: 3.2157 - learning_rate: 1.0000e-04\n",
      "Epoch 3/100\n",
      "\u001b[1m1227/1227\u001b[0m \u001b[32m━━━━━━━━━━━━━━━━━━━━\u001b[0m\u001b[37m\u001b[0m \u001b[1m6s\u001b[0m 5ms/step - accuracy: 0.1164 - loss: 3.2154 - val_accuracy: 0.1293 - val_loss: 3.2024 - learning_rate: 1.0000e-04\n",
      "Epoch 4/100\n",
      "\u001b[1m1227/1227\u001b[0m \u001b[32m━━━━━━━━━━━━━━━━━━━━\u001b[0m\u001b[37m\u001b[0m \u001b[1m5s\u001b[0m 4ms/step - accuracy: 0.1204 - loss: 3.1589 - val_accuracy: 0.1298 - val_loss: 3.1934 - learning_rate: 1.0000e-04\n",
      "Epoch 5/100\n",
      "\u001b[1m1227/1227\u001b[0m \u001b[32m━━━━━━━━━━━━━━━━━━━━\u001b[0m\u001b[37m\u001b[0m \u001b[1m5s\u001b[0m 4ms/step - accuracy: 0.1244 - loss: 3.1416 - val_accuracy: 0.1293 - val_loss: 3.2067 - learning_rate: 1.0000e-04\n",
      "Epoch 6/100\n",
      "\u001b[1m1227/1227\u001b[0m \u001b[32m━━━━━━━━━━━━━━━━━━━━\u001b[0m\u001b[37m\u001b[0m \u001b[1m5s\u001b[0m 4ms/step - accuracy: 0.1203 - loss: 3.1371 - val_accuracy: 0.1289 - val_loss: 3.2023 - learning_rate: 1.0000e-04\n",
      "Epoch 7/100\n",
      "\u001b[1m1227/1227\u001b[0m \u001b[32m━━━━━━━━━━━━━━━━━━━━\u001b[0m\u001b[37m\u001b[0m \u001b[1m5s\u001b[0m 4ms/step - accuracy: 0.1254 - loss: 3.1165 - val_accuracy: 0.1293 - val_loss: 3.1884 - learning_rate: 1.0000e-04\n",
      "Epoch 8/100\n",
      "\u001b[1m1227/1227\u001b[0m \u001b[32m━━━━━━━━━━━━━━━━━━━━\u001b[0m\u001b[37m\u001b[0m \u001b[1m6s\u001b[0m 5ms/step - accuracy: 0.1244 - loss: 3.1129 - val_accuracy: 0.1294 - val_loss: 3.1893 - learning_rate: 1.0000e-04\n",
      "Epoch 9/100\n",
      "\u001b[1m1227/1227\u001b[0m \u001b[32m━━━━━━━━━━━━━━━━━━━━\u001b[0m\u001b[37m\u001b[0m \u001b[1m6s\u001b[0m 5ms/step - accuracy: 0.1297 - loss: 3.1041 - val_accuracy: 0.1287 - val_loss: 3.2067 - learning_rate: 1.0000e-04\n",
      "Epoch 10/100\n",
      "\u001b[1m1227/1227\u001b[0m \u001b[32m━━━━━━━━━━━━━━━━━━━━\u001b[0m\u001b[37m\u001b[0m \u001b[1m5s\u001b[0m 4ms/step - accuracy: 0.1282 - loss: 3.1052 - val_accuracy: 0.1297 - val_loss: 3.1882 - learning_rate: 1.0000e-04\n",
      "Epoch 11/100\n",
      "\u001b[1m1227/1227\u001b[0m \u001b[32m━━━━━━━━━━━━━━━━━━━━\u001b[0m\u001b[37m\u001b[0m \u001b[1m6s\u001b[0m 5ms/step - accuracy: 0.1301 - loss: 3.0766 - val_accuracy: 0.1294 - val_loss: 3.1846 - learning_rate: 1.0000e-04\n",
      "Epoch 12/100\n",
      "\u001b[1m1227/1227\u001b[0m \u001b[32m━━━━━━━━━━━━━━━━━━━━\u001b[0m\u001b[37m\u001b[0m \u001b[1m6s\u001b[0m 5ms/step - accuracy: 0.1259 - loss: 3.1058 - val_accuracy: 0.1295 - val_loss: 3.2500 - learning_rate: 1.0000e-04\n",
      "Epoch 13/100\n",
      "\u001b[1m1227/1227\u001b[0m \u001b[32m━━━━━━━━━━━━━━━━━━━━\u001b[0m\u001b[37m\u001b[0m \u001b[1m5s\u001b[0m 4ms/step - accuracy: 0.1276 - loss: 3.0905 - val_accuracy: 0.1294 - val_loss: 3.1806 - learning_rate: 1.0000e-04\n",
      "Epoch 14/100\n",
      "\u001b[1m1227/1227\u001b[0m \u001b[32m━━━━━━━━━━━━━━━━━━━━\u001b[0m\u001b[37m\u001b[0m \u001b[1m6s\u001b[0m 5ms/step - accuracy: 0.1286 - loss: 3.0850 - val_accuracy: 0.1296 - val_loss: 3.1860 - learning_rate: 1.0000e-04\n",
      "Epoch 15/100\n",
      "\u001b[1m1227/1227\u001b[0m \u001b[32m━━━━━━━━━━━━━━━━━━━━\u001b[0m\u001b[37m\u001b[0m \u001b[1m5s\u001b[0m 4ms/step - accuracy: 0.1267 - loss: 3.0739 - val_accuracy: 0.1297 - val_loss: 3.1845 - learning_rate: 1.0000e-04\n",
      "Epoch 16/100\n",
      "\u001b[1m1227/1227\u001b[0m \u001b[32m━━━━━━━━━━━━━━━━━━━━\u001b[0m\u001b[37m\u001b[0m \u001b[1m5s\u001b[0m 4ms/step - accuracy: 0.1306 - loss: 3.0871 - val_accuracy: 0.1298 - val_loss: 3.1835 - learning_rate: 1.0000e-04\n",
      "Epoch 17/100\n",
      "\u001b[1m1227/1227\u001b[0m \u001b[32m━━━━━━━━━━━━━━━━━━━━\u001b[0m\u001b[37m\u001b[0m \u001b[1m5s\u001b[0m 4ms/step - accuracy: 0.1307 - loss: 3.0888 - val_accuracy: 0.1293 - val_loss: 3.2036 - learning_rate: 1.0000e-04\n",
      "Epoch 18/100\n",
      "\u001b[1m1227/1227\u001b[0m \u001b[32m━━━━━━━━━━━━━━━━━━━━\u001b[0m\u001b[37m\u001b[0m \u001b[1m5s\u001b[0m 4ms/step - accuracy: 0.1288 - loss: 3.0898 - val_accuracy: 0.1298 - val_loss: 3.1848 - learning_rate: 1.0000e-04\n",
      "Epoch 19/100\n",
      "\u001b[1m1227/1227\u001b[0m \u001b[32m━━━━━━━━━━━━━━━━━━━━\u001b[0m\u001b[37m\u001b[0m \u001b[1m5s\u001b[0m 4ms/step - accuracy: 0.1291 - loss: 3.0929 - val_accuracy: 0.1297 - val_loss: 3.1929 - learning_rate: 1.0000e-04\n",
      "Epoch 20/100\n",
      "\u001b[1m1227/1227\u001b[0m \u001b[32m━━━━━━━━━━━━━━━━━━━━\u001b[0m\u001b[37m\u001b[0m \u001b[1m5s\u001b[0m 4ms/step - accuracy: 0.1316 - loss: 3.0856 - val_accuracy: 0.1301 - val_loss: 3.1864 - learning_rate: 1.0000e-04\n",
      "Epoch 21/100\n",
      "\u001b[1m1227/1227\u001b[0m \u001b[32m━━━━━━━━━━━━━━━━━━━━\u001b[0m\u001b[37m\u001b[0m \u001b[1m5s\u001b[0m 4ms/step - accuracy: 0.1315 - loss: 3.0643 - val_accuracy: 0.1297 - val_loss: 3.1827 - learning_rate: 1.0000e-04\n",
      "Epoch 22/100\n",
      "\u001b[1m1227/1227\u001b[0m \u001b[32m━━━━━━━━━━━━━━━━━━━━\u001b[0m\u001b[37m\u001b[0m \u001b[1m5s\u001b[0m 4ms/step - accuracy: 0.1318 - loss: 3.0707 - val_accuracy: 0.1302 - val_loss: 3.1815 - learning_rate: 1.0000e-04\n",
      "Epoch 23/100\n",
      "\u001b[1m1227/1227\u001b[0m \u001b[32m━━━━━━━━━━━━━━━━━━━━\u001b[0m\u001b[37m\u001b[0m \u001b[1m5s\u001b[0m 4ms/step - accuracy: 0.1307 - loss: 3.0621 - val_accuracy: 0.1297 - val_loss: 3.1980 - learning_rate: 1.0000e-04\n",
      "\u001b[1m767/767\u001b[0m \u001b[32m━━━━━━━━━━━━━━━━━━━━\u001b[0m\u001b[37m\u001b[0m \u001b[1m1s\u001b[0m 1ms/step - accuracy: 0.1183 - loss: 3.2100\n",
      "Test Loss: 3.2061378955841064\n",
      "Test Accuracy: 0.12066856771707535\n"
     ]
    }
   ],
   "source": [
    "# Standardize the spectral data\n",
    "scaler = StandardScaler()\n",
    "X_train = scaler.fit_transform(X_train)\n",
    "X_val = scaler.transform(X_val)\n",
    "X_test = scaler.transform(X_test)\n",
    "\n",
    "# Fix the shape of the labels\n",
    "y_train = y_train.reshape(-1, num_classes)  # Reshape to (num_samples, num_classes)\n",
    "y_val = y_val.reshape(-1, num_classes)  # Reshape to (num_samples, num_classes)\n",
    "y_test = y_test.reshape(-1, num_classes)  # Reshape to (num_samples, num_classes)\n",
    "\n",
    "# Verify the shapes\n",
    "print(\"Shape of y_train after fixing:\", y_train.shape)\n",
    "print(\"Shape of y_val after fixing:\", y_val.shape)\n",
    "print(\"Shape of y_test after fixing:\", y_test.shape)\n",
    "\n",
    "# Build the neural network model\n",
    "model = Sequential()\n",
    "model.add(Dense(256, input_dim=X_train.shape[1]))\n",
    "model.add(LeakyReLU(alpha=0.1))\n",
    "model.add(BatchNormalization())\n",
    "model.add(Dense(128))\n",
    "model.add(LeakyReLU(alpha=0.1))\n",
    "model.add(Dropout(0.5))\n",
    "model.add(Dense(64))\n",
    "model.add(LeakyReLU(alpha=0.1))\n",
    "model.add(Dense(num_classes, activation='softmax'))\n",
    "\n",
    "# Compile the model\n",
    "model.compile(optimizer=Adam(learning_rate=0.0001), loss='categorical_crossentropy', metrics=['accuracy'])\n",
    "\n",
    "# Add callbacks\n",
    "reduce_lr = ReduceLROnPlateau(monitor='val_loss', factor=0.2, patience=5, min_lr=0.0001)\n",
    "early_stopping = EarlyStopping(monitor='val_loss', patience=10, restore_best_weights=True)\n",
    "\n",
    "# Train the model\n",
    "history = model.fit(\n",
    "    X_train, y_train,\n",
    "    validation_data=(X_val, y_val),\n",
    "    epochs=100,\n",
    "    batch_size=64,\n",
    "    callbacks=[reduce_lr, early_stopping],\n",
    "    verbose=1\n",
    ")\n",
    "\n",
    "# Evaluate the model on the test set\n",
    "test_loss, test_accuracy = model.evaluate(X_test, y_test, verbose=1)\n",
    "print(f\"Test Loss: {test_loss}\")\n",
    "print(f\"Test Accuracy: {test_accuracy}\")\n"
   ]
  },
  {
   "cell_type": "markdown",
   "metadata": {},
   "source": [
    "## 2. bacterial data model"
   ]
  },
  {
   "cell_type": "code",
   "execution_count": 48,
   "metadata": {},
   "outputs": [],
   "source": [
    "\n",
    "\n",
    "# Focal Loss implementation\n",
    "class FocalLoss(nn.Module):\n",
    "    def __init__(self, alpha=1, gamma=2):\n",
    "        super(FocalLoss, self).__init__()\n",
    "        self.gamma = gamma\n",
    "        self.alpha = alpha\n",
    "        self.ce = nn.CrossEntropyLoss(reduction='none')\n",
    "\n",
    "    def forward(self, inputs, targets):\n",
    "        ce_loss = self.ce(inputs, targets)\n",
    "        pt = torch.exp(-ce_loss)\n",
    "        focal_loss = self.alpha * (1-pt)**self.gamma * ce_loss\n",
    "        return focal_loss.mean()\n",
    "\n",
    "# Self-attention module\n",
    "class SelfAttention(nn.Module):\n",
    "    def __init__(self, in_dim):\n",
    "        super(SelfAttention, self).__init__()\n",
    "        self.query = nn.Linear(in_dim, in_dim)\n",
    "        self.key = nn.Linear(in_dim, in_dim)\n",
    "        self.value = nn.Linear(in_dim, in_dim)\n",
    "        \n",
    "    def forward(self, x):\n",
    "        q = self.query(x)\n",
    "        k = self.key(x)\n",
    "        v = self.value(x)\n",
    "        \n",
    "        scores = torch.matmul(q, k.transpose(-2, -1)) / np.sqrt(x.size(-1))\n",
    "        attention = torch.softmax(scores, dim=-1)\n",
    "        out = torch.matmul(attention, v)\n",
    "        return out\n",
    "\n",
    "# Enhanced network architecture\n",
    "class SpectraNN(nn.Module):\n",
    "    def __init__(self, dropout_rate=0.3):\n",
    "        super(SpectraNN, self).__init__()\n",
    "        \n",
    "        # Input processing\n",
    "        self.input_bn = nn.BatchNorm1d(1000)\n",
    "        self.input_attention = SelfAttention(1000)\n",
    "        \n",
    "        # Deeper architecture with residual connections\n",
    "        self.encoder = nn.Sequential(\n",
    "            nn.Linear(1000, 512),\n",
    "            nn.BatchNorm1d(512),\n",
    "            nn.LeakyReLU(),\n",
    "            nn.Dropout(dropout_rate),\n",
    "            \n",
    "            nn.Linear(512, 512),\n",
    "            nn.BatchNorm1d(512),\n",
    "            nn.LeakyReLU(),\n",
    "            nn.Dropout(dropout_rate)\n",
    "        )\n",
    "        \n",
    "        self.attention = SelfAttention(512)\n",
    "        \n",
    "        self.decoder = nn.Sequential(\n",
    "            nn.Linear(512, 256),\n",
    "            nn.BatchNorm1d(256),\n",
    "            nn.LeakyReLU(),\n",
    "            nn.Dropout(dropout_rate),\n",
    "            \n",
    "            nn.Linear(256, 128),\n",
    "            nn.BatchNorm1d(128),\n",
    "            nn.LeakyReLU(),\n",
    "            nn.Dropout(dropout_rate),\n",
    "            \n",
    "            nn.Linear(128, 30)\n",
    "        )\n",
    "        \n",
    "    def forward(self, x):\n",
    "        x = self.input_bn(x)\n",
    "        x = x.unsqueeze(1)\n",
    "        x = self.input_attention(x)\n",
    "        x = x.squeeze(1)\n",
    "        \n",
    "        x1 = self.encoder(x)\n",
    "        x2 = self.attention(x1.unsqueeze(1)).squeeze(1)\n",
    "        x = x1 + x2  # Residual connection\n",
    "        \n",
    "        x = self.decoder(x)\n",
    "        return x\n",
    "\n",
    "# Advanced data augmentation\n",
    "def augment_spectra(spectra, noise_level=0.02):\n",
    "    augmented = spectra.clone()\n",
    "    \n",
    "    # Random noise\n",
    "    noise = torch.randn_like(spectra) * noise_level\n",
    "    augmented += noise\n",
    "    \n",
    "    # Random scaling\n",
    "    scale = 1.0 + (torch.rand_like(spectra) * 0.1 - 0.05)\n",
    "    augmented *= scale\n",
    "    \n",
    "    # Random shifts\n",
    "    shift = (torch.rand_like(spectra) * 0.02 - 0.01)\n",
    "    augmented += shift\n",
    "    \n",
    "    # Random smoothing (randomly applied)\n",
    "    if torch.rand(1) > 0.5:\n",
    "        kernel_size = 3\n",
    "        pad_size = kernel_size // 2\n",
    "        padded = torch.nn.functional.pad(augmented.unsqueeze(1), (pad_size, pad_size), mode='reflect')\n",
    "        augmented = torch.nn.functional.avg_pool1d(padded, kernel_size=kernel_size, stride=1).squeeze(1)\n",
    "    \n",
    "    return augmented"
   ]
  },
  {
   "cell_type": "code",
   "execution_count": null,
   "metadata": {},
   "outputs": [
    {
     "name": "stdout",
     "output_type": "stream",
     "text": [
      "\n",
      "Initializing model...\n",
      "\n",
      "Starting training...\n"
     ]
    },
    {
     "ename": "RuntimeError",
     "evalue": "running_mean should contain 1748 elements not 1000",
     "output_type": "error",
     "traceback": [
      "\u001b[0;31m---------------------------------------------------------------------------\u001b[0m",
      "\u001b[0;31mRuntimeError\u001b[0m                              Traceback (most recent call last)",
      "Cell \u001b[0;32mIn[49], line 47\u001b[0m\n\u001b[1;32m     44\u001b[0m X_aug \u001b[38;5;241m=\u001b[39m torch\u001b[38;5;241m.\u001b[39mcat([augment_spectra(X_batch) \u001b[38;5;28;01mfor\u001b[39;00m _ \u001b[38;5;129;01min\u001b[39;00m \u001b[38;5;28mrange\u001b[39m(\u001b[38;5;241m2\u001b[39m)])\n\u001b[1;32m     45\u001b[0m y_aug \u001b[38;5;241m=\u001b[39m torch\u001b[38;5;241m.\u001b[39mcat([y_batch \u001b[38;5;28;01mfor\u001b[39;00m _ \u001b[38;5;129;01min\u001b[39;00m \u001b[38;5;28mrange\u001b[39m(\u001b[38;5;241m2\u001b[39m)])\n\u001b[0;32m---> 47\u001b[0m outputs \u001b[38;5;241m=\u001b[39m \u001b[43mmodel\u001b[49m\u001b[43m(\u001b[49m\u001b[43mX_aug\u001b[49m\u001b[43m)\u001b[49m\n\u001b[1;32m     48\u001b[0m loss \u001b[38;5;241m=\u001b[39m criterion(outputs, y_aug)\n\u001b[1;32m     50\u001b[0m optimizer\u001b[38;5;241m.\u001b[39mzero_grad()\n",
      "File \u001b[0;32m~/miniconda3/lib/python3.12/site-packages/torch/nn/modules/module.py:1736\u001b[0m, in \u001b[0;36mModule._wrapped_call_impl\u001b[0;34m(self, *args, **kwargs)\u001b[0m\n\u001b[1;32m   1734\u001b[0m     \u001b[38;5;28;01mreturn\u001b[39;00m \u001b[38;5;28mself\u001b[39m\u001b[38;5;241m.\u001b[39m_compiled_call_impl(\u001b[38;5;241m*\u001b[39margs, \u001b[38;5;241m*\u001b[39m\u001b[38;5;241m*\u001b[39mkwargs)  \u001b[38;5;66;03m# type: ignore[misc]\u001b[39;00m\n\u001b[1;32m   1735\u001b[0m \u001b[38;5;28;01melse\u001b[39;00m:\n\u001b[0;32m-> 1736\u001b[0m     \u001b[38;5;28;01mreturn\u001b[39;00m \u001b[38;5;28;43mself\u001b[39;49m\u001b[38;5;241;43m.\u001b[39;49m\u001b[43m_call_impl\u001b[49m\u001b[43m(\u001b[49m\u001b[38;5;241;43m*\u001b[39;49m\u001b[43margs\u001b[49m\u001b[43m,\u001b[49m\u001b[43m \u001b[49m\u001b[38;5;241;43m*\u001b[39;49m\u001b[38;5;241;43m*\u001b[39;49m\u001b[43mkwargs\u001b[49m\u001b[43m)\u001b[49m\n",
      "File \u001b[0;32m~/miniconda3/lib/python3.12/site-packages/torch/nn/modules/module.py:1747\u001b[0m, in \u001b[0;36mModule._call_impl\u001b[0;34m(self, *args, **kwargs)\u001b[0m\n\u001b[1;32m   1742\u001b[0m \u001b[38;5;66;03m# If we don't have any hooks, we want to skip the rest of the logic in\u001b[39;00m\n\u001b[1;32m   1743\u001b[0m \u001b[38;5;66;03m# this function, and just call forward.\u001b[39;00m\n\u001b[1;32m   1744\u001b[0m \u001b[38;5;28;01mif\u001b[39;00m \u001b[38;5;129;01mnot\u001b[39;00m (\u001b[38;5;28mself\u001b[39m\u001b[38;5;241m.\u001b[39m_backward_hooks \u001b[38;5;129;01mor\u001b[39;00m \u001b[38;5;28mself\u001b[39m\u001b[38;5;241m.\u001b[39m_backward_pre_hooks \u001b[38;5;129;01mor\u001b[39;00m \u001b[38;5;28mself\u001b[39m\u001b[38;5;241m.\u001b[39m_forward_hooks \u001b[38;5;129;01mor\u001b[39;00m \u001b[38;5;28mself\u001b[39m\u001b[38;5;241m.\u001b[39m_forward_pre_hooks\n\u001b[1;32m   1745\u001b[0m         \u001b[38;5;129;01mor\u001b[39;00m _global_backward_pre_hooks \u001b[38;5;129;01mor\u001b[39;00m _global_backward_hooks\n\u001b[1;32m   1746\u001b[0m         \u001b[38;5;129;01mor\u001b[39;00m _global_forward_hooks \u001b[38;5;129;01mor\u001b[39;00m _global_forward_pre_hooks):\n\u001b[0;32m-> 1747\u001b[0m     \u001b[38;5;28;01mreturn\u001b[39;00m \u001b[43mforward_call\u001b[49m\u001b[43m(\u001b[49m\u001b[38;5;241;43m*\u001b[39;49m\u001b[43margs\u001b[49m\u001b[43m,\u001b[49m\u001b[43m \u001b[49m\u001b[38;5;241;43m*\u001b[39;49m\u001b[38;5;241;43m*\u001b[39;49m\u001b[43mkwargs\u001b[49m\u001b[43m)\u001b[49m\n\u001b[1;32m   1749\u001b[0m result \u001b[38;5;241m=\u001b[39m \u001b[38;5;28;01mNone\u001b[39;00m\n\u001b[1;32m   1750\u001b[0m called_always_called_hooks \u001b[38;5;241m=\u001b[39m \u001b[38;5;28mset\u001b[39m()\n",
      "Cell \u001b[0;32mIn[48], line 72\u001b[0m, in \u001b[0;36mSpectraNN.forward\u001b[0;34m(self, x)\u001b[0m\n\u001b[1;32m     71\u001b[0m \u001b[38;5;28;01mdef\u001b[39;00m\u001b[38;5;250m \u001b[39m\u001b[38;5;21mforward\u001b[39m(\u001b[38;5;28mself\u001b[39m, x):\n\u001b[0;32m---> 72\u001b[0m     x \u001b[38;5;241m=\u001b[39m \u001b[38;5;28;43mself\u001b[39;49m\u001b[38;5;241;43m.\u001b[39;49m\u001b[43minput_bn\u001b[49m\u001b[43m(\u001b[49m\u001b[43mx\u001b[49m\u001b[43m)\u001b[49m\n\u001b[1;32m     73\u001b[0m     x \u001b[38;5;241m=\u001b[39m x\u001b[38;5;241m.\u001b[39munsqueeze(\u001b[38;5;241m1\u001b[39m)\n\u001b[1;32m     74\u001b[0m     x \u001b[38;5;241m=\u001b[39m \u001b[38;5;28mself\u001b[39m\u001b[38;5;241m.\u001b[39minput_attention(x)\n",
      "File \u001b[0;32m~/miniconda3/lib/python3.12/site-packages/torch/nn/modules/module.py:1736\u001b[0m, in \u001b[0;36mModule._wrapped_call_impl\u001b[0;34m(self, *args, **kwargs)\u001b[0m\n\u001b[1;32m   1734\u001b[0m     \u001b[38;5;28;01mreturn\u001b[39;00m \u001b[38;5;28mself\u001b[39m\u001b[38;5;241m.\u001b[39m_compiled_call_impl(\u001b[38;5;241m*\u001b[39margs, \u001b[38;5;241m*\u001b[39m\u001b[38;5;241m*\u001b[39mkwargs)  \u001b[38;5;66;03m# type: ignore[misc]\u001b[39;00m\n\u001b[1;32m   1735\u001b[0m \u001b[38;5;28;01melse\u001b[39;00m:\n\u001b[0;32m-> 1736\u001b[0m     \u001b[38;5;28;01mreturn\u001b[39;00m \u001b[38;5;28;43mself\u001b[39;49m\u001b[38;5;241;43m.\u001b[39;49m\u001b[43m_call_impl\u001b[49m\u001b[43m(\u001b[49m\u001b[38;5;241;43m*\u001b[39;49m\u001b[43margs\u001b[49m\u001b[43m,\u001b[49m\u001b[43m \u001b[49m\u001b[38;5;241;43m*\u001b[39;49m\u001b[38;5;241;43m*\u001b[39;49m\u001b[43mkwargs\u001b[49m\u001b[43m)\u001b[49m\n",
      "File \u001b[0;32m~/miniconda3/lib/python3.12/site-packages/torch/nn/modules/module.py:1747\u001b[0m, in \u001b[0;36mModule._call_impl\u001b[0;34m(self, *args, **kwargs)\u001b[0m\n\u001b[1;32m   1742\u001b[0m \u001b[38;5;66;03m# If we don't have any hooks, we want to skip the rest of the logic in\u001b[39;00m\n\u001b[1;32m   1743\u001b[0m \u001b[38;5;66;03m# this function, and just call forward.\u001b[39;00m\n\u001b[1;32m   1744\u001b[0m \u001b[38;5;28;01mif\u001b[39;00m \u001b[38;5;129;01mnot\u001b[39;00m (\u001b[38;5;28mself\u001b[39m\u001b[38;5;241m.\u001b[39m_backward_hooks \u001b[38;5;129;01mor\u001b[39;00m \u001b[38;5;28mself\u001b[39m\u001b[38;5;241m.\u001b[39m_backward_pre_hooks \u001b[38;5;129;01mor\u001b[39;00m \u001b[38;5;28mself\u001b[39m\u001b[38;5;241m.\u001b[39m_forward_hooks \u001b[38;5;129;01mor\u001b[39;00m \u001b[38;5;28mself\u001b[39m\u001b[38;5;241m.\u001b[39m_forward_pre_hooks\n\u001b[1;32m   1745\u001b[0m         \u001b[38;5;129;01mor\u001b[39;00m _global_backward_pre_hooks \u001b[38;5;129;01mor\u001b[39;00m _global_backward_hooks\n\u001b[1;32m   1746\u001b[0m         \u001b[38;5;129;01mor\u001b[39;00m _global_forward_hooks \u001b[38;5;129;01mor\u001b[39;00m _global_forward_pre_hooks):\n\u001b[0;32m-> 1747\u001b[0m     \u001b[38;5;28;01mreturn\u001b[39;00m \u001b[43mforward_call\u001b[49m\u001b[43m(\u001b[49m\u001b[38;5;241;43m*\u001b[39;49m\u001b[43margs\u001b[49m\u001b[43m,\u001b[49m\u001b[43m \u001b[49m\u001b[38;5;241;43m*\u001b[39;49m\u001b[38;5;241;43m*\u001b[39;49m\u001b[43mkwargs\u001b[49m\u001b[43m)\u001b[49m\n\u001b[1;32m   1749\u001b[0m result \u001b[38;5;241m=\u001b[39m \u001b[38;5;28;01mNone\u001b[39;00m\n\u001b[1;32m   1750\u001b[0m called_always_called_hooks \u001b[38;5;241m=\u001b[39m \u001b[38;5;28mset\u001b[39m()\n",
      "File \u001b[0;32m~/miniconda3/lib/python3.12/site-packages/torch/nn/modules/batchnorm.py:193\u001b[0m, in \u001b[0;36m_BatchNorm.forward\u001b[0;34m(self, input)\u001b[0m\n\u001b[1;32m    186\u001b[0m     bn_training \u001b[38;5;241m=\u001b[39m (\u001b[38;5;28mself\u001b[39m\u001b[38;5;241m.\u001b[39mrunning_mean \u001b[38;5;129;01mis\u001b[39;00m \u001b[38;5;28;01mNone\u001b[39;00m) \u001b[38;5;129;01mand\u001b[39;00m (\u001b[38;5;28mself\u001b[39m\u001b[38;5;241m.\u001b[39mrunning_var \u001b[38;5;129;01mis\u001b[39;00m \u001b[38;5;28;01mNone\u001b[39;00m)\n\u001b[1;32m    188\u001b[0m \u001b[38;5;250m\u001b[39m\u001b[38;5;124mr\u001b[39m\u001b[38;5;124;03m\"\"\"\u001b[39;00m\n\u001b[1;32m    189\u001b[0m \u001b[38;5;124;03mBuffers are only updated if they are to be tracked and we are in training mode. Thus they only need to be\u001b[39;00m\n\u001b[1;32m    190\u001b[0m \u001b[38;5;124;03mpassed when the update should occur (i.e. in training mode when they are tracked), or when buffer stats are\u001b[39;00m\n\u001b[1;32m    191\u001b[0m \u001b[38;5;124;03mused for normalization (i.e. in eval mode when buffers are not None).\u001b[39;00m\n\u001b[1;32m    192\u001b[0m \u001b[38;5;124;03m\"\"\"\u001b[39;00m\n\u001b[0;32m--> 193\u001b[0m \u001b[38;5;28;01mreturn\u001b[39;00m \u001b[43mF\u001b[49m\u001b[38;5;241;43m.\u001b[39;49m\u001b[43mbatch_norm\u001b[49m\u001b[43m(\u001b[49m\n\u001b[1;32m    194\u001b[0m \u001b[43m    \u001b[49m\u001b[38;5;28;43minput\u001b[39;49m\u001b[43m,\u001b[49m\n\u001b[1;32m    195\u001b[0m \u001b[43m    \u001b[49m\u001b[38;5;66;43;03m# If buffers are not to be tracked, ensure that they won't be updated\u001b[39;49;00m\n\u001b[1;32m    196\u001b[0m \u001b[43m    \u001b[49m\u001b[38;5;28;43mself\u001b[39;49m\u001b[38;5;241;43m.\u001b[39;49m\u001b[43mrunning_mean\u001b[49m\n\u001b[1;32m    197\u001b[0m \u001b[43m    \u001b[49m\u001b[38;5;28;43;01mif\u001b[39;49;00m\u001b[43m \u001b[49m\u001b[38;5;129;43;01mnot\u001b[39;49;00m\u001b[43m \u001b[49m\u001b[38;5;28;43mself\u001b[39;49m\u001b[38;5;241;43m.\u001b[39;49m\u001b[43mtraining\u001b[49m\u001b[43m \u001b[49m\u001b[38;5;129;43;01mor\u001b[39;49;00m\u001b[43m \u001b[49m\u001b[38;5;28;43mself\u001b[39;49m\u001b[38;5;241;43m.\u001b[39;49m\u001b[43mtrack_running_stats\u001b[49m\n\u001b[1;32m    198\u001b[0m \u001b[43m    \u001b[49m\u001b[38;5;28;43;01melse\u001b[39;49;00m\u001b[43m \u001b[49m\u001b[38;5;28;43;01mNone\u001b[39;49;00m\u001b[43m,\u001b[49m\n\u001b[1;32m    199\u001b[0m \u001b[43m    \u001b[49m\u001b[38;5;28;43mself\u001b[39;49m\u001b[38;5;241;43m.\u001b[39;49m\u001b[43mrunning_var\u001b[49m\u001b[43m \u001b[49m\u001b[38;5;28;43;01mif\u001b[39;49;00m\u001b[43m \u001b[49m\u001b[38;5;129;43;01mnot\u001b[39;49;00m\u001b[43m \u001b[49m\u001b[38;5;28;43mself\u001b[39;49m\u001b[38;5;241;43m.\u001b[39;49m\u001b[43mtraining\u001b[49m\u001b[43m \u001b[49m\u001b[38;5;129;43;01mor\u001b[39;49;00m\u001b[43m \u001b[49m\u001b[38;5;28;43mself\u001b[39;49m\u001b[38;5;241;43m.\u001b[39;49m\u001b[43mtrack_running_stats\u001b[49m\u001b[43m \u001b[49m\u001b[38;5;28;43;01melse\u001b[39;49;00m\u001b[43m \u001b[49m\u001b[38;5;28;43;01mNone\u001b[39;49;00m\u001b[43m,\u001b[49m\n\u001b[1;32m    200\u001b[0m \u001b[43m    \u001b[49m\u001b[38;5;28;43mself\u001b[39;49m\u001b[38;5;241;43m.\u001b[39;49m\u001b[43mweight\u001b[49m\u001b[43m,\u001b[49m\n\u001b[1;32m    201\u001b[0m \u001b[43m    \u001b[49m\u001b[38;5;28;43mself\u001b[39;49m\u001b[38;5;241;43m.\u001b[39;49m\u001b[43mbias\u001b[49m\u001b[43m,\u001b[49m\n\u001b[1;32m    202\u001b[0m \u001b[43m    \u001b[49m\u001b[43mbn_training\u001b[49m\u001b[43m,\u001b[49m\n\u001b[1;32m    203\u001b[0m \u001b[43m    \u001b[49m\u001b[43mexponential_average_factor\u001b[49m\u001b[43m,\u001b[49m\n\u001b[1;32m    204\u001b[0m \u001b[43m    \u001b[49m\u001b[38;5;28;43mself\u001b[39;49m\u001b[38;5;241;43m.\u001b[39;49m\u001b[43meps\u001b[49m\u001b[43m,\u001b[49m\n\u001b[1;32m    205\u001b[0m \u001b[43m\u001b[49m\u001b[43m)\u001b[49m\n",
      "File \u001b[0;32m~/miniconda3/lib/python3.12/site-packages/torch/nn/functional.py:2812\u001b[0m, in \u001b[0;36mbatch_norm\u001b[0;34m(input, running_mean, running_var, weight, bias, training, momentum, eps)\u001b[0m\n\u001b[1;32m   2809\u001b[0m \u001b[38;5;28;01mif\u001b[39;00m training:\n\u001b[1;32m   2810\u001b[0m     _verify_batch_size(\u001b[38;5;28minput\u001b[39m\u001b[38;5;241m.\u001b[39msize())\n\u001b[0;32m-> 2812\u001b[0m \u001b[38;5;28;01mreturn\u001b[39;00m \u001b[43mtorch\u001b[49m\u001b[38;5;241;43m.\u001b[39;49m\u001b[43mbatch_norm\u001b[49m\u001b[43m(\u001b[49m\n\u001b[1;32m   2813\u001b[0m \u001b[43m    \u001b[49m\u001b[38;5;28;43minput\u001b[39;49m\u001b[43m,\u001b[49m\n\u001b[1;32m   2814\u001b[0m \u001b[43m    \u001b[49m\u001b[43mweight\u001b[49m\u001b[43m,\u001b[49m\n\u001b[1;32m   2815\u001b[0m \u001b[43m    \u001b[49m\u001b[43mbias\u001b[49m\u001b[43m,\u001b[49m\n\u001b[1;32m   2816\u001b[0m \u001b[43m    \u001b[49m\u001b[43mrunning_mean\u001b[49m\u001b[43m,\u001b[49m\n\u001b[1;32m   2817\u001b[0m \u001b[43m    \u001b[49m\u001b[43mrunning_var\u001b[49m\u001b[43m,\u001b[49m\n\u001b[1;32m   2818\u001b[0m \u001b[43m    \u001b[49m\u001b[43mtraining\u001b[49m\u001b[43m,\u001b[49m\n\u001b[1;32m   2819\u001b[0m \u001b[43m    \u001b[49m\u001b[43mmomentum\u001b[49m\u001b[43m,\u001b[49m\n\u001b[1;32m   2820\u001b[0m \u001b[43m    \u001b[49m\u001b[43meps\u001b[49m\u001b[43m,\u001b[49m\n\u001b[1;32m   2821\u001b[0m \u001b[43m    \u001b[49m\u001b[43mtorch\u001b[49m\u001b[38;5;241;43m.\u001b[39;49m\u001b[43mbackends\u001b[49m\u001b[38;5;241;43m.\u001b[39;49m\u001b[43mcudnn\u001b[49m\u001b[38;5;241;43m.\u001b[39;49m\u001b[43menabled\u001b[49m\u001b[43m,\u001b[49m\n\u001b[1;32m   2822\u001b[0m \u001b[43m\u001b[49m\u001b[43m)\u001b[49m\n",
      "\u001b[0;31mRuntimeError\u001b[0m: running_mean should contain 1748 elements not 1000"
     ]
    }
   ],
   "source": [
    "\n",
    "X_train, X_temp, y_train, y_temp = train_test_split(X_combined_resized, y_combined_one_hot, test_size=0.2, random_state=42)\n",
    "X_val, X_test, y_val, y_test = train_test_split(X_temp, y_temp, test_size=0.5, random_state=42)\n",
    "\n",
    "# Standardize the data\n",
    "# scaler = StandardScaler()\n",
    "scaler = MinMaxScaler()\n",
    "X_train = scaler.fit_transform(X_train)\n",
    "X_val = scaler.transform(X_val)\n",
    "X_test = scaler.transform(X_test)\n",
    "\n",
    "# Convert to PyTorch tensors\n",
    "X_train_tensor = torch.tensor(X_train, dtype=torch.float32)\n",
    "y_train_tensor = torch.tensor(y_train, dtype=torch.long)\n",
    "X_val_tensor = torch.tensor(X_val, dtype=torch.float32)\n",
    "y_val_tensor = torch.tensor(y_val, dtype=torch.long)\n",
    "X_test_tensor = torch.tensor(X_test, dtype=torch.float32)\n",
    "y_test_tensor = torch.tensor(y_test, dtype=torch.long)\n",
    "\n",
    "# Create DataLoaders\n",
    "batch_size = 32\n",
    "train_dataset = TensorDataset(X_train_tensor, y_train_tensor)\n",
    "train_loader = DataLoader(train_dataset, batch_size=batch_size, shuffle=True)\n",
    "val_dataset = TensorDataset(X_val_tensor, y_val_tensor)\n",
    "val_loader = DataLoader(val_dataset, batch_size=batch_size)\n",
    "\n",
    "# Initialize model and training components\n",
    "print(\"\\nInitializing model...\")\n",
    "model = SpectraNN()\n",
    "criterion = FocalLoss(gamma=2)\n",
    "optimizer = optim.AdamW(model.parameters(), lr=0.0003, weight_decay=1e-4)\n",
    "scheduler = CosineAnnealingLR(optimizer, T_max=100)\n",
    "\n",
    "# Training loop\n",
    "best_val_accuracy = 0\n",
    "patience = 15\n",
    "patience_counter = 0\n",
    "epochs = 10\n",
    "\n",
    "print(\"\\nStarting training...\")\n",
    "for epoch in range(epochs):\n",
    "    # Training phase\n",
    "    model.train()\n",
    "    train_loss = 0\n",
    "    train_correct = 0\n",
    "    train_total = 0\n",
    "    \n",
    "    for batch_idx, (X_batch, y_batch) in enumerate(train_loader):\n",
    "        # Multiple augmentations per batch\n",
    "        X_aug = torch.cat([augment_spectra(X_batch) for _ in range(2)])\n",
    "        y_aug = torch.cat([y_batch for _ in range(2)])\n",
    "        \n",
    "        outputs = model(X_aug)\n",
    "        loss = criterion(outputs, y_aug)\n",
    "        \n",
    "        optimizer.zero_grad()\n",
    "        loss.backward()\n",
    "        torch.nn.utils.clip_grad_norm_(model.parameters(), max_norm=1.0)\n",
    "        optimizer.step()\n",
    "        \n",
    "        train_loss += loss.item()\n",
    "        predicted = outputs.max(1)\n",
    "        train_total += y_aug.size(0)\n",
    "        train_correct += predicted.eq(y_aug).sum().item()\n",
    "        \n",
    "    # Validation phase\n",
    "    model.eval()\n",
    "    val_loss = 0\n",
    "    val_correct = 0\n",
    "    val_total = 0\n",
    "    \n",
    "    with torch.no_grad():\n",
    "        for X_val, y_val in val_loader:\n",
    "            outputs = model(X_val)\n",
    "            loss = criterion(outputs, y_val)\n",
    "            \n",
    "            val_loss += loss.item()\n",
    "            _, predicted = outputs.max(1)\n",
    "            val_total += y_val.size(0)\n",
    "            val_correct += predicted.eq(y_val).sum().item()\n",
    "    \n",
    "    # Print metrics\n",
    "    train_accuracy = train_correct / train_total\n",
    "    val_accuracy = val_correct / val_total\n",
    "    \n",
    "    print(f'Epoch: {epoch+1}')\n",
    "    print(f'Train Loss: {train_loss/len(train_loader):.4f} | Train Acc: {train_accuracy:.4f}')\n",
    "    print(f'Val Loss: {val_loss/len(val_loader):.4f} | Val Acc: {val_accuracy:.4f}')\n",
    "    print('-' * 50)\n",
    "    \n",
    "    # Save best model\n",
    "    if val_accuracy > best_val_accuracy:\n",
    "        best_val_accuracy = val_accuracy\n",
    "        torch.save(model.state_dict(), 'best_model.pth')\n",
    "        patience_counter = 0\n",
    "    else:\n",
    "        patience_counter += 1\n",
    "        if patience_counter >= patience:\n",
    "            print('Early stopping!')\n",
    "            break\n",
    "    \n",
    "    scheduler.step()"
   ]
  },
  {
   "cell_type": "code",
   "execution_count": 50,
   "metadata": {},
   "outputs": [
    {
     "name": "stdout",
     "output_type": "stream",
     "text": [
      "\n",
      "Evaluating final model...\n"
     ]
    },
    {
     "name": "stderr",
     "output_type": "stream",
     "text": [
      "/var/folders/tb/4n3fh0qx0q734bc626dps61r0000gn/T/ipykernel_501/81190938.py:4: FutureWarning: You are using `torch.load` with `weights_only=False` (the current default value), which uses the default pickle module implicitly. It is possible to construct malicious pickle data which will execute arbitrary code during unpickling (See https://github.com/pytorch/pytorch/blob/main/SECURITY.md#untrusted-models for more details). In a future release, the default value for `weights_only` will be flipped to `True`. This limits the functions that could be executed during unpickling. Arbitrary objects will no longer be allowed to be loaded via this mode unless they are explicitly allowlisted by the user via `torch.serialization.add_safe_globals`. We recommend you start setting `weights_only=True` for any use case where you don't have full control of the loaded file. Please open an issue on GitHub for any issues related to this experimental feature.\n",
      "  model.load_state_dict(torch.load('best_model.pth'))\n"
     ]
    },
    {
     "ename": "RuntimeError",
     "evalue": "running_mean should contain 1748 elements not 1000",
     "output_type": "error",
     "traceback": [
      "\u001b[0;31m---------------------------------------------------------------------------\u001b[0m",
      "\u001b[0;31mRuntimeError\u001b[0m                              Traceback (most recent call last)",
      "Cell \u001b[0;32mIn[50], line 23\u001b[0m\n\u001b[1;32m     20\u001b[0m     \u001b[38;5;28;01mreturn\u001b[39;00m torch\u001b[38;5;241m.\u001b[39mstack(predictions)\u001b[38;5;241m.\u001b[39mmean(\u001b[38;5;241m0\u001b[39m)\n\u001b[1;32m     22\u001b[0m \u001b[38;5;66;03m# Final evaluation\u001b[39;00m\n\u001b[0;32m---> 23\u001b[0m outputs \u001b[38;5;241m=\u001b[39m \u001b[43mensemble_predict\u001b[49m\u001b[43m(\u001b[49m\u001b[43mmodel\u001b[49m\u001b[43m,\u001b[49m\u001b[43m \u001b[49m\u001b[43mX_test_tensor\u001b[49m\u001b[43m)\u001b[49m\n\u001b[1;32m     24\u001b[0m _, predicted \u001b[38;5;241m=\u001b[39m outputs\u001b[38;5;241m.\u001b[39mmax(\u001b[38;5;241m1\u001b[39m)\n\u001b[1;32m     25\u001b[0m accuracy \u001b[38;5;241m=\u001b[39m predicted\u001b[38;5;241m.\u001b[39meq(y_test_tensor)\u001b[38;5;241m.\u001b[39mfloat()\u001b[38;5;241m.\u001b[39mmean()\n",
      "Cell \u001b[0;32mIn[50], line 11\u001b[0m, in \u001b[0;36mensemble_predict\u001b[0;34m(model, X, n_augmentations)\u001b[0m\n\u001b[1;32m      8\u001b[0m predictions \u001b[38;5;241m=\u001b[39m []\n\u001b[1;32m      9\u001b[0m \u001b[38;5;28;01mwith\u001b[39;00m torch\u001b[38;5;241m.\u001b[39mno_grad():\n\u001b[1;32m     10\u001b[0m     \u001b[38;5;66;03m# Original prediction\u001b[39;00m\n\u001b[0;32m---> 11\u001b[0m     pred \u001b[38;5;241m=\u001b[39m \u001b[43mmodel\u001b[49m\u001b[43m(\u001b[49m\u001b[43mX\u001b[49m\u001b[43m)\u001b[49m\n\u001b[1;32m     12\u001b[0m     predictions\u001b[38;5;241m.\u001b[39mappend(pred)\n\u001b[1;32m     14\u001b[0m     \u001b[38;5;66;03m# Augmented predictions\u001b[39;00m\n",
      "File \u001b[0;32m~/miniconda3/lib/python3.12/site-packages/torch/nn/modules/module.py:1736\u001b[0m, in \u001b[0;36mModule._wrapped_call_impl\u001b[0;34m(self, *args, **kwargs)\u001b[0m\n\u001b[1;32m   1734\u001b[0m     \u001b[38;5;28;01mreturn\u001b[39;00m \u001b[38;5;28mself\u001b[39m\u001b[38;5;241m.\u001b[39m_compiled_call_impl(\u001b[38;5;241m*\u001b[39margs, \u001b[38;5;241m*\u001b[39m\u001b[38;5;241m*\u001b[39mkwargs)  \u001b[38;5;66;03m# type: ignore[misc]\u001b[39;00m\n\u001b[1;32m   1735\u001b[0m \u001b[38;5;28;01melse\u001b[39;00m:\n\u001b[0;32m-> 1736\u001b[0m     \u001b[38;5;28;01mreturn\u001b[39;00m \u001b[38;5;28;43mself\u001b[39;49m\u001b[38;5;241;43m.\u001b[39;49m\u001b[43m_call_impl\u001b[49m\u001b[43m(\u001b[49m\u001b[38;5;241;43m*\u001b[39;49m\u001b[43margs\u001b[49m\u001b[43m,\u001b[49m\u001b[43m \u001b[49m\u001b[38;5;241;43m*\u001b[39;49m\u001b[38;5;241;43m*\u001b[39;49m\u001b[43mkwargs\u001b[49m\u001b[43m)\u001b[49m\n",
      "File \u001b[0;32m~/miniconda3/lib/python3.12/site-packages/torch/nn/modules/module.py:1747\u001b[0m, in \u001b[0;36mModule._call_impl\u001b[0;34m(self, *args, **kwargs)\u001b[0m\n\u001b[1;32m   1742\u001b[0m \u001b[38;5;66;03m# If we don't have any hooks, we want to skip the rest of the logic in\u001b[39;00m\n\u001b[1;32m   1743\u001b[0m \u001b[38;5;66;03m# this function, and just call forward.\u001b[39;00m\n\u001b[1;32m   1744\u001b[0m \u001b[38;5;28;01mif\u001b[39;00m \u001b[38;5;129;01mnot\u001b[39;00m (\u001b[38;5;28mself\u001b[39m\u001b[38;5;241m.\u001b[39m_backward_hooks \u001b[38;5;129;01mor\u001b[39;00m \u001b[38;5;28mself\u001b[39m\u001b[38;5;241m.\u001b[39m_backward_pre_hooks \u001b[38;5;129;01mor\u001b[39;00m \u001b[38;5;28mself\u001b[39m\u001b[38;5;241m.\u001b[39m_forward_hooks \u001b[38;5;129;01mor\u001b[39;00m \u001b[38;5;28mself\u001b[39m\u001b[38;5;241m.\u001b[39m_forward_pre_hooks\n\u001b[1;32m   1745\u001b[0m         \u001b[38;5;129;01mor\u001b[39;00m _global_backward_pre_hooks \u001b[38;5;129;01mor\u001b[39;00m _global_backward_hooks\n\u001b[1;32m   1746\u001b[0m         \u001b[38;5;129;01mor\u001b[39;00m _global_forward_hooks \u001b[38;5;129;01mor\u001b[39;00m _global_forward_pre_hooks):\n\u001b[0;32m-> 1747\u001b[0m     \u001b[38;5;28;01mreturn\u001b[39;00m \u001b[43mforward_call\u001b[49m\u001b[43m(\u001b[49m\u001b[38;5;241;43m*\u001b[39;49m\u001b[43margs\u001b[49m\u001b[43m,\u001b[49m\u001b[43m \u001b[49m\u001b[38;5;241;43m*\u001b[39;49m\u001b[38;5;241;43m*\u001b[39;49m\u001b[43mkwargs\u001b[49m\u001b[43m)\u001b[49m\n\u001b[1;32m   1749\u001b[0m result \u001b[38;5;241m=\u001b[39m \u001b[38;5;28;01mNone\u001b[39;00m\n\u001b[1;32m   1750\u001b[0m called_always_called_hooks \u001b[38;5;241m=\u001b[39m \u001b[38;5;28mset\u001b[39m()\n",
      "Cell \u001b[0;32mIn[48], line 72\u001b[0m, in \u001b[0;36mSpectraNN.forward\u001b[0;34m(self, x)\u001b[0m\n\u001b[1;32m     71\u001b[0m \u001b[38;5;28;01mdef\u001b[39;00m\u001b[38;5;250m \u001b[39m\u001b[38;5;21mforward\u001b[39m(\u001b[38;5;28mself\u001b[39m, x):\n\u001b[0;32m---> 72\u001b[0m     x \u001b[38;5;241m=\u001b[39m \u001b[38;5;28;43mself\u001b[39;49m\u001b[38;5;241;43m.\u001b[39;49m\u001b[43minput_bn\u001b[49m\u001b[43m(\u001b[49m\u001b[43mx\u001b[49m\u001b[43m)\u001b[49m\n\u001b[1;32m     73\u001b[0m     x \u001b[38;5;241m=\u001b[39m x\u001b[38;5;241m.\u001b[39munsqueeze(\u001b[38;5;241m1\u001b[39m)\n\u001b[1;32m     74\u001b[0m     x \u001b[38;5;241m=\u001b[39m \u001b[38;5;28mself\u001b[39m\u001b[38;5;241m.\u001b[39minput_attention(x)\n",
      "File \u001b[0;32m~/miniconda3/lib/python3.12/site-packages/torch/nn/modules/module.py:1736\u001b[0m, in \u001b[0;36mModule._wrapped_call_impl\u001b[0;34m(self, *args, **kwargs)\u001b[0m\n\u001b[1;32m   1734\u001b[0m     \u001b[38;5;28;01mreturn\u001b[39;00m \u001b[38;5;28mself\u001b[39m\u001b[38;5;241m.\u001b[39m_compiled_call_impl(\u001b[38;5;241m*\u001b[39margs, \u001b[38;5;241m*\u001b[39m\u001b[38;5;241m*\u001b[39mkwargs)  \u001b[38;5;66;03m# type: ignore[misc]\u001b[39;00m\n\u001b[1;32m   1735\u001b[0m \u001b[38;5;28;01melse\u001b[39;00m:\n\u001b[0;32m-> 1736\u001b[0m     \u001b[38;5;28;01mreturn\u001b[39;00m \u001b[38;5;28;43mself\u001b[39;49m\u001b[38;5;241;43m.\u001b[39;49m\u001b[43m_call_impl\u001b[49m\u001b[43m(\u001b[49m\u001b[38;5;241;43m*\u001b[39;49m\u001b[43margs\u001b[49m\u001b[43m,\u001b[49m\u001b[43m \u001b[49m\u001b[38;5;241;43m*\u001b[39;49m\u001b[38;5;241;43m*\u001b[39;49m\u001b[43mkwargs\u001b[49m\u001b[43m)\u001b[49m\n",
      "File \u001b[0;32m~/miniconda3/lib/python3.12/site-packages/torch/nn/modules/module.py:1747\u001b[0m, in \u001b[0;36mModule._call_impl\u001b[0;34m(self, *args, **kwargs)\u001b[0m\n\u001b[1;32m   1742\u001b[0m \u001b[38;5;66;03m# If we don't have any hooks, we want to skip the rest of the logic in\u001b[39;00m\n\u001b[1;32m   1743\u001b[0m \u001b[38;5;66;03m# this function, and just call forward.\u001b[39;00m\n\u001b[1;32m   1744\u001b[0m \u001b[38;5;28;01mif\u001b[39;00m \u001b[38;5;129;01mnot\u001b[39;00m (\u001b[38;5;28mself\u001b[39m\u001b[38;5;241m.\u001b[39m_backward_hooks \u001b[38;5;129;01mor\u001b[39;00m \u001b[38;5;28mself\u001b[39m\u001b[38;5;241m.\u001b[39m_backward_pre_hooks \u001b[38;5;129;01mor\u001b[39;00m \u001b[38;5;28mself\u001b[39m\u001b[38;5;241m.\u001b[39m_forward_hooks \u001b[38;5;129;01mor\u001b[39;00m \u001b[38;5;28mself\u001b[39m\u001b[38;5;241m.\u001b[39m_forward_pre_hooks\n\u001b[1;32m   1745\u001b[0m         \u001b[38;5;129;01mor\u001b[39;00m _global_backward_pre_hooks \u001b[38;5;129;01mor\u001b[39;00m _global_backward_hooks\n\u001b[1;32m   1746\u001b[0m         \u001b[38;5;129;01mor\u001b[39;00m _global_forward_hooks \u001b[38;5;129;01mor\u001b[39;00m _global_forward_pre_hooks):\n\u001b[0;32m-> 1747\u001b[0m     \u001b[38;5;28;01mreturn\u001b[39;00m \u001b[43mforward_call\u001b[49m\u001b[43m(\u001b[49m\u001b[38;5;241;43m*\u001b[39;49m\u001b[43margs\u001b[49m\u001b[43m,\u001b[49m\u001b[43m \u001b[49m\u001b[38;5;241;43m*\u001b[39;49m\u001b[38;5;241;43m*\u001b[39;49m\u001b[43mkwargs\u001b[49m\u001b[43m)\u001b[49m\n\u001b[1;32m   1749\u001b[0m result \u001b[38;5;241m=\u001b[39m \u001b[38;5;28;01mNone\u001b[39;00m\n\u001b[1;32m   1750\u001b[0m called_always_called_hooks \u001b[38;5;241m=\u001b[39m \u001b[38;5;28mset\u001b[39m()\n",
      "File \u001b[0;32m~/miniconda3/lib/python3.12/site-packages/torch/nn/modules/batchnorm.py:193\u001b[0m, in \u001b[0;36m_BatchNorm.forward\u001b[0;34m(self, input)\u001b[0m\n\u001b[1;32m    186\u001b[0m     bn_training \u001b[38;5;241m=\u001b[39m (\u001b[38;5;28mself\u001b[39m\u001b[38;5;241m.\u001b[39mrunning_mean \u001b[38;5;129;01mis\u001b[39;00m \u001b[38;5;28;01mNone\u001b[39;00m) \u001b[38;5;129;01mand\u001b[39;00m (\u001b[38;5;28mself\u001b[39m\u001b[38;5;241m.\u001b[39mrunning_var \u001b[38;5;129;01mis\u001b[39;00m \u001b[38;5;28;01mNone\u001b[39;00m)\n\u001b[1;32m    188\u001b[0m \u001b[38;5;250m\u001b[39m\u001b[38;5;124mr\u001b[39m\u001b[38;5;124;03m\"\"\"\u001b[39;00m\n\u001b[1;32m    189\u001b[0m \u001b[38;5;124;03mBuffers are only updated if they are to be tracked and we are in training mode. Thus they only need to be\u001b[39;00m\n\u001b[1;32m    190\u001b[0m \u001b[38;5;124;03mpassed when the update should occur (i.e. in training mode when they are tracked), or when buffer stats are\u001b[39;00m\n\u001b[1;32m    191\u001b[0m \u001b[38;5;124;03mused for normalization (i.e. in eval mode when buffers are not None).\u001b[39;00m\n\u001b[1;32m    192\u001b[0m \u001b[38;5;124;03m\"\"\"\u001b[39;00m\n\u001b[0;32m--> 193\u001b[0m \u001b[38;5;28;01mreturn\u001b[39;00m \u001b[43mF\u001b[49m\u001b[38;5;241;43m.\u001b[39;49m\u001b[43mbatch_norm\u001b[49m\u001b[43m(\u001b[49m\n\u001b[1;32m    194\u001b[0m \u001b[43m    \u001b[49m\u001b[38;5;28;43minput\u001b[39;49m\u001b[43m,\u001b[49m\n\u001b[1;32m    195\u001b[0m \u001b[43m    \u001b[49m\u001b[38;5;66;43;03m# If buffers are not to be tracked, ensure that they won't be updated\u001b[39;49;00m\n\u001b[1;32m    196\u001b[0m \u001b[43m    \u001b[49m\u001b[38;5;28;43mself\u001b[39;49m\u001b[38;5;241;43m.\u001b[39;49m\u001b[43mrunning_mean\u001b[49m\n\u001b[1;32m    197\u001b[0m \u001b[43m    \u001b[49m\u001b[38;5;28;43;01mif\u001b[39;49;00m\u001b[43m \u001b[49m\u001b[38;5;129;43;01mnot\u001b[39;49;00m\u001b[43m \u001b[49m\u001b[38;5;28;43mself\u001b[39;49m\u001b[38;5;241;43m.\u001b[39;49m\u001b[43mtraining\u001b[49m\u001b[43m \u001b[49m\u001b[38;5;129;43;01mor\u001b[39;49;00m\u001b[43m \u001b[49m\u001b[38;5;28;43mself\u001b[39;49m\u001b[38;5;241;43m.\u001b[39;49m\u001b[43mtrack_running_stats\u001b[49m\n\u001b[1;32m    198\u001b[0m \u001b[43m    \u001b[49m\u001b[38;5;28;43;01melse\u001b[39;49;00m\u001b[43m \u001b[49m\u001b[38;5;28;43;01mNone\u001b[39;49;00m\u001b[43m,\u001b[49m\n\u001b[1;32m    199\u001b[0m \u001b[43m    \u001b[49m\u001b[38;5;28;43mself\u001b[39;49m\u001b[38;5;241;43m.\u001b[39;49m\u001b[43mrunning_var\u001b[49m\u001b[43m \u001b[49m\u001b[38;5;28;43;01mif\u001b[39;49;00m\u001b[43m \u001b[49m\u001b[38;5;129;43;01mnot\u001b[39;49;00m\u001b[43m \u001b[49m\u001b[38;5;28;43mself\u001b[39;49m\u001b[38;5;241;43m.\u001b[39;49m\u001b[43mtraining\u001b[49m\u001b[43m \u001b[49m\u001b[38;5;129;43;01mor\u001b[39;49;00m\u001b[43m \u001b[49m\u001b[38;5;28;43mself\u001b[39;49m\u001b[38;5;241;43m.\u001b[39;49m\u001b[43mtrack_running_stats\u001b[49m\u001b[43m \u001b[49m\u001b[38;5;28;43;01melse\u001b[39;49;00m\u001b[43m \u001b[49m\u001b[38;5;28;43;01mNone\u001b[39;49;00m\u001b[43m,\u001b[49m\n\u001b[1;32m    200\u001b[0m \u001b[43m    \u001b[49m\u001b[38;5;28;43mself\u001b[39;49m\u001b[38;5;241;43m.\u001b[39;49m\u001b[43mweight\u001b[49m\u001b[43m,\u001b[49m\n\u001b[1;32m    201\u001b[0m \u001b[43m    \u001b[49m\u001b[38;5;28;43mself\u001b[39;49m\u001b[38;5;241;43m.\u001b[39;49m\u001b[43mbias\u001b[49m\u001b[43m,\u001b[49m\n\u001b[1;32m    202\u001b[0m \u001b[43m    \u001b[49m\u001b[43mbn_training\u001b[49m\u001b[43m,\u001b[49m\n\u001b[1;32m    203\u001b[0m \u001b[43m    \u001b[49m\u001b[43mexponential_average_factor\u001b[49m\u001b[43m,\u001b[49m\n\u001b[1;32m    204\u001b[0m \u001b[43m    \u001b[49m\u001b[38;5;28;43mself\u001b[39;49m\u001b[38;5;241;43m.\u001b[39;49m\u001b[43meps\u001b[49m\u001b[43m,\u001b[49m\n\u001b[1;32m    205\u001b[0m \u001b[43m\u001b[49m\u001b[43m)\u001b[49m\n",
      "File \u001b[0;32m~/miniconda3/lib/python3.12/site-packages/torch/nn/functional.py:2812\u001b[0m, in \u001b[0;36mbatch_norm\u001b[0;34m(input, running_mean, running_var, weight, bias, training, momentum, eps)\u001b[0m\n\u001b[1;32m   2809\u001b[0m \u001b[38;5;28;01mif\u001b[39;00m training:\n\u001b[1;32m   2810\u001b[0m     _verify_batch_size(\u001b[38;5;28minput\u001b[39m\u001b[38;5;241m.\u001b[39msize())\n\u001b[0;32m-> 2812\u001b[0m \u001b[38;5;28;01mreturn\u001b[39;00m \u001b[43mtorch\u001b[49m\u001b[38;5;241;43m.\u001b[39;49m\u001b[43mbatch_norm\u001b[49m\u001b[43m(\u001b[49m\n\u001b[1;32m   2813\u001b[0m \u001b[43m    \u001b[49m\u001b[38;5;28;43minput\u001b[39;49m\u001b[43m,\u001b[49m\n\u001b[1;32m   2814\u001b[0m \u001b[43m    \u001b[49m\u001b[43mweight\u001b[49m\u001b[43m,\u001b[49m\n\u001b[1;32m   2815\u001b[0m \u001b[43m    \u001b[49m\u001b[43mbias\u001b[49m\u001b[43m,\u001b[49m\n\u001b[1;32m   2816\u001b[0m \u001b[43m    \u001b[49m\u001b[43mrunning_mean\u001b[49m\u001b[43m,\u001b[49m\n\u001b[1;32m   2817\u001b[0m \u001b[43m    \u001b[49m\u001b[43mrunning_var\u001b[49m\u001b[43m,\u001b[49m\n\u001b[1;32m   2818\u001b[0m \u001b[43m    \u001b[49m\u001b[43mtraining\u001b[49m\u001b[43m,\u001b[49m\n\u001b[1;32m   2819\u001b[0m \u001b[43m    \u001b[49m\u001b[43mmomentum\u001b[49m\u001b[43m,\u001b[49m\n\u001b[1;32m   2820\u001b[0m \u001b[43m    \u001b[49m\u001b[43meps\u001b[49m\u001b[43m,\u001b[49m\n\u001b[1;32m   2821\u001b[0m \u001b[43m    \u001b[49m\u001b[43mtorch\u001b[49m\u001b[38;5;241;43m.\u001b[39;49m\u001b[43mbackends\u001b[49m\u001b[38;5;241;43m.\u001b[39;49m\u001b[43mcudnn\u001b[49m\u001b[38;5;241;43m.\u001b[39;49m\u001b[43menabled\u001b[49m\u001b[43m,\u001b[49m\n\u001b[1;32m   2822\u001b[0m \u001b[43m\u001b[49m\u001b[43m)\u001b[49m\n",
      "\u001b[0;31mRuntimeError\u001b[0m: running_mean should contain 1748 elements not 1000"
     ]
    }
   ],
   "source": [
    "model = SpectraNN()\n",
    "# Test evaluation with ensemble predictions\n",
    "print(\"\\nEvaluating final model...\")\n",
    "model.load_state_dict(torch.load('best_model.pth'))\n",
    "model.eval()\n",
    "\n",
    "def ensemble_predict(model, X, n_augmentations=5):\n",
    "    predictions = []\n",
    "    with torch.no_grad():\n",
    "        # Original prediction\n",
    "        pred = model(X)\n",
    "        predictions.append(pred)\n",
    "        \n",
    "        # Augmented predictions\n",
    "        for _ in range(n_augmentations-1):\n",
    "            aug_X = augment_spectra(X)\n",
    "            pred = model(aug_X)\n",
    "            predictions.append(pred)\n",
    "    \n",
    "    return torch.stack(predictions).mean(0)\n",
    "\n",
    "# Final evaluation\n",
    "outputs = ensemble_predict(model, X_test_tensor)\n",
    "_, predicted = outputs.max(1)\n",
    "accuracy = predicted.eq(y_test_tensor).float().mean()\n",
    "print(f'\\nFinal Test Accuracy: {accuracy:.4f}')\n",
    "\n",
    "# Per-class accuracy\n",
    "class_correct = list(0. for i in range(30))\n",
    "class_total = list(0. for i in range(30))\n",
    "\n",
    "with torch.no_grad():\n",
    "    for i in range(len(y_test_tensor)):\n",
    "        label = y_test_tensor[i]\n",
    "        class_correct[label] += (predicted[i] == label).item()\n",
    "        class_total[label] += 1\n",
    "\n",
    "print('\\nPer-class accuracy:')\n",
    "for i in range(30):\n",
    "    if class_total[i] > 0:\n",
    "        print(f'Accuracy of class {i}: {100 * class_correct[i] / class_total[i]:.2f}%')\n"
   ]
  },
  {
   "cell_type": "code",
   "execution_count": null,
   "metadata": {},
   "outputs": [],
   "source": [
    "# predicted.shape, y_test_tensor.shape"
   ]
  },
  {
   "cell_type": "code",
   "execution_count": 163,
   "metadata": {},
   "outputs": [
    {
     "data": {
      "image/png": "[encoded data removed]",
      "text/plain": [
       "<Figure size 1000x700 with 2 Axes>"
      ]
     },
     "metadata": {},
     "output_type": "display_data"
    }
   ],
   "source": [
    "import numpy as np\n",
    "from sklearn.metrics import confusion_matrix\n",
    "import seaborn as sns\n",
    "import matplotlib.pyplot as plt\n",
    "\n",
    "# Step 3: Compute the confusion matrix\n",
    "cm = confusion_matrix(y_test_tensor, predicted)\n",
    "\n",
    "# Step 4: Visualize the confusion matrix\n",
    "plt.figure(figsize=(10, 7))\n",
    "y_labels, antibiotics_labels = rp.datasets.bacteria(\"labels\")\n",
    "sns.heatmap(cm, annot=True, fmt='d', cmap='Blues', xticklabels=antibiotics_labels, yticklabels=antibiotics_labels)\n",
    "plt.xlabel('Predicted')\n",
    "plt.ylabel('True')\n",
    "plt.title('Confusion Matrix')\n",
    "plt.show()"
   ]
  },
  {
   "cell_type": "code",
   "execution_count": 164,
   "metadata": {},
   "outputs": [
    {
     "data": {
      "text/plain": [
       "['Caspofungin',\n",
       " 'Caspofungin',\n",
       " 'Meropenem',\n",
       " 'Meropenem',\n",
       " 'Meropenem',\n",
       " 'Daptomycin',\n",
       " 'Penicillin',\n",
       " 'Penicillin',\n",
       " 'Meropenem',\n",
       " 'Meropenem',\n",
       " 'Meropenem',\n",
       " 'Meropenem',\n",
       " 'TZP',\n",
       " 'TZP',\n",
       " 'Vancomycin',\n",
       " 'Vancomycin',\n",
       " 'Vancomycin',\n",
       " 'Vancomycin',\n",
       " 'Vancomycin',\n",
       " 'Ciprofloxacin',\n",
       " 'Vancomycin',\n",
       " 'Vancomycin',\n",
       " 'Meropenem',\n",
       " 'Ceftriaxone',\n",
       " 'Ceftriaxone',\n",
       " 'Penicillin',\n",
       " 'Penicillin',\n",
       " 'Penicillin',\n",
       " 'Penicillin',\n",
       " 'Penicillin']"
      ]
     },
     "execution_count": 164,
     "metadata": {},
     "output_type": "execute_result"
    }
   ],
   "source": [
    "antibiotics_labels"
   ]
  },
  {
   "cell_type": "markdown",
   "metadata": {},
   "source": [
    "## from adenine model"
   ]
  },
  {
   "cell_type": "code",
   "execution_count": 51,
   "metadata": {},
   "outputs": [
    {
     "name": "stderr",
     "output_type": "stream",
     "text": [
      "/Users/mitsuko/miniconda3/lib/python3.12/site-packages/keras/src/layers/core/dense.py:87: UserWarning: Do not pass an `input_shape`/`input_dim` argument to a layer. When using Sequential models, prefer using an `Input(shape)` object as the first layer in the model instead.\n",
      "  super().__init__(activity_regularizer=activity_regularizer, **kwargs)\n"
     ]
    },
    {
     "data": {
      "text/html": [
       "<pre style=\"white-space:pre;overflow-x:auto;line-height:normal;font-family:Menlo,'DejaVu Sans Mono',consolas,'Courier New',monospace\"><span style=\"font-weight: bold\">Model: \"sequential_2\"</span>\n",
       "</pre>\n"
      ],
      "text/plain": [
       "\u001b[1mModel: \"sequential_2\"\u001b[0m\n"
      ]
     },
     "metadata": {},
     "output_type": "display_data"
    },
    {
     "data": {
      "text/html": [
       "<pre style=\"white-space:pre;overflow-x:auto;line-height:normal;font-family:Menlo,'DejaVu Sans Mono',consolas,'Courier New',monospace\">┏━━━━━━━━━━━━━━━━━━━━━━━━━━━━━━━━━┳━━━━━━━━━━━━━━━━━━━━━━━━┳━━━━━━━━━━━━━━━┓\n",
       "┃<span style=\"font-weight: bold\"> Layer (type)                    </span>┃<span style=\"font-weight: bold\"> Output Shape           </span>┃<span style=\"font-weight: bold\">       Param # </span>┃\n",
       "┡━━━━━━━━━━━━━━━━━━━━━━━━━━━━━━━━━╇━━━━━━━━━━━━━━━━━━━━━━━━╇━━━━━━━━━━━━━━━┩\n",
       "│ dense_7 (<span style=\"color: #0087ff; text-decoration-color: #0087ff\">Dense</span>)                 │ (<span style=\"color: #00d7ff; text-decoration-color: #00d7ff\">None</span>, <span style=\"color: #00af00; text-decoration-color: #00af00\">128</span>)            │       <span style=\"color: #00af00; text-decoration-color: #00af00\">223,872</span> │\n",
       "├─────────────────────────────────┼────────────────────────┼───────────────┤\n",
       "│ dense_8 (<span style=\"color: #0087ff; text-decoration-color: #0087ff\">Dense</span>)                 │ (<span style=\"color: #00d7ff; text-decoration-color: #00d7ff\">None</span>, <span style=\"color: #00af00; text-decoration-color: #00af00\">64</span>)             │         <span style=\"color: #00af00; text-decoration-color: #00af00\">8,256</span> │\n",
       "├─────────────────────────────────┼────────────────────────┼───────────────┤\n",
       "│ dropout_2 (<span style=\"color: #0087ff; text-decoration-color: #0087ff\">Dropout</span>)             │ (<span style=\"color: #00d7ff; text-decoration-color: #00d7ff\">None</span>, <span style=\"color: #00af00; text-decoration-color: #00af00\">64</span>)             │             <span style=\"color: #00af00; text-decoration-color: #00af00\">0</span> │\n",
       "├─────────────────────────────────┼────────────────────────┼───────────────┤\n",
       "│ dense_9 (<span style=\"color: #0087ff; text-decoration-color: #0087ff\">Dense</span>)                 │ (<span style=\"color: #00d7ff; text-decoration-color: #00d7ff\">None</span>, <span style=\"color: #00af00; text-decoration-color: #00af00\">32</span>)             │         <span style=\"color: #00af00; text-decoration-color: #00af00\">2,080</span> │\n",
       "├─────────────────────────────────┼────────────────────────┼───────────────┤\n",
       "│ dense_10 (<span style=\"color: #0087ff; text-decoration-color: #0087ff\">Dense</span>)                │ (<span style=\"color: #00d7ff; text-decoration-color: #00d7ff\">None</span>, <span style=\"color: #00af00; text-decoration-color: #00af00\">77</span>)             │         <span style=\"color: #00af00; text-decoration-color: #00af00\">2,541</span> │\n",
       "└─────────────────────────────────┴────────────────────────┴───────────────┘\n",
       "</pre>\n"
      ],
      "text/plain": [
       "┏━━━━━━━━━━━━━━━━━━━━━━━━━━━━━━━━━┳━━━━━━━━━━━━━━━━━━━━━━━━┳━━━━━━━━━━━━━━━┓\n",
       "┃\u001b[1m \u001b[0m\u001b[1mLayer (type)                   \u001b[0m\u001b[1m \u001b[0m┃\u001b[1m \u001b[0m\u001b[1mOutput Shape          \u001b[0m\u001b[1m \u001b[0m┃\u001b[1m \u001b[0m\u001b[1m      Param #\u001b[0m\u001b[1m \u001b[0m┃\n",
       "┡━━━━━━━━━━━━━━━━━━━━━━━━━━━━━━━━━╇━━━━━━━━━━━━━━━━━━━━━━━━╇━━━━━━━━━━━━━━━┩\n",
       "│ dense_7 (\u001b[38;5;33mDense\u001b[0m)                 │ (\u001b[38;5;45mNone\u001b[0m, \u001b[38;5;34m128\u001b[0m)            │       \u001b[38;5;34m223,872\u001b[0m │\n",
       "├─────────────────────────────────┼────────────────────────┼───────────────┤\n",
       "│ dense_8 (\u001b[38;5;33mDense\u001b[0m)                 │ (\u001b[38;5;45mNone\u001b[0m, \u001b[38;5;34m64\u001b[0m)             │         \u001b[38;5;34m8,256\u001b[0m │\n",
       "├─────────────────────────────────┼────────────────────────┼───────────────┤\n",
       "│ dropout_2 (\u001b[38;5;33mDropout\u001b[0m)             │ (\u001b[38;5;45mNone\u001b[0m, \u001b[38;5;34m64\u001b[0m)             │             \u001b[38;5;34m0\u001b[0m │\n",
       "├─────────────────────────────────┼────────────────────────┼───────────────┤\n",
       "│ dense_9 (\u001b[38;5;33mDense\u001b[0m)                 │ (\u001b[38;5;45mNone\u001b[0m, \u001b[38;5;34m32\u001b[0m)             │         \u001b[38;5;34m2,080\u001b[0m │\n",
       "├─────────────────────────────────┼────────────────────────┼───────────────┤\n",
       "│ dense_10 (\u001b[38;5;33mDense\u001b[0m)                │ (\u001b[38;5;45mNone\u001b[0m, \u001b[38;5;34m77\u001b[0m)             │         \u001b[38;5;34m2,541\u001b[0m │\n",
       "└─────────────────────────────────┴────────────────────────┴───────────────┘\n"
      ]
     },
     "metadata": {},
     "output_type": "display_data"
    },
    {
     "data": {
      "text/html": [
       "<pre style=\"white-space:pre;overflow-x:auto;line-height:normal;font-family:Menlo,'DejaVu Sans Mono',consolas,'Courier New',monospace\"><span style=\"font-weight: bold\"> Total params: </span><span style=\"color: #00af00; text-decoration-color: #00af00\">236,749</span> (924.80 KB)\n",
       "</pre>\n"
      ],
      "text/plain": [
       "\u001b[1m Total params: \u001b[0m\u001b[38;5;34m236,749\u001b[0m (924.80 KB)\n"
      ]
     },
     "metadata": {},
     "output_type": "display_data"
    },
    {
     "data": {
      "text/html": [
       "<pre style=\"white-space:pre;overflow-x:auto;line-height:normal;font-family:Menlo,'DejaVu Sans Mono',consolas,'Courier New',monospace\"><span style=\"font-weight: bold\"> Trainable params: </span><span style=\"color: #00af00; text-decoration-color: #00af00\">236,749</span> (924.80 KB)\n",
       "</pre>\n"
      ],
      "text/plain": [
       "\u001b[1m Trainable params: \u001b[0m\u001b[38;5;34m236,749\u001b[0m (924.80 KB)\n"
      ]
     },
     "metadata": {},
     "output_type": "display_data"
    },
    {
     "data": {
      "text/html": [
       "<pre style=\"white-space:pre;overflow-x:auto;line-height:normal;font-family:Menlo,'DejaVu Sans Mono',consolas,'Courier New',monospace\"><span style=\"font-weight: bold\"> Non-trainable params: </span><span style=\"color: #00af00; text-decoration-color: #00af00\">0</span> (0.00 B)\n",
       "</pre>\n"
      ],
      "text/plain": [
       "\u001b[1m Non-trainable params: \u001b[0m\u001b[38;5;34m0\u001b[0m (0.00 B)\n"
      ]
     },
     "metadata": {},
     "output_type": "display_data"
    },
    {
     "name": "stdout",
     "output_type": "stream",
     "text": [
      "Epoch 1/50\n",
      "\u001b[1m3067/3067\u001b[0m \u001b[32m━━━━━━━━━━━━━━━━━━━━\u001b[0m\u001b[37m\u001b[0m \u001b[1m8s\u001b[0m 2ms/step - accuracy: 0.0111 - loss: nan - val_accuracy: 0.0023 - val_loss: nan\n",
      "Epoch 2/50\n",
      "\u001b[1m3067/3067\u001b[0m \u001b[32m━━━━━━━━━━━━━━━━━━━━\u001b[0m\u001b[37m\u001b[0m \u001b[1m7s\u001b[0m 2ms/step - accuracy: 0.0019 - loss: nan - val_accuracy: 0.0023 - val_loss: nan\n",
      "Epoch 3/50\n",
      "\u001b[1m3067/3067\u001b[0m \u001b[32m━━━━━━━━━━━━━━━━━━━━\u001b[0m\u001b[37m\u001b[0m \u001b[1m7s\u001b[0m 2ms/step - accuracy: 0.0017 - loss: nan - val_accuracy: 0.0023 - val_loss: nan\n",
      "Epoch 4/50\n",
      "\u001b[1m3067/3067\u001b[0m \u001b[32m━━━━━━━━━━━━━━━━━━━━\u001b[0m\u001b[37m\u001b[0m \u001b[1m8s\u001b[0m 3ms/step - accuracy: 0.0019 - loss: nan - val_accuracy: 0.0023 - val_loss: nan\n",
      "Epoch 5/50\n",
      "\u001b[1m3067/3067\u001b[0m \u001b[32m━━━━━━━━━━━━━━━━━━━━\u001b[0m\u001b[37m\u001b[0m \u001b[1m7s\u001b[0m 2ms/step - accuracy: 0.0021 - loss: nan - val_accuracy: 0.0023 - val_loss: nan\n",
      "Epoch 6/50\n",
      "\u001b[1m3067/3067\u001b[0m \u001b[32m━━━━━━━━━━━━━━━━━━━━\u001b[0m\u001b[37m\u001b[0m \u001b[1m8s\u001b[0m 2ms/step - accuracy: 0.0022 - loss: nan - val_accuracy: 0.0023 - val_loss: nan\n",
      "Epoch 7/50\n",
      "\u001b[1m3067/3067\u001b[0m \u001b[32m━━━━━━━━━━━━━━━━━━━━\u001b[0m\u001b[37m\u001b[0m \u001b[1m8s\u001b[0m 2ms/step - accuracy: 0.0018 - loss: nan - val_accuracy: 0.0023 - val_loss: nan\n",
      "Epoch 8/50\n",
      "\u001b[1m3067/3067\u001b[0m \u001b[32m━━━━━━━━━━━━━━━━━━━━\u001b[0m\u001b[37m\u001b[0m \u001b[1m8s\u001b[0m 3ms/step - accuracy: 0.0017 - loss: nan - val_accuracy: 0.0023 - val_loss: nan\n",
      "Epoch 9/50\n",
      "\u001b[1m3067/3067\u001b[0m \u001b[32m━━━━━━━━━━━━━━━━━━━━\u001b[0m\u001b[37m\u001b[0m \u001b[1m8s\u001b[0m 3ms/step - accuracy: 0.0020 - loss: nan - val_accuracy: 0.0023 - val_loss: nan\n",
      "Epoch 10/50\n",
      "\u001b[1m3067/3067\u001b[0m \u001b[32m━━━━━━━━━━━━━━━━━━━━\u001b[0m\u001b[37m\u001b[0m \u001b[1m8s\u001b[0m 2ms/step - accuracy: 0.0017 - loss: nan - val_accuracy: 0.0023 - val_loss: nan\n",
      "Epoch 11/50\n",
      "\u001b[1m3067/3067\u001b[0m \u001b[32m━━━━━━━━━━━━━━━━━━━━\u001b[0m\u001b[37m\u001b[0m \u001b[1m8s\u001b[0m 3ms/step - accuracy: 0.0019 - loss: nan - val_accuracy: 0.0023 - val_loss: nan\n",
      "Epoch 12/50\n",
      "\u001b[1m3067/3067\u001b[0m \u001b[32m━━━━━━━━━━━━━━━━━━━━\u001b[0m\u001b[37m\u001b[0m \u001b[1m8s\u001b[0m 2ms/step - accuracy: 0.0017 - loss: nan - val_accuracy: 0.0023 - val_loss: nan\n",
      "Epoch 13/50\n",
      "\u001b[1m3067/3067\u001b[0m \u001b[32m━━━━━━━━━━━━━━━━━━━━\u001b[0m\u001b[37m\u001b[0m \u001b[1m7s\u001b[0m 2ms/step - accuracy: 0.0017 - loss: nan - val_accuracy: 0.0023 - val_loss: nan\n",
      "Epoch 14/50\n",
      "\u001b[1m3067/3067\u001b[0m \u001b[32m━━━━━━━━━━━━━━━━━━━━\u001b[0m\u001b[37m\u001b[0m \u001b[1m8s\u001b[0m 2ms/step - accuracy: 0.0018 - loss: nan - val_accuracy: 0.0023 - val_loss: nan\n",
      "Epoch 15/50\n",
      "\u001b[1m3067/3067\u001b[0m \u001b[32m━━━━━━━━━━━━━━━━━━━━\u001b[0m\u001b[37m\u001b[0m \u001b[1m7s\u001b[0m 2ms/step - accuracy: 0.0017 - loss: nan - val_accuracy: 0.0023 - val_loss: nan\n",
      "Epoch 16/50\n",
      "\u001b[1m3067/3067\u001b[0m \u001b[32m━━━━━━━━━━━━━━━━━━━━\u001b[0m\u001b[37m\u001b[0m \u001b[1m8s\u001b[0m 2ms/step - accuracy: 0.0019 - loss: nan - val_accuracy: 0.0023 - val_loss: nan\n",
      "Epoch 17/50\n",
      "\u001b[1m3067/3067\u001b[0m \u001b[32m━━━━━━━━━━━━━━━━━━━━\u001b[0m\u001b[37m\u001b[0m \u001b[1m7s\u001b[0m 2ms/step - accuracy: 0.0016 - loss: nan - val_accuracy: 0.0023 - val_loss: nan\n",
      "Epoch 18/50\n",
      "\u001b[1m3067/3067\u001b[0m \u001b[32m━━━━━━━━━━━━━━━━━━━━\u001b[0m\u001b[37m\u001b[0m \u001b[1m8s\u001b[0m 3ms/step - accuracy: 0.0017 - loss: nan - val_accuracy: 0.0023 - val_loss: nan\n",
      "Epoch 19/50\n",
      "\u001b[1m3067/3067\u001b[0m \u001b[32m━━━━━━━━━━━━━━━━━━━━\u001b[0m\u001b[37m\u001b[0m \u001b[1m7s\u001b[0m 2ms/step - accuracy: 0.0018 - loss: nan - val_accuracy: 0.0023 - val_loss: nan\n",
      "Epoch 20/50\n",
      "\u001b[1m3067/3067\u001b[0m \u001b[32m━━━━━━━━━━━━━━━━━━━━\u001b[0m\u001b[37m\u001b[0m \u001b[1m7s\u001b[0m 2ms/step - accuracy: 0.0017 - loss: nan - val_accuracy: 0.0023 - val_loss: nan\n",
      "Epoch 21/50\n",
      "\u001b[1m3067/3067\u001b[0m \u001b[32m━━━━━━━━━━━━━━━━━━━━\u001b[0m\u001b[37m\u001b[0m \u001b[1m8s\u001b[0m 2ms/step - accuracy: 0.0018 - loss: nan - val_accuracy: 0.0023 - val_loss: nan\n",
      "Epoch 22/50\n",
      "\u001b[1m3067/3067\u001b[0m \u001b[32m━━━━━━━━━━━━━━━━━━━━\u001b[0m\u001b[37m\u001b[0m \u001b[1m7s\u001b[0m 2ms/step - accuracy: 0.0018 - loss: nan - val_accuracy: 0.0023 - val_loss: nan\n",
      "Epoch 23/50\n",
      "\u001b[1m3067/3067\u001b[0m \u001b[32m━━━━━━━━━━━━━━━━━━━━\u001b[0m\u001b[37m\u001b[0m \u001b[1m7s\u001b[0m 2ms/step - accuracy: 0.0017 - loss: nan - val_accuracy: 0.0023 - val_loss: nan\n",
      "Epoch 24/50\n",
      "\u001b[1m3067/3067\u001b[0m \u001b[32m━━━━━━━━━━━━━━━━━━━━\u001b[0m\u001b[37m\u001b[0m \u001b[1m7s\u001b[0m 2ms/step - accuracy: 0.0016 - loss: nan - val_accuracy: 0.0023 - val_loss: nan\n",
      "Epoch 25/50\n",
      "\u001b[1m3067/3067\u001b[0m \u001b[32m━━━━━━━━━━━━━━━━━━━━\u001b[0m\u001b[37m\u001b[0m \u001b[1m7s\u001b[0m 2ms/step - accuracy: 0.0018 - loss: nan - val_accuracy: 0.0023 - val_loss: nan\n",
      "Epoch 26/50\n",
      "\u001b[1m3067/3067\u001b[0m \u001b[32m━━━━━━━━━━━━━━━━━━━━\u001b[0m\u001b[37m\u001b[0m \u001b[1m8s\u001b[0m 2ms/step - accuracy: 0.0019 - loss: nan - val_accuracy: 0.0023 - val_loss: nan\n",
      "Epoch 27/50\n",
      "\u001b[1m3067/3067\u001b[0m \u001b[32m━━━━━━━━━━━━━━━━━━━━\u001b[0m\u001b[37m\u001b[0m \u001b[1m7s\u001b[0m 2ms/step - accuracy: 0.0018 - loss: nan - val_accuracy: 0.0023 - val_loss: nan\n",
      "Epoch 28/50\n",
      "\u001b[1m3067/3067\u001b[0m \u001b[32m━━━━━━━━━━━━━━━━━━━━\u001b[0m\u001b[37m\u001b[0m \u001b[1m7s\u001b[0m 2ms/step - accuracy: 0.0017 - loss: nan - val_accuracy: 0.0023 - val_loss: nan\n",
      "Epoch 29/50\n",
      "\u001b[1m3067/3067\u001b[0m \u001b[32m━━━━━━━━━━━━━━━━━━━━\u001b[0m\u001b[37m\u001b[0m \u001b[1m7s\u001b[0m 2ms/step - accuracy: 0.0017 - loss: nan - val_accuracy: 0.0023 - val_loss: nan\n",
      "Epoch 30/50\n",
      "\u001b[1m3067/3067\u001b[0m \u001b[32m━━━━━━━━━━━━━━━━━━━━\u001b[0m\u001b[37m\u001b[0m \u001b[1m7s\u001b[0m 2ms/step - accuracy: 0.0018 - loss: nan - val_accuracy: 0.0023 - val_loss: nan\n",
      "Epoch 31/50\n",
      "\u001b[1m3067/3067\u001b[0m \u001b[32m━━━━━━━━━━━━━━━━━━━━\u001b[0m\u001b[37m\u001b[0m \u001b[1m7s\u001b[0m 2ms/step - accuracy: 0.0018 - loss: nan - val_accuracy: 0.0023 - val_loss: nan\n",
      "Epoch 32/50\n",
      "\u001b[1m3067/3067\u001b[0m \u001b[32m━━━━━━━━━━━━━━━━━━━━\u001b[0m\u001b[37m\u001b[0m \u001b[1m7s\u001b[0m 2ms/step - accuracy: 0.0017 - loss: nan - val_accuracy: 0.0023 - val_loss: nan\n",
      "Epoch 33/50\n",
      "\u001b[1m3067/3067\u001b[0m \u001b[32m━━━━━━━━━━━━━━━━━━━━\u001b[0m\u001b[37m\u001b[0m \u001b[1m7s\u001b[0m 2ms/step - accuracy: 0.0019 - loss: nan - val_accuracy: 0.0023 - val_loss: nan\n",
      "Epoch 34/50\n",
      "\u001b[1m3067/3067\u001b[0m \u001b[32m━━━━━━━━━━━━━━━━━━━━\u001b[0m\u001b[37m\u001b[0m \u001b[1m7s\u001b[0m 2ms/step - accuracy: 0.0021 - loss: nan - val_accuracy: 0.0023 - val_loss: nan\n",
      "Epoch 35/50\n",
      "\u001b[1m3067/3067\u001b[0m \u001b[32m━━━━━━━━━━━━━━━━━━━━\u001b[0m\u001b[37m\u001b[0m \u001b[1m7s\u001b[0m 2ms/step - accuracy: 0.0018 - loss: nan - val_accuracy: 0.0023 - val_loss: nan\n",
      "Epoch 36/50\n",
      "\u001b[1m3067/3067\u001b[0m \u001b[32m━━━━━━━━━━━━━━━━━━━━\u001b[0m\u001b[37m\u001b[0m \u001b[1m10s\u001b[0m 2ms/step - accuracy: 0.0019 - loss: nan - val_accuracy: 0.0023 - val_loss: nan\n",
      "Epoch 37/50\n",
      "\u001b[1m3067/3067\u001b[0m \u001b[32m━━━━━━━━━━━━━━━━━━━━\u001b[0m\u001b[37m\u001b[0m \u001b[1m7s\u001b[0m 2ms/step - accuracy: 0.0019 - loss: nan - val_accuracy: 0.0023 - val_loss: nan\n",
      "Epoch 38/50\n",
      "\u001b[1m3067/3067\u001b[0m \u001b[32m━━━━━━━━━━━━━━━━━━━━\u001b[0m\u001b[37m\u001b[0m \u001b[1m6s\u001b[0m 2ms/step - accuracy: 0.0019 - loss: nan - val_accuracy: 0.0023 - val_loss: nan\n",
      "Epoch 39/50\n",
      "\u001b[1m3067/3067\u001b[0m \u001b[32m━━━━━━━━━━━━━━━━━━━━\u001b[0m\u001b[37m\u001b[0m \u001b[1m7s\u001b[0m 2ms/step - accuracy: 0.0018 - loss: nan - val_accuracy: 0.0023 - val_loss: nan\n",
      "Epoch 40/50\n",
      "\u001b[1m3067/3067\u001b[0m \u001b[32m━━━━━━━━━━━━━━━━━━━━\u001b[0m\u001b[37m\u001b[0m \u001b[1m7s\u001b[0m 2ms/step - accuracy: 0.0019 - loss: nan - val_accuracy: 0.0023 - val_loss: nan\n",
      "Epoch 41/50\n",
      "\u001b[1m3067/3067\u001b[0m \u001b[32m━━━━━━━━━━━━━━━━━━━━\u001b[0m\u001b[37m\u001b[0m \u001b[1m7s\u001b[0m 2ms/step - accuracy: 0.0019 - loss: nan - val_accuracy: 0.0023 - val_loss: nan\n",
      "Epoch 42/50\n",
      "\u001b[1m3067/3067\u001b[0m \u001b[32m━━━━━━━━━━━━━━━━━━━━\u001b[0m\u001b[37m\u001b[0m \u001b[1m7s\u001b[0m 2ms/step - accuracy: 0.0018 - loss: nan - val_accuracy: 0.0023 - val_loss: nan\n",
      "Epoch 43/50\n",
      "\u001b[1m3067/3067\u001b[0m \u001b[32m━━━━━━━━━━━━━━━━━━━━\u001b[0m\u001b[37m\u001b[0m \u001b[1m7s\u001b[0m 2ms/step - accuracy: 0.0019 - loss: nan - val_accuracy: 0.0023 - val_loss: nan\n",
      "Epoch 44/50\n",
      "\u001b[1m3067/3067\u001b[0m \u001b[32m━━━━━━━━━━━━━━━━━━━━\u001b[0m\u001b[37m\u001b[0m \u001b[1m8s\u001b[0m 3ms/step - accuracy: 0.0017 - loss: nan - val_accuracy: 0.0023 - val_loss: nan\n",
      "Epoch 45/50\n",
      "\u001b[1m3067/3067\u001b[0m \u001b[32m━━━━━━━━━━━━━━━━━━━━\u001b[0m\u001b[37m\u001b[0m \u001b[1m7s\u001b[0m 2ms/step - accuracy: 0.0017 - loss: nan - val_accuracy: 0.0023 - val_loss: nan\n",
      "Epoch 46/50\n",
      "\u001b[1m3067/3067\u001b[0m \u001b[32m━━━━━━━━━━━━━━━━━━━━\u001b[0m\u001b[37m\u001b[0m \u001b[1m8s\u001b[0m 2ms/step - accuracy: 0.0017 - loss: nan - val_accuracy: 0.0023 - val_loss: nan\n",
      "Epoch 47/50\n",
      "\u001b[1m3067/3067\u001b[0m \u001b[32m━━━━━━━━━━━━━━━━━━━━\u001b[0m\u001b[37m\u001b[0m \u001b[1m7s\u001b[0m 2ms/step - accuracy: 0.0018 - loss: nan - val_accuracy: 0.0023 - val_loss: nan\n",
      "Epoch 48/50\n",
      "\u001b[1m3067/3067\u001b[0m \u001b[32m━━━━━━━━━━━━━━━━━━━━\u001b[0m\u001b[37m\u001b[0m \u001b[1m7s\u001b[0m 2ms/step - accuracy: 0.0016 - loss: nan - val_accuracy: 0.0023 - val_loss: nan\n",
      "Epoch 49/50\n",
      "\u001b[1m3067/3067\u001b[0m \u001b[32m━━━━━━━━━━━━━━━━━━━━\u001b[0m\u001b[37m\u001b[0m \u001b[1m7s\u001b[0m 2ms/step - accuracy: 0.0017 - loss: nan - val_accuracy: 0.0023 - val_loss: nan\n",
      "Epoch 50/50\n",
      "\u001b[1m3067/3067\u001b[0m \u001b[32m━━━━━━━━━━━━━━━━━━━━\u001b[0m\u001b[37m\u001b[0m \u001b[1m7s\u001b[0m 2ms/step - accuracy: 0.0020 - loss: nan - val_accuracy: 0.0023 - val_loss: nan\n",
      "\u001b[1m384/384\u001b[0m \u001b[32m━━━━━━━━━━━━━━━━━━━━\u001b[0m\u001b[37m\u001b[0m \u001b[1m0s\u001b[0m 755us/step - accuracy: 0.0023 - loss: nan\n",
      "Test Loss: nan\n",
      "Test Accuracy: 0.002119853161275387\n",
      "\u001b[1m384/384\u001b[0m \u001b[32m━━━━━━━━━━━━━━━━━━━━\u001b[0m\u001b[37m\u001b[0m \u001b[1m0s\u001b[0m 627us/step\n"
     ]
    },
    {
     "ename": "ValueError",
     "evalue": "y contains previously unseen labels: [64]",
     "output_type": "error",
     "traceback": [
      "\u001b[0;31m---------------------------------------------------------------------------\u001b[0m",
      "\u001b[0;31mValueError\u001b[0m                                Traceback (most recent call last)",
      "Cell \u001b[0;32mIn[51], line 76\u001b[0m\n\u001b[1;32m     74\u001b[0m \u001b[38;5;66;03m# Compare predictions with actual values\u001b[39;00m\n\u001b[1;32m     75\u001b[0m \u001b[38;5;28;01mfor\u001b[39;00m i \u001b[38;5;129;01min\u001b[39;00m \u001b[38;5;28mrange\u001b[39m(\u001b[38;5;241m5\u001b[39m):\n\u001b[0;32m---> 76\u001b[0m     \u001b[38;5;28mprint\u001b[39m(\u001b[38;5;124mf\u001b[39m\u001b[38;5;124m\"\u001b[39m\u001b[38;5;124mPredicted: \u001b[39m\u001b[38;5;132;01m{\u001b[39;00mpredicted_substrates[i]\u001b[38;5;132;01m}\u001b[39;00m\u001b[38;5;124m, Actual: \u001b[39m\u001b[38;5;132;01m{\u001b[39;00m\u001b[43mlabel_encoder\u001b[49m\u001b[38;5;241;43m.\u001b[39;49m\u001b[43minverse_transform\u001b[49m\u001b[43m(\u001b[49m\u001b[43m[\u001b[49m\u001b[43mnp\u001b[49m\u001b[38;5;241;43m.\u001b[39;49m\u001b[43margmax\u001b[49m\u001b[43m(\u001b[49m\u001b[43my_test\u001b[49m\u001b[43m[\u001b[49m\u001b[43mi\u001b[49m\u001b[43m]\u001b[49m\u001b[43m)\u001b[49m\u001b[43m]\u001b[49m\u001b[43m)\u001b[49m[\u001b[38;5;241m0\u001b[39m]\u001b[38;5;132;01m}\u001b[39;00m\u001b[38;5;124m\"\u001b[39m)\n",
      "File \u001b[0;32m~/miniconda3/lib/python3.12/site-packages/sklearn/preprocessing/_label.py:162\u001b[0m, in \u001b[0;36mLabelEncoder.inverse_transform\u001b[0;34m(self, y)\u001b[0m\n\u001b[1;32m    156\u001b[0m diff \u001b[38;5;241m=\u001b[39m _setdiff1d(\n\u001b[1;32m    157\u001b[0m     ar1\u001b[38;5;241m=\u001b[39my,\n\u001b[1;32m    158\u001b[0m     ar2\u001b[38;5;241m=\u001b[39mxp\u001b[38;5;241m.\u001b[39marange(\u001b[38;5;28mself\u001b[39m\u001b[38;5;241m.\u001b[39mclasses_\u001b[38;5;241m.\u001b[39mshape[\u001b[38;5;241m0\u001b[39m], device\u001b[38;5;241m=\u001b[39mdevice(y)),\n\u001b[1;32m    159\u001b[0m     xp\u001b[38;5;241m=\u001b[39mxp,\n\u001b[1;32m    160\u001b[0m )\n\u001b[1;32m    161\u001b[0m \u001b[38;5;28;01mif\u001b[39;00m diff\u001b[38;5;241m.\u001b[39mshape[\u001b[38;5;241m0\u001b[39m]:\n\u001b[0;32m--> 162\u001b[0m     \u001b[38;5;28;01mraise\u001b[39;00m \u001b[38;5;167;01mValueError\u001b[39;00m(\u001b[38;5;124m\"\u001b[39m\u001b[38;5;124my contains previously unseen labels: \u001b[39m\u001b[38;5;132;01m%s\u001b[39;00m\u001b[38;5;124m\"\u001b[39m \u001b[38;5;241m%\u001b[39m \u001b[38;5;28mstr\u001b[39m(diff))\n\u001b[1;32m    163\u001b[0m y \u001b[38;5;241m=\u001b[39m xp\u001b[38;5;241m.\u001b[39masarray(y)\n\u001b[1;32m    164\u001b[0m \u001b[38;5;28;01mreturn\u001b[39;00m xp\u001b[38;5;241m.\u001b[39mtake(\u001b[38;5;28mself\u001b[39m\u001b[38;5;241m.\u001b[39mclasses_, y, axis\u001b[38;5;241m=\u001b[39m\u001b[38;5;241m0\u001b[39m)\n",
      "\u001b[0;31mValueError\u001b[0m: y contains previously unseen labels: [64]"
     ]
    }
   ],
   "source": [
    "import pandas as pd\n",
    "import numpy as np\n",
    "from sklearn.model_selection import train_test_split\n",
    "from sklearn.preprocessing import StandardScaler, LabelEncoder, MinMaxScaler\n",
    "from tensorflow.keras.models import Sequential\n",
    "from tensorflow.keras.layers import Dense, Dropout\n",
    "from tensorflow.keras.utils import to_categorical\n",
    "from tensorflow.keras.optimizers import Adam\n",
    "\n",
    "import torch\n",
    "import torch.nn as nn\n",
    "import torch.optim as optim\n",
    "import numpy as np\n",
    "import ramanspy as rp\n",
    "\n",
    "from torch.utils.data import DataLoader, TensorDataset\n",
    "from torch.optim.lr_scheduler import CosineAnnealingLR\n",
    "from sklearn.preprocessing import StandardScaler, RobustScaler\n",
    "\n",
    "\n",
    "\n",
    "# Split the data into training (80%), validation (10%), and test (10%) sets\n",
    "X_train, X_temp, y_train, y_temp = train_test_split(X_combined_resized, y_combined_one_hot, test_size=0.2, random_state=42)\n",
    "X_val, X_test, y_val, y_test = train_test_split(X_temp, y_temp, test_size=0.5, random_state=42)\n",
    "\n",
    "# Standardize the data\n",
    "# scaler = StandardScaler()\n",
    "scaler = MinMaxScaler()\n",
    "X_train = scaler.fit_transform(X_train)\n",
    "X_val = scaler.transform(X_val)\n",
    "X_test = scaler.transform(X_test)\n",
    "\n",
    "# Build the neural network model\n",
    "model = Sequential()\n",
    "\n",
    "# Input layer\n",
    "model.add(Dense(128, input_dim=X_train.shape[1], activation='relu'))\n",
    "\n",
    "# Hidden layers\n",
    "model.add(Dense(64, activation='relu'))\n",
    "model.add(Dropout(0.2))  # Dropout for regularization\n",
    "model.add(Dense(32, activation='relu'))\n",
    "\n",
    "# Output layer (for multi-class classification)\n",
    "model.add(Dense(num_classes, activation='softmax'))\n",
    "\n",
    "# Compile the model with a lower learning rate and gradient clipping\n",
    "model.compile(optimizer=Adam(learning_rate=0.001, clipvalue=1.0), loss='categorical_crossentropy', metrics=['accuracy'])\n",
    "\n",
    "# Print the model summary\n",
    "model.summary()\n",
    "\n",
    "# Train the model\n",
    "history = model.fit(\n",
    "    X_train, y_train,\n",
    "    validation_data=(X_val, y_val),\n",
    "    epochs=50,\n",
    "    batch_size=32,\n",
    "    verbose=1\n",
    ")\n",
    "\n",
    "# Evaluate the model on the test set\n",
    "test_loss, test_accuracy = model.evaluate(X_test, y_test, verbose=1)\n",
    "print(f\"Test Loss: {test_loss}\")\n",
    "print(f\"Test Accuracy: {test_accuracy}\")\n",
    "\n",
    "# Make predictions on the test set\n",
    "predictions = model.predict(X_test)\n",
    "predicted_labels = np.argmax(predictions, axis=1)  # Convert probabilities to class labels\n",
    "\n",
    "# Decode the predicted labels back to substrate names\n",
    "predicted_substrates = label_encoder.inverse_transform(predicted_labels)\n",
    "\n",
    "# Compare predictions with actual values\n",
    "for i in range(5):\n",
    "    print(f\"Predicted: {predicted_substrates[i]}, Actual: {label_encoder.inverse_transform([np.argmax(y_test[i])])[0]}\")"
   ]
  },
  {
   "cell_type": "code",
   "execution_count": null,
   "metadata": {},
   "outputs": [],
   "source": []
  }
 ],
 "metadata": {
  "kernelspec": {
   "display_name": "base",
   "language": "python",
   "name": "python3"
  },
  "language_info": {
   "codemirror_mode": {
    "name": "ipython",
    "version": 3
   },
   "file_extension": ".py",
   "mimetype": "text/x-python",
   "name": "python",
   "nbconvert_exporter": "python",
   "pygments_lexer": "ipython3",
   "version": "3.12.8"
  }
 },
 "nbformat": 4,
 "nbformat_minor": 2
}
